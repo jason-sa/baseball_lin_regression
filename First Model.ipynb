{
 "cells": [
  {
   "cell_type": "markdown",
   "metadata": {},
   "source": [
    "## Linear models for predicting MLB salary in 6 years with rookie stats"
   ]
  },
  {
   "cell_type": "markdown",
   "metadata": {},
   "source": [
    "### Future notes / todos\n",
    "* Distribution of log(salary) is somewhat normal. Need to confirm if this is OK or not.\n",
    "* Should put age into feature set and see if the younger the rookie then better chance of a higher salary.\n",
    "* Need some type of pairplot as probably some of my features are correlated like HRs and TBs.\n",
    "* Probably need to get more data"
   ]
  },
  {
   "cell_type": "code",
   "execution_count": 1,
   "metadata": {
    "ExecuteTime": {
     "end_time": "2018-10-12T02:43:37.919295Z",
     "start_time": "2018-10-12T02:43:35.951970Z"
    }
   },
   "outputs": [],
   "source": [
    "# Necessary imports\n",
    "import pandas as pd\n",
    "import numpy as np\n",
    "import seaborn as sns\n",
    "from  matplotlib import pyplot as plt\n",
    "from sklearn.linear_model import LinearRegression\n",
    "from sklearn.model_selection import train_test_split\n",
    "from sklearn.linear_model import RidgeCV\n",
    "from sklearn.linear_model import LassoCV\n",
    "from sklearn.pipeline import make_pipeline\n",
    "from sklearn.preprocessing import PolynomialFeatures\n",
    "from sklearn.model_selection import KFold\n",
    "from sklearn.preprocessing import StandardScaler\n",
    "from sklearn.linear_model import Ridge\n",
    "from sklearn.linear_model import Lasso\n",
    "from sklearn.model_selection import cross_val_score\n",
    "from sklearn.metrics import mean_squared_error\n",
    "import scipy.stats as stats\n",
    "\n",
    "# %config InlineBackend.figure_format = 'svg'\n",
    "%matplotlib inline\n",
    "\n",
    "%config InlineBackend.figure_format = 'png'\n",
    "import matplotlib as mpl\n",
    "mpl.rcParams['figure.dpi']= 300"
   ]
  },
  {
   "cell_type": "code",
   "execution_count": 2,
   "metadata": {
    "ExecuteTime": {
     "end_time": "2018-10-12T02:43:37.927783Z",
     "start_time": "2018-10-12T02:43:37.923004Z"
    }
   },
   "outputs": [],
   "source": [
    "# set paths of the data files\n",
    "PATH_S = '/Users/jadams/ds/metis/baseball_lin_regression/data/processed_df/hist_salaries.csv'\n",
    "PATH_R = '/Users/jadams/ds/metis/baseball_lin_regression/data/processed_df/rookies.csv'\n",
    "PATH_RS = '/Users/jadams/ds/metis/baseball_lin_regression/data/processed_df/agg_df_stats.csv'"
   ]
  },
  {
   "cell_type": "code",
   "execution_count": 3,
   "metadata": {
    "ExecuteTime": {
     "end_time": "2018-10-12T02:43:37.940941Z",
     "start_time": "2018-10-12T02:43:37.933586Z"
    }
   },
   "outputs": [],
   "source": [
    "def mean_mse_Lasso(model,name):\n",
    "    mse = model.get_params()[name].mse_path_\n",
    "    alphas = model.get_params()[name].alphas_\n",
    "    mse_df = pd.DataFrame(data=mse, index=alphas)\n",
    "    return mse_df.loc[model.get_params()[name].alpha_].mean()"
   ]
  },
  {
   "cell_type": "code",
   "execution_count": 4,
   "metadata": {
    "ExecuteTime": {
     "end_time": "2018-10-12T02:43:37.953252Z",
     "start_time": "2018-10-12T02:43:37.943931Z"
    }
   },
   "outputs": [],
   "source": [
    "def mean_mse_Ridge(model,name):\n",
    "    mse = model.get_params()[name].mse_path_\n",
    "    alphas = model.get_params()[name].alphas_\n",
    "    mse_df = pd.DataFrame(data=mse, index=alphas)\n",
    "    return mse_df.loc[model.get_params()[name].alpha_].mean()"
   ]
  },
  {
   "cell_type": "code",
   "execution_count": 5,
   "metadata": {
    "ExecuteTime": {
     "end_time": "2018-10-12T02:43:38.025673Z",
     "start_time": "2018-10-12T02:43:37.963009Z"
    }
   },
   "outputs": [],
   "source": [
    "# get the salary and stats data\n",
    "df_stats = pd.read_csv(PATH_RS, index_col = 0)\n",
    "df_salary = pd.read_csv(PATH_S, index_col = 0)"
   ]
  },
  {
   "cell_type": "markdown",
   "metadata": {},
   "source": [
    "Merge the stats and salary data frames together. `df_stats` has only rookie batters from 1985-2017. `df_salary` has all MLB salaries from 1985-2017 as long as the player was paid for 6 years from rookie season."
   ]
  },
  {
   "cell_type": "code",
   "execution_count": 6,
   "metadata": {
    "ExecuteTime": {
     "end_time": "2018-10-12T02:43:38.068547Z",
     "start_time": "2018-10-12T02:43:38.028623Z"
    }
   },
   "outputs": [
    {
     "data": {
      "text/plain": [
       "(919, 23)"
      ]
     },
     "execution_count": 6,
     "metadata": {},
     "output_type": "execute_result"
    }
   ],
   "source": [
    "salary_stats_df = df_stats.merge(df_salary, on='name_year')\n",
    "salary_stats_df = salary_stats_df.loc[:,['Year_x', 'Age_x', 'name_x', 'debut', 'position', 'G', 'PA', 'AB', 'R',\n",
    "       'H', 'SB', 'HR', 'TB', '2B', '3B', 'RBI', 'BB', 'SO', 'name_year',\n",
    "        'Salary', 'SrvTm', 'today_salary']]\n",
    "salary_stats_df.rename(columns={'Year_x':'rookie_year', 'Age_x':'age', 'name_x':'name'}, inplace=True)\n",
    "salary_stats_df['log_today_salary'] = np.log10(salary_stats_df.today_salary) # log transform the salary\n",
    "salary_stats_df.shape"
   ]
  },
  {
   "cell_type": "markdown",
   "metadata": {},
   "source": [
    "Create `X` and `y`, and make a train / test split of 20%."
   ]
  },
  {
   "cell_type": "code",
   "execution_count": 7,
   "metadata": {
    "ExecuteTime": {
     "end_time": "2018-10-12T02:43:38.088801Z",
     "start_time": "2018-10-12T02:43:38.071301Z"
    }
   },
   "outputs": [
    {
     "name": "stdout",
     "output_type": "stream",
     "text": [
      "X sample: (919, 14)\n",
      "y sample: (919,)\n",
      "X train: (735, 14)\n",
      "y train: (735,)\n"
     ]
    }
   ],
   "source": [
    "y = salary_stats_df.log_today_salary\n",
    "\n",
    "X = salary_stats_df.loc[:,['G', 'PA', 'AB', 'R', 'H', 'SB', 'HR', 'TB', '2B', '3B', 'RBI', 'BB', 'SO', 'age']]\n",
    "print('X sample:',X.shape)\n",
    "print('y sample:',y.shape)\n",
    "\n",
    "X_train, X_test, y_train, y_test = train_test_split(X, y, test_size=0.2,random_state=42)\n",
    "\n",
    "print('X train:', X_train.shape)\n",
    "print('y train:', y_train.shape)"
   ]
  },
  {
   "cell_type": "code",
   "execution_count": 161,
   "metadata": {
    "ExecuteTime": {
     "end_time": "2018-10-12T16:10:12.308734Z",
     "start_time": "2018-10-12T16:10:12.247871Z"
    }
   },
   "outputs": [
    {
     "data": {
      "text/html": [
       "<div>\n",
       "<style scoped>\n",
       "    .dataframe tbody tr th:only-of-type {\n",
       "        vertical-align: middle;\n",
       "    }\n",
       "\n",
       "    .dataframe tbody tr th {\n",
       "        vertical-align: top;\n",
       "    }\n",
       "\n",
       "    .dataframe thead th {\n",
       "        text-align: right;\n",
       "    }\n",
       "</style>\n",
       "<table border=\"1\" class=\"dataframe\">\n",
       "  <thead>\n",
       "    <tr style=\"text-align: right;\">\n",
       "      <th></th>\n",
       "      <th>G</th>\n",
       "      <th>PA</th>\n",
       "      <th>AB</th>\n",
       "      <th>R</th>\n",
       "      <th>H</th>\n",
       "      <th>SB</th>\n",
       "      <th>HR</th>\n",
       "      <th>TB</th>\n",
       "      <th>2B</th>\n",
       "      <th>3B</th>\n",
       "      <th>RBI</th>\n",
       "      <th>BB</th>\n",
       "      <th>SO</th>\n",
       "      <th>age</th>\n",
       "    </tr>\n",
       "  </thead>\n",
       "  <tbody>\n",
       "    <tr>\n",
       "      <th>count</th>\n",
       "      <td>735.000000</td>\n",
       "      <td>735.000000</td>\n",
       "      <td>735.000000</td>\n",
       "      <td>735.000000</td>\n",
       "      <td>735.000000</td>\n",
       "      <td>735.000000</td>\n",
       "      <td>735.000000</td>\n",
       "      <td>735.000000</td>\n",
       "      <td>735.000000</td>\n",
       "      <td>735.000000</td>\n",
       "      <td>735.000000</td>\n",
       "      <td>735.000000</td>\n",
       "      <td>735.000000</td>\n",
       "      <td>735.000000</td>\n",
       "    </tr>\n",
       "    <tr>\n",
       "      <th>mean</th>\n",
       "      <td>87.546939</td>\n",
       "      <td>308.519728</td>\n",
       "      <td>277.575510</td>\n",
       "      <td>36.733333</td>\n",
       "      <td>73.261224</td>\n",
       "      <td>6.122449</td>\n",
       "      <td>6.795918</td>\n",
       "      <td>111.812245</td>\n",
       "      <td>13.872109</td>\n",
       "      <td>2.145578</td>\n",
       "      <td>32.273469</td>\n",
       "      <td>23.840816</td>\n",
       "      <td>52.493878</td>\n",
       "      <td>23.987755</td>\n",
       "    </tr>\n",
       "    <tr>\n",
       "      <th>std</th>\n",
       "      <td>36.252260</td>\n",
       "      <td>159.861680</td>\n",
       "      <td>144.128744</td>\n",
       "      <td>22.684596</td>\n",
       "      <td>41.639687</td>\n",
       "      <td>9.298192</td>\n",
       "      <td>6.331809</td>\n",
       "      <td>65.752095</td>\n",
       "      <td>8.799614</td>\n",
       "      <td>2.305491</td>\n",
       "      <td>21.019649</td>\n",
       "      <td>16.201825</td>\n",
       "      <td>31.410869</td>\n",
       "      <td>2.000303</td>\n",
       "    </tr>\n",
       "    <tr>\n",
       "      <th>min</th>\n",
       "      <td>3.000000</td>\n",
       "      <td>9.000000</td>\n",
       "      <td>8.000000</td>\n",
       "      <td>0.000000</td>\n",
       "      <td>0.000000</td>\n",
       "      <td>0.000000</td>\n",
       "      <td>0.000000</td>\n",
       "      <td>0.000000</td>\n",
       "      <td>0.000000</td>\n",
       "      <td>0.000000</td>\n",
       "      <td>0.000000</td>\n",
       "      <td>0.000000</td>\n",
       "      <td>1.000000</td>\n",
       "      <td>19.000000</td>\n",
       "    </tr>\n",
       "    <tr>\n",
       "      <th>25%</th>\n",
       "      <td>57.000000</td>\n",
       "      <td>179.000000</td>\n",
       "      <td>161.500000</td>\n",
       "      <td>19.500000</td>\n",
       "      <td>41.000000</td>\n",
       "      <td>1.000000</td>\n",
       "      <td>2.000000</td>\n",
       "      <td>61.000000</td>\n",
       "      <td>7.000000</td>\n",
       "      <td>0.000000</td>\n",
       "      <td>16.500000</td>\n",
       "      <td>12.000000</td>\n",
       "      <td>29.000000</td>\n",
       "      <td>23.000000</td>\n",
       "    </tr>\n",
       "    <tr>\n",
       "      <th>50%</th>\n",
       "      <td>85.000000</td>\n",
       "      <td>275.000000</td>\n",
       "      <td>244.000000</td>\n",
       "      <td>31.000000</td>\n",
       "      <td>64.000000</td>\n",
       "      <td>3.000000</td>\n",
       "      <td>5.000000</td>\n",
       "      <td>95.000000</td>\n",
       "      <td>12.000000</td>\n",
       "      <td>2.000000</td>\n",
       "      <td>27.000000</td>\n",
       "      <td>20.000000</td>\n",
       "      <td>46.000000</td>\n",
       "      <td>24.000000</td>\n",
       "    </tr>\n",
       "    <tr>\n",
       "      <th>75%</th>\n",
       "      <td>115.000000</td>\n",
       "      <td>429.500000</td>\n",
       "      <td>384.000000</td>\n",
       "      <td>51.000000</td>\n",
       "      <td>101.000000</td>\n",
       "      <td>8.000000</td>\n",
       "      <td>9.000000</td>\n",
       "      <td>154.500000</td>\n",
       "      <td>19.000000</td>\n",
       "      <td>3.000000</td>\n",
       "      <td>44.000000</td>\n",
       "      <td>32.000000</td>\n",
       "      <td>70.000000</td>\n",
       "      <td>25.000000</td>\n",
       "    </tr>\n",
       "    <tr>\n",
       "      <th>max</th>\n",
       "      <td>162.000000</td>\n",
       "      <td>734.000000</td>\n",
       "      <td>684.000000</td>\n",
       "      <td>122.000000</td>\n",
       "      <td>209.000000</td>\n",
       "      <td>110.000000</td>\n",
       "      <td>37.000000</td>\n",
       "      <td>365.000000</td>\n",
       "      <td>47.000000</td>\n",
       "      <td>12.000000</td>\n",
       "      <td>130.000000</td>\n",
       "      <td>91.000000</td>\n",
       "      <td>185.000000</td>\n",
       "      <td>32.000000</td>\n",
       "    </tr>\n",
       "  </tbody>\n",
       "</table>\n",
       "</div>"
      ],
      "text/plain": [
       "                G          PA          AB           R           H          SB  \\\n",
       "count  735.000000  735.000000  735.000000  735.000000  735.000000  735.000000   \n",
       "mean    87.546939  308.519728  277.575510   36.733333   73.261224    6.122449   \n",
       "std     36.252260  159.861680  144.128744   22.684596   41.639687    9.298192   \n",
       "min      3.000000    9.000000    8.000000    0.000000    0.000000    0.000000   \n",
       "25%     57.000000  179.000000  161.500000   19.500000   41.000000    1.000000   \n",
       "50%     85.000000  275.000000  244.000000   31.000000   64.000000    3.000000   \n",
       "75%    115.000000  429.500000  384.000000   51.000000  101.000000    8.000000   \n",
       "max    162.000000  734.000000  684.000000  122.000000  209.000000  110.000000   \n",
       "\n",
       "               HR          TB          2B          3B         RBI          BB  \\\n",
       "count  735.000000  735.000000  735.000000  735.000000  735.000000  735.000000   \n",
       "mean     6.795918  111.812245   13.872109    2.145578   32.273469   23.840816   \n",
       "std      6.331809   65.752095    8.799614    2.305491   21.019649   16.201825   \n",
       "min      0.000000    0.000000    0.000000    0.000000    0.000000    0.000000   \n",
       "25%      2.000000   61.000000    7.000000    0.000000   16.500000   12.000000   \n",
       "50%      5.000000   95.000000   12.000000    2.000000   27.000000   20.000000   \n",
       "75%      9.000000  154.500000   19.000000    3.000000   44.000000   32.000000   \n",
       "max     37.000000  365.000000   47.000000   12.000000  130.000000   91.000000   \n",
       "\n",
       "               SO         age  \n",
       "count  735.000000  735.000000  \n",
       "mean    52.493878   23.987755  \n",
       "std     31.410869    2.000303  \n",
       "min      1.000000   19.000000  \n",
       "25%     29.000000   23.000000  \n",
       "50%     46.000000   24.000000  \n",
       "75%     70.000000   25.000000  \n",
       "max    185.000000   32.000000  "
      ]
     },
     "execution_count": 161,
     "metadata": {},
     "output_type": "execute_result"
    }
   ],
   "source": [
    "X_train.describe()"
   ]
  },
  {
   "cell_type": "markdown",
   "metadata": {},
   "source": [
    "Combine `X` and `y` training data sets and calculate the correlation matrix."
   ]
  },
  {
   "cell_type": "code",
   "execution_count": 169,
   "metadata": {
    "ExecuteTime": {
     "end_time": "2018-10-12T16:17:24.768431Z",
     "start_time": "2018-10-12T16:17:24.369787Z"
    }
   },
   "outputs": [
    {
     "data": {
      "image/png": "[encoded data removed]",
      "text/plain": [
       "<Figure size 576x360 with 2 Axes>"
      ]
     },
     "metadata": {},
     "output_type": "display_data"
    }
   ],
   "source": [
    "Xy = pd.concat([X_train, y_train], axis=1)\n",
    "# sns.pairplot(Xy);\n",
    "\n",
    "plt.figure(figsize=(8,5))\n",
    "corr = Xy.corr()\n",
    "sns.heatmap(corr)\n",
    "plt.xticks(rotation=45)\n",
    "plt.tight_layout()\n",
    "plt.savefig('misc/corr_heatmap.png');"
   ]
  },
  {
   "cell_type": "markdown",
   "metadata": {},
   "source": [
    "HRs and age of rookie year are somewhat correlated with salary in 6 years. Whereas, games (G) and stolen bases (SB) are less related to salary in 6 years."
   ]
  },
  {
   "cell_type": "markdown",
   "metadata": {},
   "source": [
    "Build a basic linear regression model with all features as a baseline to compare against the Lasso models"
   ]
  },
  {
   "cell_type": "code",
   "execution_count": 9,
   "metadata": {
    "ExecuteTime": {
     "end_time": "2018-10-12T02:43:38.779038Z",
     "start_time": "2018-10-12T02:43:38.774923Z"
    }
   },
   "outputs": [],
   "source": [
    "model_results = pd.Series(name='MSE')"
   ]
  },
  {
   "cell_type": "markdown",
   "metadata": {},
   "source": [
    "Add a 10-fold cross-validation linear regression model."
   ]
  },
  {
   "cell_type": "code",
   "execution_count": 10,
   "metadata": {
    "ExecuteTime": {
     "end_time": "2018-10-12T02:43:38.846637Z",
     "start_time": "2018-10-12T02:43:38.782277Z"
    }
   },
   "outputs": [
    {
     "data": {
      "text/plain": [
       "linear model - cv10    0.163087\n",
       "Name: MSE, dtype: float64"
      ]
     },
     "execution_count": 10,
     "metadata": {},
     "output_type": "execute_result"
    }
   ],
   "source": [
    "lin_model = LinearRegression()\n",
    "scores = cross_val_score(lin_model, X_train, y_train, cv=10, scoring='neg_mean_squared_error')\n",
    "model_results['linear model - cv10'] = np.mean(-scores)\n",
    "model_results"
   ]
  },
  {
   "cell_type": "markdown",
   "metadata": {},
   "source": [
    "Build a Lasso model with standard scaling.\n",
    "\n",
    "Now perform a 10-fold cross validation for same range of alphas."
   ]
  },
  {
   "cell_type": "code",
   "execution_count": 11,
   "metadata": {
    "ExecuteTime": {
     "end_time": "2018-10-12T02:43:38.856406Z",
     "start_time": "2018-10-12T02:43:38.849908Z"
    }
   },
   "outputs": [],
   "source": [
    "alphas = [10**a for a in range(-2,5)]"
   ]
  },
  {
   "cell_type": "code",
   "execution_count": 12,
   "metadata": {
    "ExecuteTime": {
     "end_time": "2018-10-12T02:43:38.923893Z",
     "start_time": "2018-10-12T02:43:38.859932Z"
    }
   },
   "outputs": [
    {
     "data": {
      "text/plain": [
       "lasso cv - 0.01        0.162541\n",
       "linear model - cv10    0.163087\n",
       "Name: MSE, dtype: float64"
      ]
     },
     "execution_count": 12,
     "metadata": {},
     "output_type": "execute_result"
    }
   ],
   "source": [
    "cv_lasso = make_pipeline(StandardScaler(), LassoCV(cv=10, alphas=alphas, tol=0.001))\n",
    "cv_lasso.fit(X_train, y_train)\n",
    "model_results['lasso cv - ' + str(cv_lasso.get_params()['lassocv'].alpha_)] = mean_mse_Lasso(cv_lasso, 'lassocv')\n",
    "model_results.sort_values()"
   ]
  },
  {
   "cell_type": "markdown",
   "metadata": {},
   "source": [
    "Now 2-5 degree polynomial features and perform a 10-fold cross validation."
   ]
  },
  {
   "cell_type": "code",
   "execution_count": 13,
   "metadata": {
    "ExecuteTime": {
     "end_time": "2018-10-12T02:44:13.107048Z",
     "start_time": "2018-10-12T02:43:38.927308Z"
    }
   },
   "outputs": [],
   "source": [
    "for degrees in range(2,6):\n",
    "    cv_lasso_poly = make_pipeline(PolynomialFeatures(degrees), StandardScaler(), LassoCV(cv=10, alphas=alphas,tol=0.001))\n",
    "    cv_lasso_poly.fit(X_train, y_train)\n",
    "    model_results['lasso poly ' + str(degrees) + ' cv - ' + str(cv_lasso_poly.get_params()['lassocv'].alpha_)] = mean_mse_Lasso(cv_lasso_poly, 'lassocv')"
   ]
  },
  {
   "cell_type": "code",
   "execution_count": 170,
   "metadata": {
    "ExecuteTime": {
     "end_time": "2018-10-12T16:21:49.952878Z",
     "start_time": "2018-10-12T16:21:49.941853Z"
    }
   },
   "outputs": [
    {
     "data": {
      "text/html": [
       "<div>\n",
       "<style scoped>\n",
       "    .dataframe tbody tr th:only-of-type {\n",
       "        vertical-align: middle;\n",
       "    }\n",
       "\n",
       "    .dataframe tbody tr th {\n",
       "        vertical-align: top;\n",
       "    }\n",
       "\n",
       "    .dataframe thead th {\n",
       "        text-align: right;\n",
       "    }\n",
       "</style>\n",
       "<table border=\"1\" class=\"dataframe\">\n",
       "  <thead>\n",
       "    <tr style=\"text-align: right;\">\n",
       "      <th></th>\n",
       "      <th>index</th>\n",
       "      <th>MSE</th>\n",
       "    </tr>\n",
       "  </thead>\n",
       "  <tbody>\n",
       "    <tr>\n",
       "      <th>0</th>\n",
       "      <td>lasso poly 3 cv - 0.01</td>\n",
       "      <td>0.161218</td>\n",
       "    </tr>\n",
       "    <tr>\n",
       "      <th>1</th>\n",
       "      <td>lasso poly 2 cv - 0.01</td>\n",
       "      <td>0.161348</td>\n",
       "    </tr>\n",
       "    <tr>\n",
       "      <th>2</th>\n",
       "      <td>lasso poly 4 cv - 0.01</td>\n",
       "      <td>0.161483</td>\n",
       "    </tr>\n",
       "    <tr>\n",
       "      <th>3</th>\n",
       "      <td>lasso poly 5 cv - 0.01</td>\n",
       "      <td>0.162328</td>\n",
       "    </tr>\n",
       "    <tr>\n",
       "      <th>4</th>\n",
       "      <td>lasso cv - 0.01</td>\n",
       "      <td>0.162541</td>\n",
       "    </tr>\n",
       "    <tr>\n",
       "      <th>5</th>\n",
       "      <td>linear model - cv10</td>\n",
       "      <td>0.163087</td>\n",
       "    </tr>\n",
       "  </tbody>\n",
       "</table>\n",
       "</div>"
      ],
      "text/plain": [
       "                    index       MSE\n",
       "0  lasso poly 3 cv - 0.01  0.161218\n",
       "1  lasso poly 2 cv - 0.01  0.161348\n",
       "2  lasso poly 4 cv - 0.01  0.161483\n",
       "3  lasso poly 5 cv - 0.01  0.162328\n",
       "4         lasso cv - 0.01  0.162541\n",
       "5     linear model - cv10  0.163087"
      ]
     },
     "execution_count": 170,
     "metadata": {},
     "output_type": "execute_result"
    }
   ],
   "source": [
    "model_results.sort_values().reset_index()"
   ]
  },
  {
   "cell_type": "code",
   "execution_count": 15,
   "metadata": {
    "ExecuteTime": {
     "end_time": "2018-10-12T02:44:13.130150Z",
     "start_time": "2018-10-12T02:44:13.126259Z"
    }
   },
   "outputs": [],
   "source": [
    "## Talk to Spencer tomorrow possibly\n",
    "# ## Broken need to use the cv_values_\n",
    "# for degrees in range(2,3):\n",
    "#     cv_ridge_poly = make_pipeline(PolynomialFeatures(degrees), StandardScaler(), RidgeCV(cv=10, alphas=alphas))\n",
    "#     cv_ridge_poly.fit(X_train, y_train)\n",
    "# #     model_results['ridge poly ' + str(degrees) + ' cv - ' + str(cv_ridge_poly.get_params()['ridgecv'].alpha_)] = mean_mse(cv_ridge_poly, 'ridgecv')"
   ]
  },
  {
   "cell_type": "code",
   "execution_count": 16,
   "metadata": {
    "ExecuteTime": {
     "end_time": "2018-10-12T02:44:13.140932Z",
     "start_time": "2018-10-12T02:44:13.134332Z"
    }
   },
   "outputs": [],
   "source": [
    "# cv_ridge_poly.get_params()['ridgecv'].alpha_"
   ]
  },
  {
   "cell_type": "code",
   "execution_count": 17,
   "metadata": {
    "ExecuteTime": {
     "end_time": "2018-10-12T02:44:13.148302Z",
     "start_time": "2018-10-12T02:44:13.144358Z"
    }
   },
   "outputs": [],
   "source": [
    "# model_results.sort_values()"
   ]
  },
  {
   "cell_type": "code",
   "execution_count": 80,
   "metadata": {
    "ExecuteTime": {
     "end_time": "2018-10-12T05:02:05.207311Z",
     "start_time": "2018-10-12T05:02:05.042067Z"
    }
   },
   "outputs": [],
   "source": [
    "best_model = make_pipeline(PolynomialFeatures(3), StandardScaler(), Lasso(alpha=0.01, tol=0.001))\n",
    "best_model.fit(X_train, y_train);"
   ]
  },
  {
   "cell_type": "code",
   "execution_count": 173,
   "metadata": {
    "ExecuteTime": {
     "end_time": "2018-10-12T16:25:49.599884Z",
     "start_time": "2018-10-12T16:25:48.932836Z"
    }
   },
   "outputs": [
    {
     "data": {
      "image/png": "[encoded data removed]",
      "text/plain": [
       "<Figure size 936x360 with 3 Axes>"
      ]
     },
     "metadata": {},
     "output_type": "display_data"
    }
   ],
   "source": [
    "plt.figure(figsize=(13,5))\n",
    "# plt.subplots(1,3)\n",
    "\n",
    "# scatter y-train and y-pred\n",
    "plt.subplot(1,3,1)\n",
    "plt.scatter(best_model.predict(X_train), y_train, alpha=0.2)\n",
    "plt.xlabel('Predict Salaries (log)')\n",
    "plt.ylabel('Training Salaries (log)')\n",
    "\n",
    "# residual plot\n",
    "plt.subplot(1,3,2)\n",
    "res = y_train - best_model.predict(X_train)\n",
    "plt.scatter(best_model.predict(X_train), res, alpha = 0.2)\n",
    "plt.xlabel('Predicted Salaries (log)')\n",
    "plt.ylabel('residuals')\n",
    "\n",
    "# Q-Q plot\n",
    "plt.subplot(1, 3, 3)\n",
    "#Generates a probability plot of sample data against the quantiles of a \n",
    "# specified theoretical distribution \n",
    "stats.probplot(res, dist=\"norm\", plot=plt)\n",
    "plt.title(\"Normal Q-Q plot\")\n",
    "plt.tight_layout()\n",
    "plt.savefig('misc/train_fit.png');"
   ]
  },
  {
   "cell_type": "code",
   "execution_count": 83,
   "metadata": {
    "ExecuteTime": {
     "end_time": "2018-10-12T05:02:18.086814Z",
     "start_time": "2018-10-12T05:02:17.983286Z"
    }
   },
   "outputs": [
    {
     "name": "stdout",
     "output_type": "stream",
     "text": [
      "Train MSE: 0.15447006180621878\n",
      "Test MSE: 0.15361197831972048\n",
      "\n",
      "Train R^2: 0.2737217151830147\n",
      "Test R^2: 0.26688101673872344\n"
     ]
    }
   ],
   "source": [
    "print('Train MSE:', mean_squared_error(y_train, best_model.predict(X_train)))\n",
    "print('Test MSE:',mean_squared_error(y_test, best_model.predict(X_test)), end='\\n\\n')\n",
    "\n",
    "print('Train R^2:', best_model.score(X_train, y_train))\n",
    "print('Test R^2:', best_model.score(X_test, y_test))"
   ]
  },
  {
   "cell_type": "code",
   "execution_count": 130,
   "metadata": {
    "ExecuteTime": {
     "end_time": "2018-10-12T05:32:38.226153Z",
     "start_time": "2018-10-12T05:32:38.221046Z"
    }
   },
   "outputs": [
    {
     "data": {
      "text/plain": [
       "6.4931755026247036"
      ]
     },
     "execution_count": 130,
     "metadata": {},
     "output_type": "execute_result"
    }
   ],
   "source": [
    "y_train.mean()"
   ]
  },
  {
   "cell_type": "code",
   "execution_count": 151,
   "metadata": {
    "ExecuteTime": {
     "end_time": "2018-10-12T05:44:44.829930Z",
     "start_time": "2018-10-12T05:44:44.802111Z"
    }
   },
   "outputs": [],
   "source": [
    "errors = pd.DataFrame()\n",
    "errors['observed'] = 10**y_test\n",
    "errors['predicted'] = 10**best_model.predict(X_test)\n",
    "errors['error'] = errors.observed - errors.predicted\n",
    "errors['percent_error'] = errors.error / errors.predicted\n",
    "\n",
    "errors['salary_average'] = [10**y_train.mean()] * errors.shape[0]\n",
    "errors['salary_average_error'] = errors.observed - errors.salary_average\n",
    "errors['salary_average_percent_error'] = errors.salary_average_error / errors.salary_average"
   ]
  },
  {
   "cell_type": "code",
   "execution_count": 152,
   "metadata": {
    "ExecuteTime": {
     "end_time": "2018-10-12T05:44:47.624071Z",
     "start_time": "2018-10-12T05:44:47.589494Z"
    }
   },
   "outputs": [
    {
     "data": {
      "text/html": [
       "<div>\n",
       "<style scoped>\n",
       "    .dataframe tbody tr th:only-of-type {\n",
       "        vertical-align: middle;\n",
       "    }\n",
       "\n",
       "    .dataframe tbody tr th {\n",
       "        vertical-align: top;\n",
       "    }\n",
       "\n",
       "    .dataframe thead th {\n",
       "        text-align: right;\n",
       "    }\n",
       "</style>\n",
       "<table border=\"1\" class=\"dataframe\">\n",
       "  <thead>\n",
       "    <tr style=\"text-align: right;\">\n",
       "      <th></th>\n",
       "      <th>observed</th>\n",
       "      <th>predicted</th>\n",
       "      <th>error</th>\n",
       "      <th>percent_error</th>\n",
       "      <th>salary_average</th>\n",
       "      <th>salary_average_error</th>\n",
       "      <th>salary_average_percent_error</th>\n",
       "    </tr>\n",
       "  </thead>\n",
       "  <tbody>\n",
       "    <tr>\n",
       "      <th>72</th>\n",
       "      <td>5.852346e+05</td>\n",
       "      <td>3.640850e+06</td>\n",
       "      <td>-3.055615e+06</td>\n",
       "      <td>-0.839259</td>\n",
       "      <td>3.112974e+06</td>\n",
       "      <td>-2.527739e+06</td>\n",
       "      <td>-0.812001</td>\n",
       "    </tr>\n",
       "    <tr>\n",
       "      <th>120</th>\n",
       "      <td>3.307962e+06</td>\n",
       "      <td>4.424299e+06</td>\n",
       "      <td>-1.116337e+06</td>\n",
       "      <td>-0.252319</td>\n",
       "      <td>3.112974e+06</td>\n",
       "      <td>1.949881e+05</td>\n",
       "      <td>0.062637</td>\n",
       "    </tr>\n",
       "    <tr>\n",
       "      <th>296</th>\n",
       "      <td>8.896632e+06</td>\n",
       "      <td>4.376120e+06</td>\n",
       "      <td>4.520512e+06</td>\n",
       "      <td>1.032995</td>\n",
       "      <td>3.112974e+06</td>\n",
       "      <td>5.783658e+06</td>\n",
       "      <td>1.857920</td>\n",
       "    </tr>\n",
       "    <tr>\n",
       "      <th>314</th>\n",
       "      <td>9.964228e+05</td>\n",
       "      <td>2.719586e+06</td>\n",
       "      <td>-1.723163e+06</td>\n",
       "      <td>-0.633612</td>\n",
       "      <td>3.112974e+06</td>\n",
       "      <td>-2.116551e+06</td>\n",
       "      <td>-0.679913</td>\n",
       "    </tr>\n",
       "    <tr>\n",
       "      <th>710</th>\n",
       "      <td>8.943796e+06</td>\n",
       "      <td>2.601961e+06</td>\n",
       "      <td>6.341835e+06</td>\n",
       "      <td>2.437329</td>\n",
       "      <td>3.112974e+06</td>\n",
       "      <td>5.830822e+06</td>\n",
       "      <td>1.873071</td>\n",
       "    </tr>\n",
       "    <tr>\n",
       "      <th>533</th>\n",
       "      <td>8.275410e+05</td>\n",
       "      <td>1.497372e+06</td>\n",
       "      <td>-6.698306e+05</td>\n",
       "      <td>-0.447338</td>\n",
       "      <td>3.112974e+06</td>\n",
       "      <td>-2.285433e+06</td>\n",
       "      <td>-0.734164</td>\n",
       "    </tr>\n",
       "    <tr>\n",
       "      <th>869</th>\n",
       "      <td>3.408300e+07</td>\n",
       "      <td>2.903031e+07</td>\n",
       "      <td>5.052688e+06</td>\n",
       "      <td>0.174049</td>\n",
       "      <td>3.112974e+06</td>\n",
       "      <td>3.097003e+07</td>\n",
       "      <td>9.948694</td>\n",
       "    </tr>\n",
       "    <tr>\n",
       "      <th>539</th>\n",
       "      <td>1.477752e+07</td>\n",
       "      <td>4.981661e+06</td>\n",
       "      <td>9.795857e+06</td>\n",
       "      <td>1.966384</td>\n",
       "      <td>3.112974e+06</td>\n",
       "      <td>1.166454e+07</td>\n",
       "      <td>3.747074</td>\n",
       "    </tr>\n",
       "    <tr>\n",
       "      <th>680</th>\n",
       "      <td>8.007178e+06</td>\n",
       "      <td>3.057641e+06</td>\n",
       "      <td>4.949537e+06</td>\n",
       "      <td>1.618744</td>\n",
       "      <td>3.112974e+06</td>\n",
       "      <td>4.894204e+06</td>\n",
       "      <td>1.572196</td>\n",
       "    </tr>\n",
       "    <tr>\n",
       "      <th>468</th>\n",
       "      <td>9.413210e+06</td>\n",
       "      <td>4.313387e+06</td>\n",
       "      <td>5.099823e+06</td>\n",
       "      <td>1.182324</td>\n",
       "      <td>3.112974e+06</td>\n",
       "      <td>6.300236e+06</td>\n",
       "      <td>2.023864</td>\n",
       "    </tr>\n",
       "    <tr>\n",
       "      <th>669</th>\n",
       "      <td>7.500057e+06</td>\n",
       "      <td>4.135151e+06</td>\n",
       "      <td>3.364905e+06</td>\n",
       "      <td>0.813732</td>\n",
       "      <td>3.112974e+06</td>\n",
       "      <td>4.387083e+06</td>\n",
       "      <td>1.409290</td>\n",
       "    </tr>\n",
       "    <tr>\n",
       "      <th>239</th>\n",
       "      <td>7.143067e+05</td>\n",
       "      <td>2.258330e+06</td>\n",
       "      <td>-1.544023e+06</td>\n",
       "      <td>-0.683701</td>\n",
       "      <td>3.112974e+06</td>\n",
       "      <td>-2.398667e+06</td>\n",
       "      <td>-0.770539</td>\n",
       "    </tr>\n",
       "    <tr>\n",
       "      <th>827</th>\n",
       "      <td>1.404292e+06</td>\n",
       "      <td>1.479652e+06</td>\n",
       "      <td>-7.535939e+04</td>\n",
       "      <td>-0.050930</td>\n",
       "      <td>3.112974e+06</td>\n",
       "      <td>-1.708682e+06</td>\n",
       "      <td>-0.548890</td>\n",
       "    </tr>\n",
       "    <tr>\n",
       "      <th>290</th>\n",
       "      <td>6.405575e+06</td>\n",
       "      <td>4.853320e+06</td>\n",
       "      <td>1.552255e+06</td>\n",
       "      <td>0.319834</td>\n",
       "      <td>3.112974e+06</td>\n",
       "      <td>3.292601e+06</td>\n",
       "      <td>1.057703</td>\n",
       "    </tr>\n",
       "    <tr>\n",
       "      <th>63</th>\n",
       "      <td>3.859156e+06</td>\n",
       "      <td>4.828428e+06</td>\n",
       "      <td>-9.692723e+05</td>\n",
       "      <td>-0.200743</td>\n",
       "      <td>3.112974e+06</td>\n",
       "      <td>7.461816e+05</td>\n",
       "      <td>0.239701</td>\n",
       "    </tr>\n",
       "    <tr>\n",
       "      <th>558</th>\n",
       "      <td>4.553954e+05</td>\n",
       "      <td>1.818430e+06</td>\n",
       "      <td>-1.363035e+06</td>\n",
       "      <td>-0.749567</td>\n",
       "      <td>3.112974e+06</td>\n",
       "      <td>-2.657579e+06</td>\n",
       "      <td>-0.853711</td>\n",
       "    </tr>\n",
       "    <tr>\n",
       "      <th>39</th>\n",
       "      <td>7.468909e+06</td>\n",
       "      <td>5.545209e+06</td>\n",
       "      <td>1.923701e+06</td>\n",
       "      <td>0.346912</td>\n",
       "      <td>3.112974e+06</td>\n",
       "      <td>4.355935e+06</td>\n",
       "      <td>1.399284</td>\n",
       "    </tr>\n",
       "    <tr>\n",
       "      <th>408</th>\n",
       "      <td>2.331304e+06</td>\n",
       "      <td>2.468227e+06</td>\n",
       "      <td>-1.369229e+05</td>\n",
       "      <td>-0.055474</td>\n",
       "      <td>3.112974e+06</td>\n",
       "      <td>-7.816697e+05</td>\n",
       "      <td>-0.251101</td>\n",
       "    </tr>\n",
       "    <tr>\n",
       "      <th>493</th>\n",
       "      <td>1.763016e+07</td>\n",
       "      <td>6.944770e+06</td>\n",
       "      <td>1.068539e+07</td>\n",
       "      <td>1.538624</td>\n",
       "      <td>3.112974e+06</td>\n",
       "      <td>1.451718e+07</td>\n",
       "      <td>4.663445</td>\n",
       "    </tr>\n",
       "    <tr>\n",
       "      <th>244</th>\n",
       "      <td>8.045350e+06</td>\n",
       "      <td>2.501658e+06</td>\n",
       "      <td>5.543692e+06</td>\n",
       "      <td>2.216007</td>\n",
       "      <td>3.112974e+06</td>\n",
       "      <td>4.932376e+06</td>\n",
       "      <td>1.584458</td>\n",
       "    </tr>\n",
       "    <tr>\n",
       "      <th>365</th>\n",
       "      <td>6.812674e+06</td>\n",
       "      <td>7.030160e+06</td>\n",
       "      <td>-2.174867e+05</td>\n",
       "      <td>-0.030936</td>\n",
       "      <td>3.112974e+06</td>\n",
       "      <td>3.699700e+06</td>\n",
       "      <td>1.188478</td>\n",
       "    </tr>\n",
       "    <tr>\n",
       "      <th>416</th>\n",
       "      <td>5.952822e+06</td>\n",
       "      <td>5.029696e+06</td>\n",
       "      <td>9.231256e+05</td>\n",
       "      <td>0.183535</td>\n",
       "      <td>3.112974e+06</td>\n",
       "      <td>2.839848e+06</td>\n",
       "      <td>0.912262</td>\n",
       "    </tr>\n",
       "    <tr>\n",
       "      <th>357</th>\n",
       "      <td>3.746971e+06</td>\n",
       "      <td>4.716671e+06</td>\n",
       "      <td>-9.697000e+05</td>\n",
       "      <td>-0.205590</td>\n",
       "      <td>3.112974e+06</td>\n",
       "      <td>6.339965e+05</td>\n",
       "      <td>0.203663</td>\n",
       "    </tr>\n",
       "    <tr>\n",
       "      <th>486</th>\n",
       "      <td>3.647619e+06</td>\n",
       "      <td>3.685163e+06</td>\n",
       "      <td>-3.754442e+04</td>\n",
       "      <td>-0.010188</td>\n",
       "      <td>3.112974e+06</td>\n",
       "      <td>5.346450e+05</td>\n",
       "      <td>0.171747</td>\n",
       "    </tr>\n",
       "    <tr>\n",
       "      <th>30</th>\n",
       "      <td>7.512587e+06</td>\n",
       "      <td>1.029959e+07</td>\n",
       "      <td>-2.787003e+06</td>\n",
       "      <td>-0.270594</td>\n",
       "      <td>3.112974e+06</td>\n",
       "      <td>4.399613e+06</td>\n",
       "      <td>1.413315</td>\n",
       "    </tr>\n",
       "    <tr>\n",
       "      <th>344</th>\n",
       "      <td>6.366753e+06</td>\n",
       "      <td>3.916069e+06</td>\n",
       "      <td>2.450685e+06</td>\n",
       "      <td>0.625802</td>\n",
       "      <td>3.112974e+06</td>\n",
       "      <td>3.253779e+06</td>\n",
       "      <td>1.045232</td>\n",
       "    </tr>\n",
       "    <tr>\n",
       "      <th>823</th>\n",
       "      <td>6.995929e+06</td>\n",
       "      <td>2.414988e+06</td>\n",
       "      <td>4.580942e+06</td>\n",
       "      <td>1.896880</td>\n",
       "      <td>3.112974e+06</td>\n",
       "      <td>3.882955e+06</td>\n",
       "      <td>1.247346</td>\n",
       "    </tr>\n",
       "    <tr>\n",
       "      <th>235</th>\n",
       "      <td>4.060270e+06</td>\n",
       "      <td>2.459106e+06</td>\n",
       "      <td>1.601164e+06</td>\n",
       "      <td>0.651116</td>\n",
       "      <td>3.112974e+06</td>\n",
       "      <td>9.472959e+05</td>\n",
       "      <td>0.304306</td>\n",
       "    </tr>\n",
       "    <tr>\n",
       "      <th>227</th>\n",
       "      <td>1.879755e+06</td>\n",
       "      <td>4.715477e+06</td>\n",
       "      <td>-2.835723e+06</td>\n",
       "      <td>-0.601365</td>\n",
       "      <td>3.112974e+06</td>\n",
       "      <td>-1.233219e+06</td>\n",
       "      <td>-0.396155</td>\n",
       "    </tr>\n",
       "    <tr>\n",
       "      <th>107</th>\n",
       "      <td>1.240486e+06</td>\n",
       "      <td>2.649020e+06</td>\n",
       "      <td>-1.408535e+06</td>\n",
       "      <td>-0.531719</td>\n",
       "      <td>3.112974e+06</td>\n",
       "      <td>-1.872488e+06</td>\n",
       "      <td>-0.601511</td>\n",
       "    </tr>\n",
       "    <tr>\n",
       "      <th>...</th>\n",
       "      <td>...</td>\n",
       "      <td>...</td>\n",
       "      <td>...</td>\n",
       "      <td>...</td>\n",
       "      <td>...</td>\n",
       "      <td>...</td>\n",
       "      <td>...</td>\n",
       "    </tr>\n",
       "    <tr>\n",
       "      <th>611</th>\n",
       "      <td>1.011703e+06</td>\n",
       "      <td>3.309765e+06</td>\n",
       "      <td>-2.298062e+06</td>\n",
       "      <td>-0.694328</td>\n",
       "      <td>3.112974e+06</td>\n",
       "      <td>-2.101271e+06</td>\n",
       "      <td>-0.675004</td>\n",
       "    </tr>\n",
       "    <tr>\n",
       "      <th>33</th>\n",
       "      <td>2.708026e+06</td>\n",
       "      <td>3.051420e+06</td>\n",
       "      <td>-3.433942e+05</td>\n",
       "      <td>-0.112536</td>\n",
       "      <td>3.112974e+06</td>\n",
       "      <td>-4.049484e+05</td>\n",
       "      <td>-0.130084</td>\n",
       "    </tr>\n",
       "    <tr>\n",
       "      <th>31</th>\n",
       "      <td>3.057448e+06</td>\n",
       "      <td>3.591276e+06</td>\n",
       "      <td>-5.338279e+05</td>\n",
       "      <td>-0.148646</td>\n",
       "      <td>3.112974e+06</td>\n",
       "      <td>-5.552574e+04</td>\n",
       "      <td>-0.017837</td>\n",
       "    </tr>\n",
       "    <tr>\n",
       "      <th>685</th>\n",
       "      <td>3.202871e+06</td>\n",
       "      <td>3.275913e+06</td>\n",
       "      <td>-7.304234e+04</td>\n",
       "      <td>-0.022297</td>\n",
       "      <td>3.112974e+06</td>\n",
       "      <td>8.989709e+04</td>\n",
       "      <td>0.028878</td>\n",
       "    </tr>\n",
       "    <tr>\n",
       "      <th>616</th>\n",
       "      <td>9.695491e+06</td>\n",
       "      <td>6.855123e+06</td>\n",
       "      <td>2.840368e+06</td>\n",
       "      <td>0.414342</td>\n",
       "      <td>3.112974e+06</td>\n",
       "      <td>6.582517e+06</td>\n",
       "      <td>2.114543</td>\n",
       "    </tr>\n",
       "    <tr>\n",
       "      <th>526</th>\n",
       "      <td>1.004871e+06</td>\n",
       "      <td>1.909515e+06</td>\n",
       "      <td>-9.046443e+05</td>\n",
       "      <td>-0.473756</td>\n",
       "      <td>3.112974e+06</td>\n",
       "      <td>-2.108103e+06</td>\n",
       "      <td>-0.677199</td>\n",
       "    </tr>\n",
       "    <tr>\n",
       "      <th>250</th>\n",
       "      <td>6.767117e+05</td>\n",
       "      <td>1.401690e+06</td>\n",
       "      <td>-7.249787e+05</td>\n",
       "      <td>-0.517217</td>\n",
       "      <td>3.112974e+06</td>\n",
       "      <td>-2.436262e+06</td>\n",
       "      <td>-0.782616</td>\n",
       "    </tr>\n",
       "    <tr>\n",
       "      <th>109</th>\n",
       "      <td>4.410617e+06</td>\n",
       "      <td>2.215043e+06</td>\n",
       "      <td>2.195574e+06</td>\n",
       "      <td>0.991210</td>\n",
       "      <td>3.112974e+06</td>\n",
       "      <td>1.297643e+06</td>\n",
       "      <td>0.416850</td>\n",
       "    </tr>\n",
       "    <tr>\n",
       "      <th>77</th>\n",
       "      <td>6.785329e+06</td>\n",
       "      <td>1.976100e+07</td>\n",
       "      <td>-1.297567e+07</td>\n",
       "      <td>-0.656630</td>\n",
       "      <td>3.112974e+06</td>\n",
       "      <td>3.672355e+06</td>\n",
       "      <td>1.179693</td>\n",
       "    </tr>\n",
       "    <tr>\n",
       "      <th>808</th>\n",
       "      <td>3.983084e+06</td>\n",
       "      <td>4.398193e+06</td>\n",
       "      <td>-4.151094e+05</td>\n",
       "      <td>-0.094382</td>\n",
       "      <td>3.112974e+06</td>\n",
       "      <td>8.701098e+05</td>\n",
       "      <td>0.279511</td>\n",
       "    </tr>\n",
       "    <tr>\n",
       "      <th>215</th>\n",
       "      <td>6.108910e+05</td>\n",
       "      <td>2.100518e+06</td>\n",
       "      <td>-1.489627e+06</td>\n",
       "      <td>-0.709171</td>\n",
       "      <td>3.112974e+06</td>\n",
       "      <td>-2.502083e+06</td>\n",
       "      <td>-0.803760</td>\n",
       "    </tr>\n",
       "    <tr>\n",
       "      <th>82</th>\n",
       "      <td>1.017799e+06</td>\n",
       "      <td>2.588365e+06</td>\n",
       "      <td>-1.570566e+06</td>\n",
       "      <td>-0.606779</td>\n",
       "      <td>3.112974e+06</td>\n",
       "      <td>-2.095175e+06</td>\n",
       "      <td>-0.673046</td>\n",
       "    </tr>\n",
       "    <tr>\n",
       "      <th>299</th>\n",
       "      <td>1.423461e+07</td>\n",
       "      <td>6.217880e+06</td>\n",
       "      <td>8.016731e+06</td>\n",
       "      <td>1.289303</td>\n",
       "      <td>3.112974e+06</td>\n",
       "      <td>1.112164e+07</td>\n",
       "      <td>3.572673</td>\n",
       "    </tr>\n",
       "    <tr>\n",
       "      <th>332</th>\n",
       "      <td>5.679328e+06</td>\n",
       "      <td>3.012398e+06</td>\n",
       "      <td>2.666930e+06</td>\n",
       "      <td>0.885318</td>\n",
       "      <td>3.112974e+06</td>\n",
       "      <td>2.566354e+06</td>\n",
       "      <td>0.824406</td>\n",
       "    </tr>\n",
       "    <tr>\n",
       "      <th>436</th>\n",
       "      <td>4.282139e+05</td>\n",
       "      <td>2.274873e+06</td>\n",
       "      <td>-1.846659e+06</td>\n",
       "      <td>-0.811764</td>\n",
       "      <td>3.112974e+06</td>\n",
       "      <td>-2.684760e+06</td>\n",
       "      <td>-0.862442</td>\n",
       "    </tr>\n",
       "    <tr>\n",
       "      <th>417</th>\n",
       "      <td>8.001977e+06</td>\n",
       "      <td>5.821135e+06</td>\n",
       "      <td>2.180842e+06</td>\n",
       "      <td>0.374642</td>\n",
       "      <td>3.112974e+06</td>\n",
       "      <td>4.889003e+06</td>\n",
       "      <td>1.570525</td>\n",
       "    </tr>\n",
       "    <tr>\n",
       "      <th>798</th>\n",
       "      <td>8.024528e+06</td>\n",
       "      <td>5.658805e+06</td>\n",
       "      <td>2.365723e+06</td>\n",
       "      <td>0.418060</td>\n",
       "      <td>3.112974e+06</td>\n",
       "      <td>4.911554e+06</td>\n",
       "      <td>1.577769</td>\n",
       "    </tr>\n",
       "    <tr>\n",
       "      <th>321</th>\n",
       "      <td>4.844269e+05</td>\n",
       "      <td>3.618837e+06</td>\n",
       "      <td>-3.134411e+06</td>\n",
       "      <td>-0.866137</td>\n",
       "      <td>3.112974e+06</td>\n",
       "      <td>-2.628547e+06</td>\n",
       "      <td>-0.844385</td>\n",
       "    </tr>\n",
       "    <tr>\n",
       "      <th>394</th>\n",
       "      <td>9.991304e+05</td>\n",
       "      <td>3.215075e+06</td>\n",
       "      <td>-2.215944e+06</td>\n",
       "      <td>-0.689236</td>\n",
       "      <td>3.112974e+06</td>\n",
       "      <td>-2.113844e+06</td>\n",
       "      <td>-0.679043</td>\n",
       "    </tr>\n",
       "    <tr>\n",
       "      <th>5</th>\n",
       "      <td>1.439765e+06</td>\n",
       "      <td>3.632902e+06</td>\n",
       "      <td>-2.193137e+06</td>\n",
       "      <td>-0.603687</td>\n",
       "      <td>3.112974e+06</td>\n",
       "      <td>-1.673209e+06</td>\n",
       "      <td>-0.537495</td>\n",
       "    </tr>\n",
       "    <tr>\n",
       "      <th>54</th>\n",
       "      <td>2.911856e+06</td>\n",
       "      <td>2.319708e+06</td>\n",
       "      <td>5.921481e+05</td>\n",
       "      <td>0.255268</td>\n",
       "      <td>3.112974e+06</td>\n",
       "      <td>-2.011179e+05</td>\n",
       "      <td>-0.064606</td>\n",
       "    </tr>\n",
       "    <tr>\n",
       "      <th>266</th>\n",
       "      <td>3.236879e+06</td>\n",
       "      <td>2.795524e+06</td>\n",
       "      <td>4.413543e+05</td>\n",
       "      <td>0.157879</td>\n",
       "      <td>3.112974e+06</td>\n",
       "      <td>1.239047e+05</td>\n",
       "      <td>0.039803</td>\n",
       "    </tr>\n",
       "    <tr>\n",
       "      <th>483</th>\n",
       "      <td>4.073175e+05</td>\n",
       "      <td>5.007056e+06</td>\n",
       "      <td>-4.599738e+06</td>\n",
       "      <td>-0.918651</td>\n",
       "      <td>3.112974e+06</td>\n",
       "      <td>-2.705657e+06</td>\n",
       "      <td>-0.869155</td>\n",
       "    </tr>\n",
       "    <tr>\n",
       "      <th>334</th>\n",
       "      <td>1.245669e+06</td>\n",
       "      <td>2.093404e+06</td>\n",
       "      <td>-8.477352e+05</td>\n",
       "      <td>-0.404955</td>\n",
       "      <td>3.112974e+06</td>\n",
       "      <td>-1.867305e+06</td>\n",
       "      <td>-0.599846</td>\n",
       "    </tr>\n",
       "    <tr>\n",
       "      <th>381</th>\n",
       "      <td>1.021901e+06</td>\n",
       "      <td>1.912845e+06</td>\n",
       "      <td>-8.909436e+05</td>\n",
       "      <td>-0.465769</td>\n",
       "      <td>3.112974e+06</td>\n",
       "      <td>-2.091073e+06</td>\n",
       "      <td>-0.671728</td>\n",
       "    </tr>\n",
       "    <tr>\n",
       "      <th>97</th>\n",
       "      <td>2.671723e+06</td>\n",
       "      <td>1.554798e+06</td>\n",
       "      <td>1.116926e+06</td>\n",
       "      <td>0.718374</td>\n",
       "      <td>3.112974e+06</td>\n",
       "      <td>-4.412509e+05</td>\n",
       "      <td>-0.141746</td>\n",
       "    </tr>\n",
       "    <tr>\n",
       "      <th>213</th>\n",
       "      <td>3.563530e+06</td>\n",
       "      <td>1.676766e+06</td>\n",
       "      <td>1.886764e+06</td>\n",
       "      <td>1.125240</td>\n",
       "      <td>3.112974e+06</td>\n",
       "      <td>4.505561e+05</td>\n",
       "      <td>0.144735</td>\n",
       "    </tr>\n",
       "    <tr>\n",
       "      <th>275</th>\n",
       "      <td>3.972533e+06</td>\n",
       "      <td>5.334151e+06</td>\n",
       "      <td>-1.361618e+06</td>\n",
       "      <td>-0.255264</td>\n",
       "      <td>3.112974e+06</td>\n",
       "      <td>8.595589e+05</td>\n",
       "      <td>0.276121</td>\n",
       "    </tr>\n",
       "    <tr>\n",
       "      <th>585</th>\n",
       "      <td>2.856384e+06</td>\n",
       "      <td>3.741426e+06</td>\n",
       "      <td>-8.850424e+05</td>\n",
       "      <td>-0.236552</td>\n",
       "      <td>3.112974e+06</td>\n",
       "      <td>-2.565903e+05</td>\n",
       "      <td>-0.082426</td>\n",
       "    </tr>\n",
       "    <tr>\n",
       "      <th>879</th>\n",
       "      <td>7.900000e+06</td>\n",
       "      <td>3.894092e+06</td>\n",
       "      <td>4.005908e+06</td>\n",
       "      <td>1.028714</td>\n",
       "      <td>3.112974e+06</td>\n",
       "      <td>4.787026e+06</td>\n",
       "      <td>1.537766</td>\n",
       "    </tr>\n",
       "  </tbody>\n",
       "</table>\n",
       "<p>184 rows × 7 columns</p>\n",
       "</div>"
      ],
      "text/plain": [
       "         observed     predicted         error  percent_error  salary_average  \\\n",
       "72   5.852346e+05  3.640850e+06 -3.055615e+06      -0.839259    3.112974e+06   \n",
       "120  3.307962e+06  4.424299e+06 -1.116337e+06      -0.252319    3.112974e+06   \n",
       "296  8.896632e+06  4.376120e+06  4.520512e+06       1.032995    3.112974e+06   \n",
       "314  9.964228e+05  2.719586e+06 -1.723163e+06      -0.633612    3.112974e+06   \n",
       "710  8.943796e+06  2.601961e+06  6.341835e+06       2.437329    3.112974e+06   \n",
       "533  8.275410e+05  1.497372e+06 -6.698306e+05      -0.447338    3.112974e+06   \n",
       "869  3.408300e+07  2.903031e+07  5.052688e+06       0.174049    3.112974e+06   \n",
       "539  1.477752e+07  4.981661e+06  9.795857e+06       1.966384    3.112974e+06   \n",
       "680  8.007178e+06  3.057641e+06  4.949537e+06       1.618744    3.112974e+06   \n",
       "468  9.413210e+06  4.313387e+06  5.099823e+06       1.182324    3.112974e+06   \n",
       "669  7.500057e+06  4.135151e+06  3.364905e+06       0.813732    3.112974e+06   \n",
       "239  7.143067e+05  2.258330e+06 -1.544023e+06      -0.683701    3.112974e+06   \n",
       "827  1.404292e+06  1.479652e+06 -7.535939e+04      -0.050930    3.112974e+06   \n",
       "290  6.405575e+06  4.853320e+06  1.552255e+06       0.319834    3.112974e+06   \n",
       "63   3.859156e+06  4.828428e+06 -9.692723e+05      -0.200743    3.112974e+06   \n",
       "558  4.553954e+05  1.818430e+06 -1.363035e+06      -0.749567    3.112974e+06   \n",
       "39   7.468909e+06  5.545209e+06  1.923701e+06       0.346912    3.112974e+06   \n",
       "408  2.331304e+06  2.468227e+06 -1.369229e+05      -0.055474    3.112974e+06   \n",
       "493  1.763016e+07  6.944770e+06  1.068539e+07       1.538624    3.112974e+06   \n",
       "244  8.045350e+06  2.501658e+06  5.543692e+06       2.216007    3.112974e+06   \n",
       "365  6.812674e+06  7.030160e+06 -2.174867e+05      -0.030936    3.112974e+06   \n",
       "416  5.952822e+06  5.029696e+06  9.231256e+05       0.183535    3.112974e+06   \n",
       "357  3.746971e+06  4.716671e+06 -9.697000e+05      -0.205590    3.112974e+06   \n",
       "486  3.647619e+06  3.685163e+06 -3.754442e+04      -0.010188    3.112974e+06   \n",
       "30   7.512587e+06  1.029959e+07 -2.787003e+06      -0.270594    3.112974e+06   \n",
       "344  6.366753e+06  3.916069e+06  2.450685e+06       0.625802    3.112974e+06   \n",
       "823  6.995929e+06  2.414988e+06  4.580942e+06       1.896880    3.112974e+06   \n",
       "235  4.060270e+06  2.459106e+06  1.601164e+06       0.651116    3.112974e+06   \n",
       "227  1.879755e+06  4.715477e+06 -2.835723e+06      -0.601365    3.112974e+06   \n",
       "107  1.240486e+06  2.649020e+06 -1.408535e+06      -0.531719    3.112974e+06   \n",
       "..            ...           ...           ...            ...             ...   \n",
       "611  1.011703e+06  3.309765e+06 -2.298062e+06      -0.694328    3.112974e+06   \n",
       "33   2.708026e+06  3.051420e+06 -3.433942e+05      -0.112536    3.112974e+06   \n",
       "31   3.057448e+06  3.591276e+06 -5.338279e+05      -0.148646    3.112974e+06   \n",
       "685  3.202871e+06  3.275913e+06 -7.304234e+04      -0.022297    3.112974e+06   \n",
       "616  9.695491e+06  6.855123e+06  2.840368e+06       0.414342    3.112974e+06   \n",
       "526  1.004871e+06  1.909515e+06 -9.046443e+05      -0.473756    3.112974e+06   \n",
       "250  6.767117e+05  1.401690e+06 -7.249787e+05      -0.517217    3.112974e+06   \n",
       "109  4.410617e+06  2.215043e+06  2.195574e+06       0.991210    3.112974e+06   \n",
       "77   6.785329e+06  1.976100e+07 -1.297567e+07      -0.656630    3.112974e+06   \n",
       "808  3.983084e+06  4.398193e+06 -4.151094e+05      -0.094382    3.112974e+06   \n",
       "215  6.108910e+05  2.100518e+06 -1.489627e+06      -0.709171    3.112974e+06   \n",
       "82   1.017799e+06  2.588365e+06 -1.570566e+06      -0.606779    3.112974e+06   \n",
       "299  1.423461e+07  6.217880e+06  8.016731e+06       1.289303    3.112974e+06   \n",
       "332  5.679328e+06  3.012398e+06  2.666930e+06       0.885318    3.112974e+06   \n",
       "436  4.282139e+05  2.274873e+06 -1.846659e+06      -0.811764    3.112974e+06   \n",
       "417  8.001977e+06  5.821135e+06  2.180842e+06       0.374642    3.112974e+06   \n",
       "798  8.024528e+06  5.658805e+06  2.365723e+06       0.418060    3.112974e+06   \n",
       "321  4.844269e+05  3.618837e+06 -3.134411e+06      -0.866137    3.112974e+06   \n",
       "394  9.991304e+05  3.215075e+06 -2.215944e+06      -0.689236    3.112974e+06   \n",
       "5    1.439765e+06  3.632902e+06 -2.193137e+06      -0.603687    3.112974e+06   \n",
       "54   2.911856e+06  2.319708e+06  5.921481e+05       0.255268    3.112974e+06   \n",
       "266  3.236879e+06  2.795524e+06  4.413543e+05       0.157879    3.112974e+06   \n",
       "483  4.073175e+05  5.007056e+06 -4.599738e+06      -0.918651    3.112974e+06   \n",
       "334  1.245669e+06  2.093404e+06 -8.477352e+05      -0.404955    3.112974e+06   \n",
       "381  1.021901e+06  1.912845e+06 -8.909436e+05      -0.465769    3.112974e+06   \n",
       "97   2.671723e+06  1.554798e+06  1.116926e+06       0.718374    3.112974e+06   \n",
       "213  3.563530e+06  1.676766e+06  1.886764e+06       1.125240    3.112974e+06   \n",
       "275  3.972533e+06  5.334151e+06 -1.361618e+06      -0.255264    3.112974e+06   \n",
       "585  2.856384e+06  3.741426e+06 -8.850424e+05      -0.236552    3.112974e+06   \n",
       "879  7.900000e+06  3.894092e+06  4.005908e+06       1.028714    3.112974e+06   \n",
       "\n",
       "     salary_average_error  salary_average_percent_error  \n",
       "72          -2.527739e+06                     -0.812001  \n",
       "120          1.949881e+05                      0.062637  \n",
       "296          5.783658e+06                      1.857920  \n",
       "314         -2.116551e+06                     -0.679913  \n",
       "710          5.830822e+06                      1.873071  \n",
       "533         -2.285433e+06                     -0.734164  \n",
       "869          3.097003e+07                      9.948694  \n",
       "539          1.166454e+07                      3.747074  \n",
       "680          4.894204e+06                      1.572196  \n",
       "468          6.300236e+06                      2.023864  \n",
       "669          4.387083e+06                      1.409290  \n",
       "239         -2.398667e+06                     -0.770539  \n",
       "827         -1.708682e+06                     -0.548890  \n",
       "290          3.292601e+06                      1.057703  \n",
       "63           7.461816e+05                      0.239701  \n",
       "558         -2.657579e+06                     -0.853711  \n",
       "39           4.355935e+06                      1.399284  \n",
       "408         -7.816697e+05                     -0.251101  \n",
       "493          1.451718e+07                      4.663445  \n",
       "244          4.932376e+06                      1.584458  \n",
       "365          3.699700e+06                      1.188478  \n",
       "416          2.839848e+06                      0.912262  \n",
       "357          6.339965e+05                      0.203663  \n",
       "486          5.346450e+05                      0.171747  \n",
       "30           4.399613e+06                      1.413315  \n",
       "344          3.253779e+06                      1.045232  \n",
       "823          3.882955e+06                      1.247346  \n",
       "235          9.472959e+05                      0.304306  \n",
       "227         -1.233219e+06                     -0.396155  \n",
       "107         -1.872488e+06                     -0.601511  \n",
       "..                    ...                           ...  \n",
       "611         -2.101271e+06                     -0.675004  \n",
       "33          -4.049484e+05                     -0.130084  \n",
       "31          -5.552574e+04                     -0.017837  \n",
       "685          8.989709e+04                      0.028878  \n",
       "616          6.582517e+06                      2.114543  \n",
       "526         -2.108103e+06                     -0.677199  \n",
       "250         -2.436262e+06                     -0.782616  \n",
       "109          1.297643e+06                      0.416850  \n",
       "77           3.672355e+06                      1.179693  \n",
       "808          8.701098e+05                      0.279511  \n",
       "215         -2.502083e+06                     -0.803760  \n",
       "82          -2.095175e+06                     -0.673046  \n",
       "299          1.112164e+07                      3.572673  \n",
       "332          2.566354e+06                      0.824406  \n",
       "436         -2.684760e+06                     -0.862442  \n",
       "417          4.889003e+06                      1.570525  \n",
       "798          4.911554e+06                      1.577769  \n",
       "321         -2.628547e+06                     -0.844385  \n",
       "394         -2.113844e+06                     -0.679043  \n",
       "5           -1.673209e+06                     -0.537495  \n",
       "54          -2.011179e+05                     -0.064606  \n",
       "266          1.239047e+05                      0.039803  \n",
       "483         -2.705657e+06                     -0.869155  \n",
       "334         -1.867305e+06                     -0.599846  \n",
       "381         -2.091073e+06                     -0.671728  \n",
       "97          -4.412509e+05                     -0.141746  \n",
       "213          4.505561e+05                      0.144735  \n",
       "275          8.595589e+05                      0.276121  \n",
       "585         -2.565903e+05                     -0.082426  \n",
       "879          4.787026e+06                      1.537766  \n",
       "\n",
       "[184 rows x 7 columns]"
      ]
     },
     "execution_count": 152,
     "metadata": {},
     "output_type": "execute_result"
    }
   ],
   "source": [
    "errors"
   ]
  },
  {
   "cell_type": "code",
   "execution_count": 139,
   "metadata": {
    "ExecuteTime": {
     "end_time": "2018-10-12T05:36:06.741666Z",
     "start_time": "2018-10-12T05:36:06.557664Z"
    }
   },
   "outputs": [
    {
     "name": "stderr",
     "output_type": "stream",
     "text": [
      "/anaconda3/lib/python3.6/site-packages/matplotlib/axes/_axes.py:6462: UserWarning: The 'normed' kwarg is deprecated, and has been replaced by the 'density' kwarg.\n",
      "  warnings.warn(\"The 'normed' kwarg is deprecated, and has been \"\n"
     ]
    },
    {
     "data": {
      "image/png": "[encoded data removed]",
      "text/plain": [
       "<Figure size 432x288 with 1 Axes>"
      ]
     },
     "metadata": {},
     "output_type": "display_data"
    }
   ],
   "source": [
    "sns.distplot(errors.percent_error, kde=False);"
   ]
  },
  {
   "cell_type": "code",
   "execution_count": 153,
   "metadata": {
    "ExecuteTime": {
     "end_time": "2018-10-12T05:45:04.589192Z",
     "start_time": "2018-10-12T05:45:04.554106Z"
    }
   },
   "outputs": [],
   "source": [
    "errors['predicted_cats'] = ''\n",
    "errors['average_cats'] = ''\n",
    "\n",
    "g = [-10,-0.5, 0.5, 10]# 0.03, 0.06, 0.09, 0.12, 0.15, 10]\n",
    "l = ['Over-estimated', 'Estimated', 'Under-estimated']# '5-100%', '>100%']#0-25%', '25-50%', '50-75%','50-75%','>100%']\n",
    "# l = ['Over-valued', 'Valued', 'Under-valued']\n",
    "\n",
    "for k, b in enumerate(g[:-1]):\n",
    "    sub = (errors.percent_error >= b) & (errors.percent_error < g[k+1])\n",
    "    errors.loc[sub,'predicted_cats'] = l[k]\n",
    "    \n",
    "    sub = (errors.salary_average_percent_error >= b) & (errors.salary_average_percent_error < g[k+1])\n",
    "    errors.loc[sub,'average_cats'] = l[k]\n",
    "    \n",
    "\n",
    "error_predicted_cat = errors.groupby('predicted_cats')['percent_error'].count().reset_index()\n",
    "error_average_cat = errors.groupby('average_cats')['percent_error'].count().reset_index()"
   ]
  },
  {
   "cell_type": "code",
   "execution_count": 110,
   "metadata": {
    "ExecuteTime": {
     "end_time": "2018-10-12T05:12:15.640436Z",
     "start_time": "2018-10-12T05:12:15.627124Z"
    }
   },
   "outputs": [
    {
     "data": {
      "text/html": [
       "<div>\n",
       "<style scoped>\n",
       "    .dataframe tbody tr th:only-of-type {\n",
       "        vertical-align: middle;\n",
       "    }\n",
       "\n",
       "    .dataframe tbody tr th {\n",
       "        vertical-align: top;\n",
       "    }\n",
       "\n",
       "    .dataframe thead th {\n",
       "        text-align: right;\n",
       "    }\n",
       "</style>\n",
       "<table border=\"1\" class=\"dataframe\">\n",
       "  <thead>\n",
       "    <tr style=\"text-align: right;\">\n",
       "      <th></th>\n",
       "      <th>cats</th>\n",
       "      <th>age</th>\n",
       "    </tr>\n",
       "  </thead>\n",
       "  <tbody>\n",
       "    <tr>\n",
       "      <th>0</th>\n",
       "      <td>Estimated</td>\n",
       "      <td>23.907895</td>\n",
       "    </tr>\n",
       "    <tr>\n",
       "      <th>1</th>\n",
       "      <td>Over-estimated</td>\n",
       "      <td>23.767442</td>\n",
       "    </tr>\n",
       "    <tr>\n",
       "      <th>2</th>\n",
       "      <td>Under-estimated</td>\n",
       "      <td>24.015385</td>\n",
       "    </tr>\n",
       "  </tbody>\n",
       "</table>\n",
       "</div>"
      ],
      "text/plain": [
       "              cats        age\n",
       "0        Estimated  23.907895\n",
       "1   Over-estimated  23.767442\n",
       "2  Under-estimated  24.015385"
      ]
     },
     "execution_count": 110,
     "metadata": {},
     "output_type": "execute_result"
    }
   ],
   "source": [
    "mean_salary = errors.groupby('cats')['age'].mean().reset_index()\n",
    "mean_salary"
   ]
  },
  {
   "cell_type": "code",
   "execution_count": 160,
   "metadata": {
    "ExecuteTime": {
     "end_time": "2018-10-12T13:29:07.705608Z",
     "start_time": "2018-10-12T13:29:06.825227Z"
    }
   },
   "outputs": [
    {
     "data": {
      "image/png": "[encoded data removed]",
      "text/plain": [
       "<Figure size 864x432 with 2 Axes>"
      ]
     },
     "metadata": {},
     "output_type": "display_data"
    }
   ],
   "source": [
    "# plt.subplots(1,2)\n",
    "\n",
    "plt.figure(figsize=(12,6))\n",
    "\n",
    "plt.subplot(1,2,1)\n",
    "sns.barplot(x=error_average_cat.average_cats, y=error_average_cat.percent_error, order=l, color='#D50032')\n",
    "# plt.axhline(y=4.51e6, color='#002D72', linestyle='--',label='2018 avg. salary')\n",
    "\n",
    "plt.xlabel('')\n",
    "plt.ylabel('Count of MLB Players')\n",
    "\n",
    "plt.title('Baseline')\n",
    "\n",
    "plt.subplot(1,2,2)\n",
    "sns.barplot(x=error_predicted_cat.predicted_cats, y=error_predicted_cat.percent_error, order=l, color='#002D72')\n",
    "\n",
    "plt.xlabel('')\n",
    "plt.ylabel('')\n",
    "plt.title('Model')\n",
    "\n",
    "\n",
    "# convert tick labels to millions\n",
    "# ax = plt.gca()\n",
    "# vals = ax.get_yticks()\n",
    "# ax.set_yticklabels(['{}m'.format(x/1e6) for x in vals])\n",
    "\n",
    "plt.suptitle('$6^{th}$-Year Salary Prediction Accuracy')\n",
    "# plt.tight_layout(pad=3)\n",
    "plt.savefig('misc/salary_prediction_accuracy.png',dpi=300,pad=0);"
   ]
  },
  {
   "cell_type": "code",
   "execution_count": 156,
   "metadata": {
    "ExecuteTime": {
     "end_time": "2018-10-12T05:49:35.275046Z",
     "start_time": "2018-10-12T05:49:35.262194Z"
    }
   },
   "outputs": [
    {
     "data": {
      "text/html": [
       "<div>\n",
       "<style scoped>\n",
       "    .dataframe tbody tr th:only-of-type {\n",
       "        vertical-align: middle;\n",
       "    }\n",
       "\n",
       "    .dataframe tbody tr th {\n",
       "        vertical-align: top;\n",
       "    }\n",
       "\n",
       "    .dataframe thead th {\n",
       "        text-align: right;\n",
       "    }\n",
       "</style>\n",
       "<table border=\"1\" class=\"dataframe\">\n",
       "  <thead>\n",
       "    <tr style=\"text-align: right;\">\n",
       "      <th></th>\n",
       "      <th>predicted_cats</th>\n",
       "      <th>percent_error</th>\n",
       "    </tr>\n",
       "  </thead>\n",
       "  <tbody>\n",
       "    <tr>\n",
       "      <th>0</th>\n",
       "      <td>Estimated</td>\n",
       "      <td>76</td>\n",
       "    </tr>\n",
       "    <tr>\n",
       "      <th>1</th>\n",
       "      <td>Over-estimated</td>\n",
       "      <td>43</td>\n",
       "    </tr>\n",
       "    <tr>\n",
       "      <th>2</th>\n",
       "      <td>Under-estimated</td>\n",
       "      <td>65</td>\n",
       "    </tr>\n",
       "  </tbody>\n",
       "</table>\n",
       "</div>"
      ],
      "text/plain": [
       "    predicted_cats  percent_error\n",
       "0        Estimated             76\n",
       "1   Over-estimated             43\n",
       "2  Under-estimated             65"
      ]
     },
     "execution_count": 156,
     "metadata": {},
     "output_type": "execute_result"
    }
   ],
   "source": [
    "error_predicted_cat"
   ]
  },
  {
   "cell_type": "code",
   "execution_count": 157,
   "metadata": {
    "ExecuteTime": {
     "end_time": "2018-10-12T05:49:43.679444Z",
     "start_time": "2018-10-12T05:49:43.670081Z"
    }
   },
   "outputs": [
    {
     "data": {
      "text/html": [
       "<div>\n",
       "<style scoped>\n",
       "    .dataframe tbody tr th:only-of-type {\n",
       "        vertical-align: middle;\n",
       "    }\n",
       "\n",
       "    .dataframe tbody tr th {\n",
       "        vertical-align: top;\n",
       "    }\n",
       "\n",
       "    .dataframe thead th {\n",
       "        text-align: right;\n",
       "    }\n",
       "</style>\n",
       "<table border=\"1\" class=\"dataframe\">\n",
       "  <thead>\n",
       "    <tr style=\"text-align: right;\">\n",
       "      <th></th>\n",
       "      <th>average_cats</th>\n",
       "      <th>percent_error</th>\n",
       "    </tr>\n",
       "  </thead>\n",
       "  <tbody>\n",
       "    <tr>\n",
       "      <th>0</th>\n",
       "      <td>Estimated</td>\n",
       "      <td>50</td>\n",
       "    </tr>\n",
       "    <tr>\n",
       "      <th>1</th>\n",
       "      <td>Over-estimated</td>\n",
       "      <td>53</td>\n",
       "    </tr>\n",
       "    <tr>\n",
       "      <th>2</th>\n",
       "      <td>Under-estimated</td>\n",
       "      <td>81</td>\n",
       "    </tr>\n",
       "  </tbody>\n",
       "</table>\n",
       "</div>"
      ],
      "text/plain": [
       "      average_cats  percent_error\n",
       "0        Estimated             50\n",
       "1   Over-estimated             53\n",
       "2  Under-estimated             81"
      ]
     },
     "execution_count": 157,
     "metadata": {},
     "output_type": "execute_result"
    }
   ],
   "source": [
    "error_average_cat"
   ]
  },
  {
   "cell_type": "markdown",
   "metadata": {},
   "source": [
    "Estimate is +- 50%, over-estimate is worse than -50%, and under_estimate is greater than 50% error. The baseline model (right) is only able to get 27% of the 184 randomly selected players in the estimated range. Whereas, my model was able to get 41% within the estimated range. This ia statistically significant shift in the right direction. Clearly there is more to be refined as there is still significant numebr of players which are being under or over estimated with my model. However, this model will provide more information than taking a simply average of a random set of player's salaries in year 6. You can use this model as a guide plus you industry knowledge to assess the direction to take a negotiation.\n",
    "\n",
    "You can see using current stats does provide an inital value estimate for the rookie player. You can then start to add cumulative stats each year."
   ]
  },
  {
   "cell_type": "code",
   "execution_count": 103,
   "metadata": {
    "ExecuteTime": {
     "end_time": "2018-10-12T05:06:53.704343Z",
     "start_time": "2018-10-12T05:06:53.683252Z"
    }
   },
   "outputs": [],
   "source": [
    "coefs = pd.DataFrame(data = best_model.get_params()['lasso'].coef_, index = best_model.get_params()['polynomialfeatures'].get_feature_names(X_train.columns))"
   ]
  },
  {
   "cell_type": "code",
   "execution_count": 106,
   "metadata": {
    "ExecuteTime": {
     "end_time": "2018-10-12T05:07:41.639913Z",
     "start_time": "2018-10-12T05:07:41.629527Z"
    }
   },
   "outputs": [
    {
     "data": {
      "text/html": [
       "<div>\n",
       "<style scoped>\n",
       "    .dataframe tbody tr th:only-of-type {\n",
       "        vertical-align: middle;\n",
       "    }\n",
       "\n",
       "    .dataframe tbody tr th {\n",
       "        vertical-align: top;\n",
       "    }\n",
       "\n",
       "    .dataframe thead th {\n",
       "        text-align: right;\n",
       "    }\n",
       "</style>\n",
       "<table border=\"1\" class=\"dataframe\">\n",
       "  <thead>\n",
       "    <tr style=\"text-align: right;\">\n",
       "      <th></th>\n",
       "      <th>0</th>\n",
       "    </tr>\n",
       "  </thead>\n",
       "  <tbody>\n",
       "    <tr>\n",
       "      <th>age</th>\n",
       "      <td>-0.174874</td>\n",
       "    </tr>\n",
       "    <tr>\n",
       "      <th>G^2</th>\n",
       "      <td>-0.034479</td>\n",
       "    </tr>\n",
       "    <tr>\n",
       "      <th>G age</th>\n",
       "      <td>-0.028781</td>\n",
       "    </tr>\n",
       "    <tr>\n",
       "      <th>R age^2</th>\n",
       "      <td>0.032096</td>\n",
       "    </tr>\n",
       "    <tr>\n",
       "      <th>SB^2 HR</th>\n",
       "      <td>0.009415</td>\n",
       "    </tr>\n",
       "    <tr>\n",
       "      <th>SB 3B BB</th>\n",
       "      <td>0.012880</td>\n",
       "    </tr>\n",
       "    <tr>\n",
       "      <th>SB BB^2</th>\n",
       "      <td>0.007684</td>\n",
       "    </tr>\n",
       "    <tr>\n",
       "      <th>HR age^2</th>\n",
       "      <td>0.098267</td>\n",
       "    </tr>\n",
       "    <tr>\n",
       "      <th>TB age^2</th>\n",
       "      <td>0.024179</td>\n",
       "    </tr>\n",
       "    <tr>\n",
       "      <th>2B age^2</th>\n",
       "      <td>0.026535</td>\n",
       "    </tr>\n",
       "    <tr>\n",
       "      <th>3B BB age</th>\n",
       "      <td>0.005021</td>\n",
       "    </tr>\n",
       "    <tr>\n",
       "      <th>RBI age^2</th>\n",
       "      <td>0.018610</td>\n",
       "    </tr>\n",
       "    <tr>\n",
       "      <th>SO^3</th>\n",
       "      <td>-0.013046</td>\n",
       "    </tr>\n",
       "  </tbody>\n",
       "</table>\n",
       "</div>"
      ],
      "text/plain": [
       "                  0\n",
       "age       -0.174874\n",
       "G^2       -0.034479\n",
       "G age     -0.028781\n",
       "R age^2    0.032096\n",
       "SB^2 HR    0.009415\n",
       "SB 3B BB   0.012880\n",
       "SB BB^2    0.007684\n",
       "HR age^2   0.098267\n",
       "TB age^2   0.024179\n",
       "2B age^2   0.026535\n",
       "3B BB age  0.005021\n",
       "RBI age^2  0.018610\n",
       "SO^3      -0.013046"
      ]
     },
     "execution_count": 106,
     "metadata": {},
     "output_type": "execute_result"
    }
   ],
   "source": [
    "coefs[coefs.iloc[:,0] != 0]"
   ]
  },
  {
   "cell_type": "code",
   "execution_count": null,
   "metadata": {
    "ExecuteTime": {
     "end_time": "2018-10-12T05:02:19.247091Z",
     "start_time": "2018-10-12T05:02:17.383Z"
    }
   },
   "outputs": [],
   "source": [
    "bad_errors = errors[errors.cats=='>100%'].sort_values('percent_error')\n",
    "bad_errors"
   ]
  },
  {
   "cell_type": "code",
   "execution_count": null,
   "metadata": {
    "ExecuteTime": {
     "end_time": "2018-10-12T05:02:19.248513Z",
     "start_time": "2018-10-12T05:02:17.388Z"
    }
   },
   "outputs": [],
   "source": [
    "salary_stats_df.loc[salary_stats_df.name=='Bryce Harper']"
   ]
  },
  {
   "cell_type": "code",
   "execution_count": null,
   "metadata": {
    "ExecuteTime": {
     "end_time": "2018-10-12T05:02:19.249861Z",
     "start_time": "2018-10-12T05:02:17.392Z"
    }
   },
   "outputs": [],
   "source": [
    "train_errors = pd.DataFrame()\n",
    "train_errors['observed'] = 10**y_train\n",
    "train_errors['predicted'] = 10**best_model.predict(X_train)\n",
    "train_errors['error'] = train_errors.observed - train_errors.predicted\n",
    "train_errors['percent_error'] = (train_errors.observed - train_errors.predicted) / train_errors.predicted"
   ]
  },
  {
   "cell_type": "code",
   "execution_count": null,
   "metadata": {
    "ExecuteTime": {
     "end_time": "2018-10-12T05:02:19.251211Z",
     "start_time": "2018-10-12T05:02:17.395Z"
    }
   },
   "outputs": [],
   "source": [
    "train_errors.loc[867]"
   ]
  },
  {
   "cell_type": "code",
   "execution_count": null,
   "metadata": {
    "ExecuteTime": {
     "end_time": "2018-10-12T05:02:19.252293Z",
     "start_time": "2018-10-12T05:02:17.401Z"
    }
   },
   "outputs": [],
   "source": [
    "[y_test[880],10**y_test[880]]"
   ]
  },
  {
   "cell_type": "code",
   "execution_count": null,
   "metadata": {
    "ExecuteTime": {
     "end_time": "2018-10-12T05:02:19.253393Z",
     "start_time": "2018-10-12T05:02:17.404Z"
    }
   },
   "outputs": [],
   "source": [
    "salary_stats_df.loc[880,['log_today_salary','today_salary']]"
   ]
  },
  {
   "cell_type": "code",
   "execution_count": null,
   "metadata": {
    "ExecuteTime": {
     "end_time": "2018-10-12T05:02:19.254450Z",
     "start_time": "2018-10-12T05:02:17.410Z"
    }
   },
   "outputs": [],
   "source": [
    "salary_stats_df.join(bad_errors,how='inner').describe()"
   ]
  },
  {
   "cell_type": "code",
   "execution_count": null,
   "metadata": {},
   "outputs": [],
   "source": []
  },
  {
   "cell_type": "code",
   "execution_count": null,
   "metadata": {
    "ExecuteTime": {
     "end_time": "2018-10-12T05:02:19.255820Z",
     "start_time": "2018-10-12T05:02:17.427Z"
    }
   },
   "outputs": [],
   "source": [
    "salary_stats_df.sort_values('today_salary',ascending=False)"
   ]
  },
  {
   "cell_type": "code",
   "execution_count": null,
   "metadata": {
    "ExecuteTime": {
     "end_time": "2018-10-12T05:02:19.257151Z",
     "start_time": "2018-10-12T05:02:17.430Z"
    }
   },
   "outputs": [],
   "source": [
    "best_model.fit(X,y)\n",
    "print('MSE:', mean_squared_error(y, best_model.predict(X)))\n",
    "print('R^2:', best_model.score(X,y))"
   ]
  }
 ],
 "metadata": {
  "kernelspec": {
   "display_name": "Python 3",
   "language": "python",
   "name": "python3"
  },
  "language_info": {
   "codemirror_mode": {
    "name": "ipython",
    "version": 3
   },
   "file_extension": ".py",
   "mimetype": "text/x-python",
   "name": "python",
   "nbconvert_exporter": "python",
   "pygments_lexer": "ipython3",
   "version": "3.6.5"
  }
 },
 "nbformat": 4,
 "nbformat_minor": 2
}
