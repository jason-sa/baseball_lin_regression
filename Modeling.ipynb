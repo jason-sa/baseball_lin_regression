{
 "cells": [
  {
   "cell_type": "code",
   "execution_count": 2,
   "metadata": {
    "ExecuteTime": {
     "end_time": "2018-10-08T19:54:20.580773Z",
     "start_time": "2018-10-08T19:54:20.518889Z"
    }
   },
   "outputs": [],
   "source": [
    "# Necessary imports\n",
    "import pandas as pd\n",
    "import numpy as np\n",
    "import seaborn as sns\n",
    "from  matplotlib import pyplot as plt\n",
    "from sklearn.linear_model import LinearRegression\n",
    "from sklearn.model_selection import train_test_split\n",
    "from sklearn.linear_model import RidgeCV\n",
    "from sklearn.pipeline import make_pipeline\n",
    "from sklearn.preprocessing import PolynomialFeatures\n",
    "from sklearn.model_selection import KFold\n",
    "from sklearn.preprocessing import StandardScaler\n",
    "\n",
    "%config InlineBackend.figure_format = 'svg'\n",
    "%matplotlib inline"
   ]
  },
  {
   "cell_type": "code",
   "execution_count": 3,
   "metadata": {
    "ExecuteTime": {
     "end_time": "2018-10-08T19:55:14.533431Z",
     "start_time": "2018-10-08T19:55:14.475012Z"
    }
   },
   "outputs": [],
   "source": [
    "# set paths of the data files\n",
    "PATH_S = '/Users/jadams/ds/metis/baseball_lin_regression/data/processed_df/salary.csv'\n",
    "PATH_R = '/Users/jadams/ds/metis/baseball_lin_regression/data/processed_df/rookies.csv'\n",
    "PATH_RS = '/Users/jadams/ds/metis/baseball_lin_regression/data/processed_df/rookie_stats.csv'"
   ]
  },
  {
   "cell_type": "code",
   "execution_count": 4,
   "metadata": {
    "ExecuteTime": {
     "end_time": "2018-10-08T19:55:59.902169Z",
     "start_time": "2018-10-08T19:55:59.290596Z"
    }
   },
   "outputs": [],
   "source": [
    "# get the salary and stats data\n",
    "df_stats = pd.read_csv(PATH_RS, index_col = 0)\n",
    "df_salary = pd.read_csv(PATH_S, index_col = 0)"
   ]
  },
  {
   "cell_type": "code",
   "execution_count": 7,
   "metadata": {
    "ExecuteTime": {
     "end_time": "2018-10-08T21:35:09.560980Z",
     "start_time": "2018-10-08T21:34:20.764635Z"
    }
   },
   "outputs": [
    {
     "data": {
      "text/html": [
       "<div>\n",
       "<style scoped>\n",
       "    .dataframe tbody tr th:only-of-type {\n",
       "        vertical-align: middle;\n",
       "    }\n",
       "\n",
       "    .dataframe tbody tr th {\n",
       "        vertical-align: top;\n",
       "    }\n",
       "\n",
       "    .dataframe thead th {\n",
       "        text-align: right;\n",
       "    }\n",
       "</style>\n",
       "<table border=\"1\" class=\"dataframe\">\n",
       "  <thead>\n",
       "    <tr style=\"text-align: right;\">\n",
       "      <th></th>\n",
       "      <th>Year_x</th>\n",
       "      <th>Age_x</th>\n",
       "      <th>Tm_x</th>\n",
       "      <th>Salary_x</th>\n",
       "      <th>SrvTm_x</th>\n",
       "      <th>Sources_x</th>\n",
       "      <th>Notes/Other Sources_x</th>\n",
       "      <th>name_x</th>\n",
       "      <th>UID_x</th>\n",
       "      <th>year_6_x</th>\n",
       "      <th>Year_y</th>\n",
       "      <th>Age_y</th>\n",
       "      <th>Tm_y</th>\n",
       "      <th>Salary_y</th>\n",
       "      <th>SrvTm_y</th>\n",
       "      <th>Sources_y</th>\n",
       "      <th>Notes/Other Sources_y</th>\n",
       "      <th>name_y</th>\n",
       "      <th>UID_y</th>\n",
       "      <th>year_6_y</th>\n",
       "    </tr>\n",
       "  </thead>\n",
       "  <tbody>\n",
       "    <tr>\n",
       "      <th>0</th>\n",
       "      <td>2010</td>\n",
       "      <td>27.0</td>\n",
       "      <td>Seattle Mariners</td>\n",
       "      <td>1150000.0</td>\n",
       "      <td>3.087</td>\n",
       "      <td>NaN</td>\n",
       "      <td>NaN</td>\n",
       "      <td>Mark Lowe</td>\n",
       "      <td>1</td>\n",
       "      <td>2016</td>\n",
       "      <td>2004</td>\n",
       "      <td>26.0</td>\n",
       "      <td>Minnesota Twins</td>\n",
       "      <td>300000.0</td>\n",
       "      <td>NaN</td>\n",
       "      <td>4/7/04 AP</td>\n",
       "      <td>NaN</td>\n",
       "      <td>Brad Thomas</td>\n",
       "      <td>298</td>\n",
       "      <td>2010</td>\n",
       "    </tr>\n",
       "    <tr>\n",
       "      <th>1</th>\n",
       "      <td>2010</td>\n",
       "      <td>27.0</td>\n",
       "      <td>Seattle Mariners</td>\n",
       "      <td>1150000.0</td>\n",
       "      <td>3.087</td>\n",
       "      <td>NaN</td>\n",
       "      <td>NaN</td>\n",
       "      <td>Mark Lowe</td>\n",
       "      <td>1</td>\n",
       "      <td>2016</td>\n",
       "      <td>2004</td>\n",
       "      <td>24.0</td>\n",
       "      <td>Los Angeles Dodgers</td>\n",
       "      <td>301000.0</td>\n",
       "      <td>NaN</td>\n",
       "      <td>4/7/04 AP</td>\n",
       "      <td>NaN</td>\n",
       "      <td>Joe Thurston</td>\n",
       "      <td>301</td>\n",
       "      <td>2010</td>\n",
       "    </tr>\n",
       "    <tr>\n",
       "      <th>2</th>\n",
       "      <td>2010</td>\n",
       "      <td>27.0</td>\n",
       "      <td>Seattle Mariners</td>\n",
       "      <td>1150000.0</td>\n",
       "      <td>3.087</td>\n",
       "      <td>NaN</td>\n",
       "      <td>NaN</td>\n",
       "      <td>Mark Lowe</td>\n",
       "      <td>1</td>\n",
       "      <td>2016</td>\n",
       "      <td>2004</td>\n",
       "      <td>26.0</td>\n",
       "      <td>Minnesota Twins</td>\n",
       "      <td>300000.0</td>\n",
       "      <td>NaN</td>\n",
       "      <td>4/7/04 AP</td>\n",
       "      <td>NaN</td>\n",
       "      <td>Brad Thomas</td>\n",
       "      <td>298</td>\n",
       "      <td>2010</td>\n",
       "    </tr>\n",
       "    <tr>\n",
       "      <th>3</th>\n",
       "      <td>2010</td>\n",
       "      <td>27.0</td>\n",
       "      <td>Seattle Mariners</td>\n",
       "      <td>1150000.0</td>\n",
       "      <td>3.087</td>\n",
       "      <td>NaN</td>\n",
       "      <td>NaN</td>\n",
       "      <td>Mark Lowe</td>\n",
       "      <td>1</td>\n",
       "      <td>2016</td>\n",
       "      <td>2004</td>\n",
       "      <td>24.0</td>\n",
       "      <td>Los Angeles Dodgers</td>\n",
       "      <td>301000.0</td>\n",
       "      <td>NaN</td>\n",
       "      <td>4/7/04 AP</td>\n",
       "      <td>NaN</td>\n",
       "      <td>Joe Thurston</td>\n",
       "      <td>301</td>\n",
       "      <td>2010</td>\n",
       "    </tr>\n",
       "    <tr>\n",
       "      <th>4</th>\n",
       "      <td>2010</td>\n",
       "      <td>27.0</td>\n",
       "      <td>Seattle Mariners</td>\n",
       "      <td>1150000.0</td>\n",
       "      <td>3.087</td>\n",
       "      <td>NaN</td>\n",
       "      <td>NaN</td>\n",
       "      <td>Mark Lowe</td>\n",
       "      <td>1</td>\n",
       "      <td>2016</td>\n",
       "      <td>2004</td>\n",
       "      <td>26.0</td>\n",
       "      <td>Minnesota Twins</td>\n",
       "      <td>300000.0</td>\n",
       "      <td>NaN</td>\n",
       "      <td>4/7/04 AP</td>\n",
       "      <td>NaN</td>\n",
       "      <td>Brad Thomas</td>\n",
       "      <td>298</td>\n",
       "      <td>2010</td>\n",
       "    </tr>\n",
       "  </tbody>\n",
       "</table>\n",
       "</div>"
      ],
      "text/plain": [
       "   Year_x  Age_x              Tm_x   Salary_x  SrvTm_x Sources_x  \\\n",
       "0    2010   27.0  Seattle Mariners  1150000.0    3.087       NaN   \n",
       "1    2010   27.0  Seattle Mariners  1150000.0    3.087       NaN   \n",
       "2    2010   27.0  Seattle Mariners  1150000.0    3.087       NaN   \n",
       "3    2010   27.0  Seattle Mariners  1150000.0    3.087       NaN   \n",
       "4    2010   27.0  Seattle Mariners  1150000.0    3.087       NaN   \n",
       "\n",
       "  Notes/Other Sources_x     name_x  UID_x  year_6_x  Year_y  Age_y  \\\n",
       "0                   NaN  Mark Lowe      1      2016    2004   26.0   \n",
       "1                   NaN  Mark Lowe      1      2016    2004   24.0   \n",
       "2                   NaN  Mark Lowe      1      2016    2004   26.0   \n",
       "3                   NaN  Mark Lowe      1      2016    2004   24.0   \n",
       "4                   NaN  Mark Lowe      1      2016    2004   26.0   \n",
       "\n",
       "                  Tm_y  Salary_y  SrvTm_y  Sources_y Notes/Other Sources_y  \\\n",
       "0      Minnesota Twins  300000.0      NaN  4/7/04 AP                   NaN   \n",
       "1  Los Angeles Dodgers  301000.0      NaN  4/7/04 AP                   NaN   \n",
       "2      Minnesota Twins  300000.0      NaN  4/7/04 AP                   NaN   \n",
       "3  Los Angeles Dodgers  301000.0      NaN  4/7/04 AP                   NaN   \n",
       "4      Minnesota Twins  300000.0      NaN  4/7/04 AP                   NaN   \n",
       "\n",
       "         name_y  UID_y  year_6_y  \n",
       "0   Brad Thomas    298      2010  \n",
       "1  Joe Thurston    301      2010  \n",
       "2   Brad Thomas    298      2010  \n",
       "3  Joe Thurston    301      2010  \n",
       "4   Brad Thomas    298      2010  "
      ]
     },
     "execution_count": 7,
     "metadata": {},
     "output_type": "execute_result"
    }
   ],
   "source": [
    "# get salary down to only those with 6 years of history\n",
    "df_salary['year_6'] = df_salary.Year + 6\n",
    "df_salary.merge(df_salary, left_on=['Year', right_on='year_6').head()"
   ]
  },
  {
   "cell_type": "code",
   "execution_count": 2,
   "metadata": {
    "ExecuteTime": {
     "end_time": "2018-10-08T22:48:45.198027Z",
     "start_time": "2018-10-08T22:48:41.053650Z"
    }
   },
   "outputs": [
    {
     "name": "stdout",
     "output_type": "stream",
     "text": [
      "[                                        ----------------------------------------\n"
     ]
    }
   ],
   "source": [
    "import time\n",
    "import sys\n",
    "\n",
    "toolbar_width = 40\n",
    "\n",
    "# setup toolbar\n",
    "sys.stdout.write(\"[%s]\" % (\" \" * toolbar_width))\n",
    "sys.stdout.flush()\n",
    "sys.stdout.write(\"\\b\" * (toolbar_width+1)) # return to start of line, after '['\n",
    "\n",
    "for i in range(toolbar_width):\n",
    "    time.sleep(0.1) # do real work here\n",
    "    # update the bar\n",
    "    sys.stdout.write(\"-\")\n",
    "    sys.stdout.flush()\n",
    "\n",
    "sys.stdout.write(\"\\n\")"
   ]
  }
 ],
 "metadata": {
  "kernelspec": {
   "display_name": "Python 3",
   "language": "python",
   "name": "python3"
  },
  "language_info": {
   "codemirror_mode": {
    "name": "ipython",
    "version": 3
   },
   "file_extension": ".py",
   "mimetype": "text/x-python",
   "name": "python",
   "nbconvert_exporter": "python",
   "pygments_lexer": "ipython3",
   "version": "3.6.5"
  }
 },
 "nbformat": 4,
 "nbformat_minor": 2
}
