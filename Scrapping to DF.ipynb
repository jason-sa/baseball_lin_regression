{
 "cells": [
  {
   "cell_type": "markdown",
   "metadata": {},
   "source": [
    "# Overview\n",
    "\n",
    "Notebook utilized to transform all scraped HTML pages into data frames to be utilized in the regression models. The salary section is missing some transformations, as I appared to have forgotten to save my changes. I can reproduce the work if necessary."
   ]
  },
  {
   "cell_type": "code",
   "execution_count": 94,
   "metadata": {
    "ExecuteTime": {
     "end_time": "2018-10-10T13:43:30.618883Z",
     "start_time": "2018-10-10T13:43:30.440019Z"
    }
   },
   "outputs": [],
   "source": [
    "import numpy as np\n",
    "import pandas as pd\n",
    "from bs4 import BeautifulSoup\n",
    "from selenium import webdriver\n",
    "from selenium.webdriver.common.keys import Keys\n",
    "import requests\n",
    "import time\n",
    "import os\n",
    "from selenium.webdriver.common.by import By\n",
    "import pickle\n",
    "import re\n",
    "import baseball as bb\n",
    "import cpi # consumer price index library"
   ]
  },
  {
   "cell_type": "code",
   "execution_count": 95,
   "metadata": {
    "ExecuteTime": {
     "end_time": "2018-10-10T13:43:31.378355Z",
     "start_time": "2018-10-10T13:43:31.307585Z"
    }
   },
   "outputs": [
    {
     "name": "stdout",
     "output_type": "stream",
     "text": [
      "The autoreload extension is already loaded. To reload it, use:\n",
      "  %reload_ext autoreload\n"
     ]
    }
   ],
   "source": [
    "%load_ext autoreload\n",
    "%autoreload 2"
   ]
  },
  {
   "cell_type": "code",
   "execution_count": 96,
   "metadata": {
    "ExecuteTime": {
     "end_time": "2018-10-10T13:43:32.380617Z",
     "start_time": "2018-10-10T13:43:32.331809Z"
    }
   },
   "outputs": [],
   "source": [
    "PATH_S = '/Users/jadams/ds/metis/baseball_lin_regression/data/processed_df/salary.csv'\n",
    "PATH_R = '/Users/jadams/ds/metis/baseball_lin_regression/data/processed_df/rookies.csv'\n",
    "PATH_RS = '/Users/jadams/ds/metis/baseball_lin_regression/data/processed_df/rookie_stats.csv'\n",
    "PATH_PLAYER_PAGES = '/Users/jadams/ds/metis/baseball_lin_regression/data/rookie_player_pages.csv'\n",
    "PATH_PARTITION = '/Users/jadams/ds/metis/baseball_lin_regression/data/rookie_player_partition'"
   ]
  },
  {
   "cell_type": "markdown",
   "metadata": {},
   "source": [
    "#### Build rookie master table"
   ]
  },
  {
   "cell_type": "code",
   "execution_count": 15,
   "metadata": {
    "ExecuteTime": {
     "end_time": "2018-10-07T23:13:40.105327Z",
     "start_time": "2018-10-07T23:13:39.833538Z"
    }
   },
   "outputs": [],
   "source": [
    "# print(rookie_player_pages.shape)\n",
    "rookie_pages = pd.read_csv('data/rookie_pages.csv', index_col=0)"
   ]
  },
  {
   "cell_type": "code",
   "execution_count": 16,
   "metadata": {
    "ExecuteTime": {
     "end_time": "2018-10-07T23:13:58.919503Z",
     "start_time": "2018-10-07T23:13:41.345211Z"
    }
   },
   "outputs": [
    {
     "data": {
      "text/html": [
       "<div>\n",
       "<style scoped>\n",
       "    .dataframe tbody tr th:only-of-type {\n",
       "        vertical-align: middle;\n",
       "    }\n",
       "\n",
       "    .dataframe tbody tr th {\n",
       "        vertical-align: top;\n",
       "    }\n",
       "\n",
       "    .dataframe thead th {\n",
       "        text-align: right;\n",
       "    }\n",
       "</style>\n",
       "<table border=\"1\" class=\"dataframe\">\n",
       "  <thead>\n",
       "    <tr style=\"text-align: right;\">\n",
       "      <th></th>\n",
       "      <th>Name</th>\n",
       "      <th>Debut</th>\n",
       "      <th>Age</th>\n",
       "      <th>Tm</th>\n",
       "      <th>rookie_year</th>\n",
       "    </tr>\n",
       "  </thead>\n",
       "  <tbody>\n",
       "    <tr>\n",
       "      <th>0</th>\n",
       "      <td>Ricky Adams</td>\n",
       "      <td>1982-09-15</td>\n",
       "      <td>26</td>\n",
       "      <td>SFG</td>\n",
       "      <td>1985</td>\n",
       "    </tr>\n",
       "    <tr>\n",
       "      <th>1</th>\n",
       "      <td>Rick Aguilera</td>\n",
       "      <td>1985-06-12</td>\n",
       "      <td>23</td>\n",
       "      <td>NYM</td>\n",
       "      <td>1985</td>\n",
       "    </tr>\n",
       "    <tr>\n",
       "      <th>2</th>\n",
       "      <td>Doug Baker</td>\n",
       "      <td>1984-07-02</td>\n",
       "      <td>24</td>\n",
       "      <td>DET</td>\n",
       "      <td>1985</td>\n",
       "    </tr>\n",
       "    <tr>\n",
       "      <th>3</th>\n",
       "      <td>Jay Baller</td>\n",
       "      <td>1982-09-19</td>\n",
       "      <td>24</td>\n",
       "      <td>CHC</td>\n",
       "      <td>1985</td>\n",
       "    </tr>\n",
       "    <tr>\n",
       "      <th>4</th>\n",
       "      <td>Jeff Barkley</td>\n",
       "      <td>1984-09-16</td>\n",
       "      <td>25</td>\n",
       "      <td>CLE</td>\n",
       "      <td>1985</td>\n",
       "    </tr>\n",
       "  </tbody>\n",
       "</table>\n",
       "</div>"
      ],
      "text/plain": [
       "            Name      Debut  Age   Tm  rookie_year\n",
       "0    Ricky Adams 1982-09-15   26  SFG         1985\n",
       "1  Rick Aguilera 1985-06-12   23  NYM         1985\n",
       "2     Doug Baker 1984-07-02   24  DET         1985\n",
       "3     Jay Baller 1982-09-19   24  CHC         1985\n",
       "4   Jeff Barkley 1984-09-16   25  CLE         1985"
      ]
     },
     "execution_count": 16,
     "metadata": {},
     "output_type": "execute_result"
    }
   ],
   "source": [
    "rookie_df = bb.build_rookie_table(rookie_pages)\n",
    "rookie_df.head()"
   ]
  },
  {
   "cell_type": "code",
   "execution_count": 17,
   "metadata": {
    "ExecuteTime": {
     "end_time": "2018-10-07T23:14:36.188952Z",
     "start_time": "2018-10-07T23:14:36.077582Z"
    }
   },
   "outputs": [],
   "source": [
    "rookie_df.to_csv(PATH_R)"
   ]
  },
  {
   "cell_type": "code",
   "execution_count": 20,
   "metadata": {
    "ExecuteTime": {
     "end_time": "2018-10-07T23:15:51.551760Z",
     "start_time": "2018-10-07T23:15:51.508658Z"
    }
   },
   "outputs": [
    {
     "data": {
      "text/plain": [
       "Carlos Martinez    3\n",
       "Kevin Brown        3\n",
       "Craig Wilson       3\n",
       "Mark Johnson       3\n",
       "Luis Lopez         3\n",
       "Name: Name, dtype: int64"
      ]
     },
     "execution_count": 20,
     "metadata": {},
     "output_type": "execute_result"
    }
   ],
   "source": [
    "rookie_df.Name.value_counts().head()"
   ]
  },
  {
   "cell_type": "code",
   "execution_count": 22,
   "metadata": {
    "ExecuteTime": {
     "end_time": "2018-10-07T23:16:47.781810Z",
     "start_time": "2018-10-07T23:16:47.740431Z"
    }
   },
   "outputs": [
    {
     "data": {
      "text/html": [
       "<div>\n",
       "<style scoped>\n",
       "    .dataframe tbody tr th:only-of-type {\n",
       "        vertical-align: middle;\n",
       "    }\n",
       "\n",
       "    .dataframe tbody tr th {\n",
       "        vertical-align: top;\n",
       "    }\n",
       "\n",
       "    .dataframe thead th {\n",
       "        text-align: right;\n",
       "    }\n",
       "</style>\n",
       "<table border=\"1\" class=\"dataframe\">\n",
       "  <thead>\n",
       "    <tr style=\"text-align: right;\">\n",
       "      <th></th>\n",
       "      <th>Name</th>\n",
       "      <th>Debut</th>\n",
       "      <th>Age</th>\n",
       "      <th>Tm</th>\n",
       "      <th>rookie_year</th>\n",
       "    </tr>\n",
       "  </thead>\n",
       "  <tbody>\n",
       "    <tr>\n",
       "      <th>15</th>\n",
       "      <td>Kevin Brown</td>\n",
       "      <td>1986-09-30</td>\n",
       "      <td>24</td>\n",
       "      <td>TEX</td>\n",
       "      <td>1989</td>\n",
       "    </tr>\n",
       "    <tr>\n",
       "      <th>21</th>\n",
       "      <td>Kevin Brown</td>\n",
       "      <td>1990-07-27</td>\n",
       "      <td>25</td>\n",
       "      <td>MIL</td>\n",
       "      <td>1991</td>\n",
       "    </tr>\n",
       "    <tr>\n",
       "      <th>14</th>\n",
       "      <td>Kevin Brown</td>\n",
       "      <td>1996-09-12</td>\n",
       "      <td>27</td>\n",
       "      <td>MIL</td>\n",
       "      <td>2000</td>\n",
       "    </tr>\n",
       "  </tbody>\n",
       "</table>\n",
       "</div>"
      ],
      "text/plain": [
       "           Name      Debut  Age   Tm  rookie_year\n",
       "15  Kevin Brown 1986-09-30   24  TEX         1989\n",
       "21  Kevin Brown 1990-07-27   25  MIL         1991\n",
       "14  Kevin Brown 1996-09-12   27  MIL         2000"
      ]
     },
     "execution_count": 22,
     "metadata": {},
     "output_type": "execute_result"
    }
   ],
   "source": [
    "rookie_df[rookie_df.Name == 'Kevin Brown']"
   ]
  },
  {
   "cell_type": "markdown",
   "metadata": {},
   "source": [
    "Name is not a unique identifier for a rookier. Let's see if the combination of name and rookie year is a way to identify a rookie."
   ]
  },
  {
   "cell_type": "code",
   "execution_count": 25,
   "metadata": {
    "ExecuteTime": {
     "end_time": "2018-10-07T23:23:14.625396Z",
     "start_time": "2018-10-07T23:23:14.579826Z"
    }
   },
   "outputs": [
    {
     "data": {
      "text/plain": [
       "Tony Pena_2007         2\n",
       "Jason Phillips_2003    2\n",
       "Keith Miller_1989      2\n",
       "Ryan Braun_2007        2\n",
       "Ken Harvey_2003        1\n",
       "Name: name_rookie_year, dtype: int64"
      ]
     },
     "execution_count": 25,
     "metadata": {},
     "output_type": "execute_result"
    }
   ],
   "source": [
    "rookie_df['name_rookie_year'] = rookie_df.Name + '_' + rookie_df.rookie_year.astype(str)\n",
    "rookie_df.name_rookie_year.value_counts().head()"
   ]
  },
  {
   "cell_type": "code",
   "execution_count": 26,
   "metadata": {
    "ExecuteTime": {
     "end_time": "2018-10-07T23:23:45.931915Z",
     "start_time": "2018-10-07T23:23:45.887454Z"
    }
   },
   "outputs": [
    {
     "data": {
      "text/html": [
       "<div>\n",
       "<style scoped>\n",
       "    .dataframe tbody tr th:only-of-type {\n",
       "        vertical-align: middle;\n",
       "    }\n",
       "\n",
       "    .dataframe tbody tr th {\n",
       "        vertical-align: top;\n",
       "    }\n",
       "\n",
       "    .dataframe thead th {\n",
       "        text-align: right;\n",
       "    }\n",
       "</style>\n",
       "<table border=\"1\" class=\"dataframe\">\n",
       "  <thead>\n",
       "    <tr style=\"text-align: right;\">\n",
       "      <th></th>\n",
       "      <th>Name</th>\n",
       "      <th>Debut</th>\n",
       "      <th>Age</th>\n",
       "      <th>Tm</th>\n",
       "      <th>rookie_year</th>\n",
       "      <th>name_rookie_year</th>\n",
       "    </tr>\n",
       "  </thead>\n",
       "  <tbody>\n",
       "    <tr>\n",
       "      <th>123</th>\n",
       "      <td>Tony Pena</td>\n",
       "      <td>2006-04-13</td>\n",
       "      <td>26</td>\n",
       "      <td>KCR</td>\n",
       "      <td>2007</td>\n",
       "      <td>Tony Pena_2007</td>\n",
       "    </tr>\n",
       "    <tr>\n",
       "      <th>124</th>\n",
       "      <td>Tony Pena</td>\n",
       "      <td>2006-07-18</td>\n",
       "      <td>25</td>\n",
       "      <td>ARI</td>\n",
       "      <td>2007</td>\n",
       "      <td>Tony Pena_2007</td>\n",
       "    </tr>\n",
       "  </tbody>\n",
       "</table>\n",
       "</div>"
      ],
      "text/plain": [
       "          Name      Debut  Age   Tm  rookie_year name_rookie_year\n",
       "123  Tony Pena 2006-04-13   26  KCR         2007   Tony Pena_2007\n",
       "124  Tony Pena 2006-07-18   25  ARI         2007   Tony Pena_2007"
      ]
     },
     "execution_count": 26,
     "metadata": {},
     "output_type": "execute_result"
    }
   ],
   "source": [
    "rookie_df[rookie_df.name_rookie_year == 'Tony Pena_2007']"
   ]
  },
  {
   "cell_type": "markdown",
   "metadata": {},
   "source": [
    "The concatenation of name and rookie year does not make a unique identifier. Let's now try name and debut."
   ]
  },
  {
   "cell_type": "code",
   "execution_count": 27,
   "metadata": {
    "ExecuteTime": {
     "end_time": "2018-10-07T23:26:02.697820Z",
     "start_time": "2018-10-07T23:26:02.661748Z"
    }
   },
   "outputs": [],
   "source": [
    "rookie_df.drop('name_rookie_year', axis=1, inplace=True)"
   ]
  },
  {
   "cell_type": "code",
   "execution_count": 31,
   "metadata": {
    "ExecuteTime": {
     "end_time": "2018-10-07T23:28:07.069591Z",
     "start_time": "2018-10-07T23:28:06.997351Z"
    }
   },
   "outputs": [
    {
     "data": {
      "text/plain": [
       "Rick Reed_1988-08-08           1\n",
       "Willie Adams_1996-06-11        1\n",
       "Carl Edwards Jr._2015-09-07    1\n",
       "Brian Stokes_2006-09-03        1\n",
       "Lane Adams_2014-09-01          1\n",
       "Name: name_debut, dtype: int64"
      ]
     },
     "execution_count": 31,
     "metadata": {},
     "output_type": "execute_result"
    }
   ],
   "source": [
    "rookie_df['name_debut'] = rookie_df.Name + '_' + rookie_df.Debut.astype(str)\n",
    "rookie_df.name_debut.value_counts().sort_values(ascending=False).head()"
   ]
  },
  {
   "cell_type": "code",
   "execution_count": 70,
   "metadata": {
    "ExecuteTime": {
     "end_time": "2018-10-08T19:50:45.877844Z",
     "start_time": "2018-10-08T19:50:45.810995Z"
    }
   },
   "outputs": [
    {
     "ename": "NameError",
     "evalue": "name 'rookie_df' is not defined",
     "output_type": "error",
     "traceback": [
      "\u001b[0;31m---------------------------------------------------------------------------\u001b[0m",
      "\u001b[0;31mNameError\u001b[0m                                 Traceback (most recent call last)",
      "\u001b[0;32m<ipython-input-70-940583c2e644>\u001b[0m in \u001b[0;36m<module>\u001b[0;34m()\u001b[0m\n\u001b[0;32m----> 1\u001b[0;31m \u001b[0mrookie_df\u001b[0m\u001b[0;34m.\u001b[0m\u001b[0mto_csv\u001b[0m\u001b[0;34m(\u001b[0m\u001b[0mPATH_R\u001b[0m\u001b[0;34m)\u001b[0m\u001b[0;34m\u001b[0m\u001b[0m\n\u001b[0m",
      "\u001b[0;31mNameError\u001b[0m: name 'rookie_df' is not defined"
     ]
    }
   ],
   "source": [
    "rookie_df.to_csv(PATH_R)"
   ]
  },
  {
   "cell_type": "markdown",
   "metadata": {},
   "source": [
    "#### Build rookie stats table"
   ]
  },
  {
   "cell_type": "code",
   "execution_count": 4,
   "metadata": {
    "ExecuteTime": {
     "end_time": "2018-10-10T03:32:50.386441Z",
     "start_time": "2018-10-10T03:31:26.378122Z"
    }
   },
   "outputs": [],
   "source": [
    "rookie_players = pd.read_csv('data/rookie_player_pages.csv', index_col=0)\n",
    "rookie_players.reset_index(inplace=True)"
   ]
  },
  {
   "cell_type": "code",
   "execution_count": 93,
   "metadata": {
    "ExecuteTime": {
     "end_time": "2018-10-10T04:44:14.711511Z",
     "start_time": "2018-10-10T04:23:14.830337Z"
    }
   },
   "outputs": [
    {
     "name": "stdout",
     "output_type": "stream",
     "text": [
      "Processed row: 5310\r"
     ]
    },
    {
     "ename": "KeyError",
     "evalue": "5318",
     "output_type": "error",
     "traceback": [
      "\u001b[0;31m---------------------------------------------------------------------------\u001b[0m",
      "\u001b[0;31mKeyError\u001b[0m                                  Traceback (most recent call last)",
      "\u001b[0;32m<ipython-input-93-c47703fb3baf>\u001b[0m in \u001b[0;36m<module>\u001b[0;34m()\u001b[0m\n\u001b[1;32m      1\u001b[0m \u001b[0;32mfor\u001b[0m \u001b[0mind\u001b[0m \u001b[0;32min\u001b[0m \u001b[0mrange\u001b[0m\u001b[0;34m(\u001b[0m\u001b[0;36m1000\u001b[0m\u001b[0;34m,\u001b[0m\u001b[0;36m6000\u001b[0m\u001b[0;34m)\u001b[0m\u001b[0;34m:\u001b[0m\u001b[0;34m\u001b[0m\u001b[0m\n\u001b[0;32m----> 2\u001b[0;31m     \u001b[0mbb\u001b[0m\u001b[0;34m.\u001b[0m\u001b[0mget_player_data\u001b[0m\u001b[0;34m(\u001b[0m\u001b[0mrookie_players\u001b[0m\u001b[0;34m.\u001b[0m\u001b[0mhtml\u001b[0m\u001b[0;34m[\u001b[0m\u001b[0mind\u001b[0m\u001b[0;34m]\u001b[0m\u001b[0;34m,\u001b[0m \u001b[0mrookie_players\u001b[0m\u001b[0;34m.\u001b[0m\u001b[0myear\u001b[0m\u001b[0;34m[\u001b[0m\u001b[0mind\u001b[0m\u001b[0;34m]\u001b[0m\u001b[0;34m,\u001b[0m \u001b[0mrookie_players\u001b[0m\u001b[0;34m.\u001b[0m\u001b[0mname\u001b[0m\u001b[0;34m[\u001b[0m\u001b[0mind\u001b[0m\u001b[0;34m]\u001b[0m\u001b[0;34m)\u001b[0m\u001b[0;34m\u001b[0m\u001b[0m\n\u001b[0m\u001b[1;32m      3\u001b[0m     \u001b[0;32mif\u001b[0m \u001b[0mind\u001b[0m \u001b[0;34m%\u001b[0m \u001b[0;36m10\u001b[0m \u001b[0;34m==\u001b[0m \u001b[0;36m0\u001b[0m\u001b[0;34m:\u001b[0m\u001b[0;34m\u001b[0m\u001b[0m\n\u001b[1;32m      4\u001b[0m         \u001b[0mprint\u001b[0m\u001b[0;34m(\u001b[0m\u001b[0;34m'Processed row:'\u001b[0m\u001b[0;34m,\u001b[0m \u001b[0mind\u001b[0m\u001b[0;34m,\u001b[0m \u001b[0mend\u001b[0m\u001b[0;34m=\u001b[0m\u001b[0;34m'\\r'\u001b[0m\u001b[0;34m)\u001b[0m\u001b[0;34m\u001b[0m\u001b[0m\n\u001b[1;32m      5\u001b[0m \u001b[0;34m\u001b[0m\u001b[0m\n",
      "\u001b[0;32m/anaconda3/lib/python3.6/site-packages/pandas/core/series.py\u001b[0m in \u001b[0;36m__getitem__\u001b[0;34m(self, key)\u001b[0m\n\u001b[1;32m    765\u001b[0m         \u001b[0mkey\u001b[0m \u001b[0;34m=\u001b[0m \u001b[0mcom\u001b[0m\u001b[0;34m.\u001b[0m\u001b[0m_apply_if_callable\u001b[0m\u001b[0;34m(\u001b[0m\u001b[0mkey\u001b[0m\u001b[0;34m,\u001b[0m \u001b[0mself\u001b[0m\u001b[0;34m)\u001b[0m\u001b[0;34m\u001b[0m\u001b[0m\n\u001b[1;32m    766\u001b[0m         \u001b[0;32mtry\u001b[0m\u001b[0;34m:\u001b[0m\u001b[0;34m\u001b[0m\u001b[0m\n\u001b[0;32m--> 767\u001b[0;31m             \u001b[0mresult\u001b[0m \u001b[0;34m=\u001b[0m \u001b[0mself\u001b[0m\u001b[0;34m.\u001b[0m\u001b[0mindex\u001b[0m\u001b[0;34m.\u001b[0m\u001b[0mget_value\u001b[0m\u001b[0;34m(\u001b[0m\u001b[0mself\u001b[0m\u001b[0;34m,\u001b[0m \u001b[0mkey\u001b[0m\u001b[0;34m)\u001b[0m\u001b[0;34m\u001b[0m\u001b[0m\n\u001b[0m\u001b[1;32m    768\u001b[0m \u001b[0;34m\u001b[0m\u001b[0m\n\u001b[1;32m    769\u001b[0m             \u001b[0;32mif\u001b[0m \u001b[0;32mnot\u001b[0m \u001b[0mis_scalar\u001b[0m\u001b[0;34m(\u001b[0m\u001b[0mresult\u001b[0m\u001b[0;34m)\u001b[0m\u001b[0;34m:\u001b[0m\u001b[0;34m\u001b[0m\u001b[0m\n",
      "\u001b[0;32m/anaconda3/lib/python3.6/site-packages/pandas/core/indexes/base.py\u001b[0m in \u001b[0;36mget_value\u001b[0;34m(self, series, key)\u001b[0m\n\u001b[1;32m   3116\u001b[0m         \u001b[0;32mtry\u001b[0m\u001b[0;34m:\u001b[0m\u001b[0;34m\u001b[0m\u001b[0m\n\u001b[1;32m   3117\u001b[0m             return self._engine.get_value(s, k,\n\u001b[0;32m-> 3118\u001b[0;31m                                           tz=getattr(series.dtype, 'tz', None))\n\u001b[0m\u001b[1;32m   3119\u001b[0m         \u001b[0;32mexcept\u001b[0m \u001b[0mKeyError\u001b[0m \u001b[0;32mas\u001b[0m \u001b[0me1\u001b[0m\u001b[0;34m:\u001b[0m\u001b[0;34m\u001b[0m\u001b[0m\n\u001b[1;32m   3120\u001b[0m             \u001b[0;32mif\u001b[0m \u001b[0mlen\u001b[0m\u001b[0;34m(\u001b[0m\u001b[0mself\u001b[0m\u001b[0;34m)\u001b[0m \u001b[0;34m>\u001b[0m \u001b[0;36m0\u001b[0m \u001b[0;32mand\u001b[0m \u001b[0mself\u001b[0m\u001b[0;34m.\u001b[0m\u001b[0minferred_type\u001b[0m \u001b[0;32min\u001b[0m \u001b[0;34m[\u001b[0m\u001b[0;34m'integer'\u001b[0m\u001b[0;34m,\u001b[0m \u001b[0;34m'boolean'\u001b[0m\u001b[0;34m]\u001b[0m\u001b[0;34m:\u001b[0m\u001b[0;34m\u001b[0m\u001b[0m\n",
      "\u001b[0;32mpandas/_libs/index.pyx\u001b[0m in \u001b[0;36mpandas._libs.index.IndexEngine.get_value\u001b[0;34m()\u001b[0m\n",
      "\u001b[0;32mpandas/_libs/index.pyx\u001b[0m in \u001b[0;36mpandas._libs.index.IndexEngine.get_value\u001b[0;34m()\u001b[0m\n",
      "\u001b[0;32mpandas/_libs/index.pyx\u001b[0m in \u001b[0;36mpandas._libs.index.IndexEngine.get_loc\u001b[0;34m()\u001b[0m\n",
      "\u001b[0;32mpandas/_libs/hashtable_class_helper.pxi\u001b[0m in \u001b[0;36mpandas._libs.hashtable.Int64HashTable.get_item\u001b[0;34m()\u001b[0m\n",
      "\u001b[0;32mpandas/_libs/hashtable_class_helper.pxi\u001b[0m in \u001b[0;36mpandas._libs.hashtable.Int64HashTable.get_item\u001b[0;34m()\u001b[0m\n",
      "\u001b[0;31mKeyError\u001b[0m: 5318"
     ]
    }
   ],
   "source": [
    "for ind in range(1000,6000):\n",
    "    bb.get_player_data(rookie_players.html[ind], rookie_players.year[ind], rookie_players.name[ind])\n",
    "    if ind % 10 == 0:\n",
    "        print('Processed row:', ind, end='\\r')\n",
    "    "
   ]
  },
  {
   "cell_type": "code",
   "execution_count": 97,
   "metadata": {
    "ExecuteTime": {
     "end_time": "2018-10-10T13:45:09.114510Z",
     "start_time": "2018-10-10T13:45:08.665155Z"
    }
   },
   "outputs": [
    {
     "name": "stdout",
     "output_type": "stream",
     "text": [
      "(2584, 23)\n"
     ]
    },
    {
     "data": {
      "text/plain": [
       "Matt Luke_LAD           2\n",
       "Mike Baxter_NYM         1\n",
       "Jason Bourgeois_HOU     1\n",
       "Omar Quintanilla_COL    1\n",
       "Gustavo Molina_NYY      1\n",
       "Name: name_tm, dtype: int64"
      ]
     },
     "execution_count": 97,
     "metadata": {},
     "output_type": "execute_result"
    }
   ],
   "source": [
    "df_stats = pd.read_csv(PATH_RS, index_col=0)\n",
    "\n",
    "print(df_stats.shape)\n",
    "\n",
    "df_stats['name_tm'] = df_stats.name + '_' + df_stats.Tm\n",
    "df_stats.name_tm.value_counts().sort_values(ascending=False).head()"
   ]
  },
  {
   "cell_type": "code",
   "execution_count": 98,
   "metadata": {
    "ExecuteTime": {
     "end_time": "2018-10-10T13:45:12.976419Z",
     "start_time": "2018-10-10T13:45:12.889276Z"
    }
   },
   "outputs": [
    {
     "data": {
      "text/html": [
       "<div>\n",
       "<style scoped>\n",
       "    .dataframe tbody tr th:only-of-type {\n",
       "        vertical-align: middle;\n",
       "    }\n",
       "\n",
       "    .dataframe tbody tr th {\n",
       "        vertical-align: top;\n",
       "    }\n",
       "\n",
       "    .dataframe thead th {\n",
       "        text-align: right;\n",
       "    }\n",
       "</style>\n",
       "<table border=\"1\" class=\"dataframe\">\n",
       "  <thead>\n",
       "    <tr style=\"text-align: right;\">\n",
       "      <th></th>\n",
       "      <th>Year</th>\n",
       "      <th>Age</th>\n",
       "      <th>Tm</th>\n",
       "      <th>Lg</th>\n",
       "      <th>G</th>\n",
       "      <th>PA</th>\n",
       "      <th>AB</th>\n",
       "      <th>R</th>\n",
       "      <th>H</th>\n",
       "      <th>SB</th>\n",
       "      <th>...</th>\n",
       "      <th>3B</th>\n",
       "      <th>RBI</th>\n",
       "      <th>BB</th>\n",
       "      <th>SO</th>\n",
       "      <th>Awards</th>\n",
       "      <th>position</th>\n",
       "      <th>name</th>\n",
       "      <th>debut</th>\n",
       "      <th>award_count</th>\n",
       "      <th>name_tm</th>\n",
       "    </tr>\n",
       "  </thead>\n",
       "  <tbody>\n",
       "    <tr>\n",
       "      <th>12</th>\n",
       "      <td>1985</td>\n",
       "      <td>26.0</td>\n",
       "      <td>SFG</td>\n",
       "      <td>NL</td>\n",
       "      <td>54.0</td>\n",
       "      <td>130.0</td>\n",
       "      <td>121.0</td>\n",
       "      <td>12.0</td>\n",
       "      <td>23.0</td>\n",
       "      <td>1.0</td>\n",
       "      <td>...</td>\n",
       "      <td>1.0</td>\n",
       "      <td>10.0</td>\n",
       "      <td>5.0</td>\n",
       "      <td>23.0</td>\n",
       "      <td>NaN</td>\n",
       "      <td>Shortstop, Third Baseman and Second Baseman</td>\n",
       "      <td>Ricky Adams</td>\n",
       "      <td>1982-09-15</td>\n",
       "      <td>0</td>\n",
       "      <td>Ricky Adams_SFG</td>\n",
       "    </tr>\n",
       "    <tr>\n",
       "      <th>5</th>\n",
       "      <td>1985</td>\n",
       "      <td>24.0</td>\n",
       "      <td>DET</td>\n",
       "      <td>AL</td>\n",
       "      <td>15.0</td>\n",
       "      <td>27.0</td>\n",
       "      <td>27.0</td>\n",
       "      <td>4.0</td>\n",
       "      <td>5.0</td>\n",
       "      <td>0.0</td>\n",
       "      <td>...</td>\n",
       "      <td>0.0</td>\n",
       "      <td>1.0</td>\n",
       "      <td>0.0</td>\n",
       "      <td>9.0</td>\n",
       "      <td>NaN</td>\n",
       "      <td>Shortstop and Second Baseman</td>\n",
       "      <td>Doug Baker</td>\n",
       "      <td>1984-07-02</td>\n",
       "      <td>0</td>\n",
       "      <td>Doug Baker_DET</td>\n",
       "    </tr>\n",
       "    <tr>\n",
       "      <th>17</th>\n",
       "      <td>1985</td>\n",
       "      <td>27.0</td>\n",
       "      <td>CLE</td>\n",
       "      <td>AL</td>\n",
       "      <td>31.0</td>\n",
       "      <td>73.0</td>\n",
       "      <td>67.0</td>\n",
       "      <td>5.0</td>\n",
       "      <td>12.0</td>\n",
       "      <td>0.0</td>\n",
       "      <td>...</td>\n",
       "      <td>0.0</td>\n",
       "      <td>7.0</td>\n",
       "      <td>3.0</td>\n",
       "      <td>9.0</td>\n",
       "      <td>NaN</td>\n",
       "      <td>Catcher</td>\n",
       "      <td>Butch Benton</td>\n",
       "      <td>1978-09-14</td>\n",
       "      <td>0</td>\n",
       "      <td>Butch Benton_CLE</td>\n",
       "    </tr>\n",
       "    <tr>\n",
       "      <th>6</th>\n",
       "      <td>1985</td>\n",
       "      <td>22.0</td>\n",
       "      <td>CHW</td>\n",
       "      <td>AL</td>\n",
       "      <td>95.0</td>\n",
       "      <td>248.0</td>\n",
       "      <td>232.0</td>\n",
       "      <td>20.0</td>\n",
       "      <td>53.0</td>\n",
       "      <td>8.0</td>\n",
       "      <td>...</td>\n",
       "      <td>1.0</td>\n",
       "      <td>15.0</td>\n",
       "      <td>14.0</td>\n",
       "      <td>44.0</td>\n",
       "      <td>NaN</td>\n",
       "      <td>Outfielder</td>\n",
       "      <td>Daryl Boston</td>\n",
       "      <td>1984-05-13</td>\n",
       "      <td>0</td>\n",
       "      <td>Daryl Boston_CHW</td>\n",
       "    </tr>\n",
       "    <tr>\n",
       "      <th>8</th>\n",
       "      <td>1985</td>\n",
       "      <td>24.0</td>\n",
       "      <td>LAD</td>\n",
       "      <td>NL</td>\n",
       "      <td>24.0</td>\n",
       "      <td>63.0</td>\n",
       "      <td>53.0</td>\n",
       "      <td>4.0</td>\n",
       "      <td>7.0</td>\n",
       "      <td>0.0</td>\n",
       "      <td>...</td>\n",
       "      <td>0.0</td>\n",
       "      <td>6.0</td>\n",
       "      <td>7.0</td>\n",
       "      <td>10.0</td>\n",
       "      <td>NaN</td>\n",
       "      <td>First Baseman</td>\n",
       "      <td>Sid Bream</td>\n",
       "      <td>1983-09-01</td>\n",
       "      <td>0</td>\n",
       "      <td>Sid Bream_LAD</td>\n",
       "    </tr>\n",
       "  </tbody>\n",
       "</table>\n",
       "<p>5 rows × 24 columns</p>\n",
       "</div>"
      ],
      "text/plain": [
       "    Year   Age   Tm  Lg     G     PA     AB     R     H   SB  \\\n",
       "12  1985  26.0  SFG  NL  54.0  130.0  121.0  12.0  23.0  1.0   \n",
       "5   1985  24.0  DET  AL  15.0   27.0   27.0   4.0   5.0  0.0   \n",
       "17  1985  27.0  CLE  AL  31.0   73.0   67.0   5.0  12.0  0.0   \n",
       "6   1985  22.0  CHW  AL  95.0  248.0  232.0  20.0  53.0  8.0   \n",
       "8   1985  24.0  LAD  NL  24.0   63.0   53.0   4.0   7.0  0.0   \n",
       "\n",
       "          ...          3B   RBI    BB    SO  Awards  \\\n",
       "12        ...         1.0  10.0   5.0  23.0     NaN   \n",
       "5         ...         0.0   1.0   0.0   9.0     NaN   \n",
       "17        ...         0.0   7.0   3.0   9.0     NaN   \n",
       "6         ...         1.0  15.0  14.0  44.0     NaN   \n",
       "8         ...         0.0   6.0   7.0  10.0     NaN   \n",
       "\n",
       "                                       position          name       debut  \\\n",
       "12  Shortstop, Third Baseman and Second Baseman   Ricky Adams  1982-09-15   \n",
       "5                  Shortstop and Second Baseman    Doug Baker  1984-07-02   \n",
       "17                                      Catcher  Butch Benton  1978-09-14   \n",
       "6                                    Outfielder  Daryl Boston  1984-05-13   \n",
       "8                                 First Baseman     Sid Bream  1983-09-01   \n",
       "\n",
       "   award_count           name_tm  \n",
       "12           0   Ricky Adams_SFG  \n",
       "5            0    Doug Baker_DET  \n",
       "17           0  Butch Benton_CLE  \n",
       "6            0  Daryl Boston_CHW  \n",
       "8            0     Sid Bream_LAD  \n",
       "\n",
       "[5 rows x 24 columns]"
      ]
     },
     "execution_count": 98,
     "metadata": {},
     "output_type": "execute_result"
    }
   ],
   "source": [
    "df_stats.head()"
   ]
  },
  {
   "cell_type": "code",
   "execution_count": 99,
   "metadata": {
    "ExecuteTime": {
     "end_time": "2018-10-10T13:46:25.980638Z",
     "start_time": "2018-10-10T13:46:25.880014Z"
    }
   },
   "outputs": [],
   "source": [
    "df_stats = pd.read_csv(PATH_RS, index_col=0)\n",
    "agg_df_stats = df_stats.groupby(['Year', 'Age', 'name', 'debut', 'position']).sum().reset_index()"
   ]
  },
  {
   "cell_type": "code",
   "execution_count": 100,
   "metadata": {
    "ExecuteTime": {
     "end_time": "2018-10-10T13:46:30.242752Z",
     "start_time": "2018-10-10T13:46:30.207739Z"
    }
   },
   "outputs": [
    {
     "data": {
      "text/plain": [
       "1317    163.0\n",
       "588     162.0\n",
       "1569    162.0\n",
       "1118    161.0\n",
       "172     161.0\n",
       "Name: G, dtype: float64"
      ]
     },
     "execution_count": 100,
     "metadata": {},
     "output_type": "execute_result"
    }
   ],
   "source": [
    "agg_df_stats.G.sort_values(ascending=False).head()"
   ]
  },
  {
   "cell_type": "code",
   "execution_count": 101,
   "metadata": {
    "ExecuteTime": {
     "end_time": "2018-10-10T13:46:33.396321Z",
     "start_time": "2018-10-10T13:46:33.358417Z"
    }
   },
   "outputs": [
    {
     "data": {
      "text/plain": [
       "Year                                        2003\n",
       "Age                                           29\n",
       "name                               Hideki Matsui\n",
       "debut                                 2003-03-31\n",
       "position       Leftfielder and Designated Hitter\n",
       "G                                            163\n",
       "PA                                           695\n",
       "AB                                           623\n",
       "R                                             82\n",
       "H                                            179\n",
       "SB                                             2\n",
       "BA                                         0.287\n",
       "HR                                            16\n",
       "TB                                           271\n",
       "2B                                            42\n",
       "3B                                             1\n",
       "RBI                                          106\n",
       "BB                                            63\n",
       "SO                                            86\n",
       "award_count                                    2\n",
       "Name: 1317, dtype: object"
      ]
     },
     "execution_count": 101,
     "metadata": {},
     "output_type": "execute_result"
    }
   ],
   "source": [
    "agg_df_stats.loc[1317] # confirmed on br that matsui played 163 games"
   ]
  },
  {
   "cell_type": "code",
   "execution_count": 102,
   "metadata": {
    "ExecuteTime": {
     "end_time": "2018-10-10T13:46:40.819721Z",
     "start_time": "2018-10-10T13:46:40.783333Z"
    }
   },
   "outputs": [
    {
     "data": {
      "text/plain": [
       "2423    52.0\n",
       "143     49.0\n",
       "2388    39.0\n",
       "1118    37.0\n",
       "2199    36.0\n",
       "Name: HR, dtype: float64"
      ]
     },
     "execution_count": 102,
     "metadata": {},
     "output_type": "execute_result"
    }
   ],
   "source": [
    "agg_df_stats.HR.sort_values(ascending=False).head()"
   ]
  },
  {
   "cell_type": "code",
   "execution_count": 103,
   "metadata": {
    "ExecuteTime": {
     "end_time": "2018-10-10T13:46:43.601019Z",
     "start_time": "2018-10-10T13:46:43.566589Z"
    }
   },
   "outputs": [
    {
     "data": {
      "text/plain": [
       "Year                   2017\n",
       "Age                      25\n",
       "name            Aaron Judge\n",
       "debut            2016-08-13\n",
       "position       Rightfielder\n",
       "G                       155\n",
       "PA                      678\n",
       "AB                      542\n",
       "R                       128\n",
       "H                       154\n",
       "SB                        9\n",
       "BA                    0.284\n",
       "HR                       52\n",
       "TB                      340\n",
       "2B                       24\n",
       "3B                        3\n",
       "RBI                     114\n",
       "BB                      127\n",
       "SO                      208\n",
       "award_count               4\n",
       "Name: 2423, dtype: object"
      ]
     },
     "execution_count": 103,
     "metadata": {},
     "output_type": "execute_result"
    }
   ],
   "source": [
    "agg_df_stats.loc[2423] # confirmed on br"
   ]
  },
  {
   "cell_type": "code",
   "execution_count": 104,
   "metadata": {
    "ExecuteTime": {
     "end_time": "2018-10-10T13:48:08.787365Z",
     "start_time": "2018-10-10T13:48:08.669252Z"
    }
   },
   "outputs": [],
   "source": [
    "agg_df_stats['name_year'] = agg_df_stats.name + '_' + agg_df_stats.Year.astype('str')\n",
    "agg_df_stats.to_csv('data/processed_df/agg_df_stats.csv')"
   ]
  },
  {
   "cell_type": "markdown",
   "metadata": {},
   "source": [
    "#### Build salary data table"
   ]
  },
  {
   "cell_type": "code",
   "execution_count": 4,
   "metadata": {
    "ExecuteTime": {
     "end_time": "2018-10-09T18:28:17.976180Z",
     "start_time": "2018-10-09T18:28:17.768234Z"
    }
   },
   "outputs": [],
   "source": [
    "hist_salaries = pd.read_csv('data/processed_df/hist_salaries.csv',index_col=0)"
   ]
  },
  {
   "cell_type": "code",
   "execution_count": 9,
   "metadata": {
    "ExecuteTime": {
     "end_time": "2018-10-09T18:32:51.415942Z",
     "start_time": "2018-10-09T18:32:51.373023Z"
    }
   },
   "outputs": [
    {
     "data": {
      "text/html": [
       "<div>\n",
       "<style scoped>\n",
       "    .dataframe tbody tr th:only-of-type {\n",
       "        vertical-align: middle;\n",
       "    }\n",
       "\n",
       "    .dataframe tbody tr th {\n",
       "        vertical-align: top;\n",
       "    }\n",
       "\n",
       "    .dataframe thead th {\n",
       "        text-align: right;\n",
       "    }\n",
       "</style>\n",
       "<table border=\"1\" class=\"dataframe\">\n",
       "  <thead>\n",
       "    <tr style=\"text-align: right;\">\n",
       "      <th></th>\n",
       "      <th>Year</th>\n",
       "      <th>Age</th>\n",
       "      <th>name</th>\n",
       "      <th>UID</th>\n",
       "      <th>rookie_year</th>\n",
       "      <th>name_year</th>\n",
       "      <th>Salary</th>\n",
       "      <th>SrvTm</th>\n",
       "    </tr>\n",
       "  </thead>\n",
       "  <tbody>\n",
       "    <tr>\n",
       "      <th>0</th>\n",
       "      <td>1991</td>\n",
       "      <td>27.0</td>\n",
       "      <td>Ozzie Guillen</td>\n",
       "      <td>40</td>\n",
       "      <td>1985</td>\n",
       "      <td>Ozzie Guillen_1985</td>\n",
       "      <td>1600000.0</td>\n",
       "      <td>0.0</td>\n",
       "    </tr>\n",
       "    <tr>\n",
       "      <th>1</th>\n",
       "      <td>1991</td>\n",
       "      <td>28.0</td>\n",
       "      <td>Daryl Boston</td>\n",
       "      <td>7</td>\n",
       "      <td>1985</td>\n",
       "      <td>Daryl Boston_1985</td>\n",
       "      <td>750000.0</td>\n",
       "      <td>0.0</td>\n",
       "    </tr>\n",
       "    <tr>\n",
       "      <th>2</th>\n",
       "      <td>1991</td>\n",
       "      <td>28.0</td>\n",
       "      <td>Lenny Dykstra</td>\n",
       "      <td>30</td>\n",
       "      <td>1985</td>\n",
       "      <td>Lenny Dykstra_1985</td>\n",
       "      <td>2216666.0</td>\n",
       "      <td>0.0</td>\n",
       "    </tr>\n",
       "    <tr>\n",
       "      <th>3</th>\n",
       "      <td>1991</td>\n",
       "      <td>28.0</td>\n",
       "      <td>Mariano Duncan</td>\n",
       "      <td>28</td>\n",
       "      <td>1985</td>\n",
       "      <td>Mariano Duncan_1985</td>\n",
       "      <td>925000.0</td>\n",
       "      <td>0.0</td>\n",
       "    </tr>\n",
       "    <tr>\n",
       "      <th>4</th>\n",
       "      <td>1991</td>\n",
       "      <td>28.0</td>\n",
       "      <td>Shawon Dunston</td>\n",
       "      <td>29</td>\n",
       "      <td>1985</td>\n",
       "      <td>Shawon Dunston_1985</td>\n",
       "      <td>2100000.0</td>\n",
       "      <td>0.0</td>\n",
       "    </tr>\n",
       "  </tbody>\n",
       "</table>\n",
       "</div>"
      ],
      "text/plain": [
       "   Year   Age            name  UID  rookie_year            name_year  \\\n",
       "0  1991  27.0   Ozzie Guillen   40         1985   Ozzie Guillen_1985   \n",
       "1  1991  28.0    Daryl Boston    7         1985    Daryl Boston_1985   \n",
       "2  1991  28.0   Lenny Dykstra   30         1985   Lenny Dykstra_1985   \n",
       "3  1991  28.0  Mariano Duncan   28         1985  Mariano Duncan_1985   \n",
       "4  1991  28.0  Shawon Dunston   29         1985  Shawon Dunston_1985   \n",
       "\n",
       "      Salary  SrvTm  \n",
       "0  1600000.0    0.0  \n",
       "1   750000.0    0.0  \n",
       "2  2216666.0    0.0  \n",
       "3   925000.0    0.0  \n",
       "4  2100000.0    0.0  "
      ]
     },
     "execution_count": 9,
     "metadata": {},
     "output_type": "execute_result"
    }
   ],
   "source": [
    "hist_salaries.head()"
   ]
  },
  {
   "cell_type": "code",
   "execution_count": 16,
   "metadata": {
    "ExecuteTime": {
     "end_time": "2018-10-09T18:41:30.580374Z",
     "start_time": "2018-10-09T18:41:30.548156Z"
    }
   },
   "outputs": [],
   "source": [
    "def convert_today(x):\n",
    "    result = x.Salary\n",
    "    if x.Year < 2018:\n",
    "        result = cpi.inflate(x.Salary, x.Year)\n",
    "    return result"
   ]
  },
  {
   "cell_type": "code",
   "execution_count": 17,
   "metadata": {
    "ExecuteTime": {
     "end_time": "2018-10-09T18:41:31.719982Z",
     "start_time": "2018-10-09T18:41:31.517930Z"
    }
   },
   "outputs": [],
   "source": [
    "hist_salaries['today_salary'] = hist_salaries.apply(lambda x: convert_today(x), axis = 1)"
   ]
  },
  {
   "cell_type": "code",
   "execution_count": 18,
   "metadata": {
    "ExecuteTime": {
     "end_time": "2018-10-09T18:41:38.351159Z",
     "start_time": "2018-10-09T18:41:38.307613Z"
    }
   },
   "outputs": [
    {
     "data": {
      "text/html": [
       "<div>\n",
       "<style scoped>\n",
       "    .dataframe tbody tr th:only-of-type {\n",
       "        vertical-align: middle;\n",
       "    }\n",
       "\n",
       "    .dataframe tbody tr th {\n",
       "        vertical-align: top;\n",
       "    }\n",
       "\n",
       "    .dataframe thead th {\n",
       "        text-align: right;\n",
       "    }\n",
       "</style>\n",
       "<table border=\"1\" class=\"dataframe\">\n",
       "  <thead>\n",
       "    <tr style=\"text-align: right;\">\n",
       "      <th></th>\n",
       "      <th>Year</th>\n",
       "      <th>Age</th>\n",
       "      <th>name</th>\n",
       "      <th>UID</th>\n",
       "      <th>rookie_year</th>\n",
       "      <th>name_year</th>\n",
       "      <th>Salary</th>\n",
       "      <th>SrvTm</th>\n",
       "      <th>today_salary</th>\n",
       "    </tr>\n",
       "  </thead>\n",
       "  <tbody>\n",
       "    <tr>\n",
       "      <th>0</th>\n",
       "      <td>1991</td>\n",
       "      <td>27.0</td>\n",
       "      <td>Ozzie Guillen</td>\n",
       "      <td>40</td>\n",
       "      <td>1985</td>\n",
       "      <td>Ozzie Guillen_1985</td>\n",
       "      <td>1600000.0</td>\n",
       "      <td>0.0</td>\n",
       "      <td>2.879530e+06</td>\n",
       "    </tr>\n",
       "    <tr>\n",
       "      <th>1</th>\n",
       "      <td>1991</td>\n",
       "      <td>28.0</td>\n",
       "      <td>Daryl Boston</td>\n",
       "      <td>7</td>\n",
       "      <td>1985</td>\n",
       "      <td>Daryl Boston_1985</td>\n",
       "      <td>750000.0</td>\n",
       "      <td>0.0</td>\n",
       "      <td>1.349780e+06</td>\n",
       "    </tr>\n",
       "    <tr>\n",
       "      <th>2</th>\n",
       "      <td>1991</td>\n",
       "      <td>28.0</td>\n",
       "      <td>Lenny Dykstra</td>\n",
       "      <td>30</td>\n",
       "      <td>1985</td>\n",
       "      <td>Lenny Dykstra_1985</td>\n",
       "      <td>2216666.0</td>\n",
       "      <td>0.0</td>\n",
       "      <td>3.989348e+06</td>\n",
       "    </tr>\n",
       "    <tr>\n",
       "      <th>3</th>\n",
       "      <td>1991</td>\n",
       "      <td>28.0</td>\n",
       "      <td>Mariano Duncan</td>\n",
       "      <td>28</td>\n",
       "      <td>1985</td>\n",
       "      <td>Mariano Duncan_1985</td>\n",
       "      <td>925000.0</td>\n",
       "      <td>0.0</td>\n",
       "      <td>1.664728e+06</td>\n",
       "    </tr>\n",
       "    <tr>\n",
       "      <th>4</th>\n",
       "      <td>1991</td>\n",
       "      <td>28.0</td>\n",
       "      <td>Shawon Dunston</td>\n",
       "      <td>29</td>\n",
       "      <td>1985</td>\n",
       "      <td>Shawon Dunston_1985</td>\n",
       "      <td>2100000.0</td>\n",
       "      <td>0.0</td>\n",
       "      <td>3.779383e+06</td>\n",
       "    </tr>\n",
       "  </tbody>\n",
       "</table>\n",
       "</div>"
      ],
      "text/plain": [
       "   Year   Age            name  UID  rookie_year            name_year  \\\n",
       "0  1991  27.0   Ozzie Guillen   40         1985   Ozzie Guillen_1985   \n",
       "1  1991  28.0    Daryl Boston    7         1985    Daryl Boston_1985   \n",
       "2  1991  28.0   Lenny Dykstra   30         1985   Lenny Dykstra_1985   \n",
       "3  1991  28.0  Mariano Duncan   28         1985  Mariano Duncan_1985   \n",
       "4  1991  28.0  Shawon Dunston   29         1985  Shawon Dunston_1985   \n",
       "\n",
       "      Salary  SrvTm  today_salary  \n",
       "0  1600000.0    0.0  2.879530e+06  \n",
       "1   750000.0    0.0  1.349780e+06  \n",
       "2  2216666.0    0.0  3.989348e+06  \n",
       "3   925000.0    0.0  1.664728e+06  \n",
       "4  2100000.0    0.0  3.779383e+06  "
      ]
     },
     "execution_count": 18,
     "metadata": {},
     "output_type": "execute_result"
    }
   ],
   "source": [
    "hist_salaries.head()"
   ]
  },
  {
   "cell_type": "code",
   "execution_count": 19,
   "metadata": {
    "ExecuteTime": {
     "end_time": "2018-10-09T18:45:28.137172Z",
     "start_time": "2018-10-09T18:45:28.067557Z"
    }
   },
   "outputs": [],
   "source": [
    "hist_salaries.to_csv('data/processed_df/hist_salaries.csv')"
   ]
  },
  {
   "cell_type": "code",
   "execution_count": 14,
   "metadata": {
    "ExecuteTime": {
     "end_time": "2018-10-08T19:04:11.903454Z",
     "start_time": "2018-10-08T18:56:46.641515Z"
    }
   },
   "outputs": [],
   "source": [
    "# salary_dfs = ([bb.load_salary_data(pd.read_csv(f'data/rookie_player_partition/rookie_player_{i}.csv', index_col=0))\n",
    "#                                       for i in range(11)])\n",
    "# salary_df = pd.concat(salary_dfs)\n",
    "salary_df = bb.load_salary_data(rookie_players.iloc[:1000].reset_index())"
   ]
  },
  {
   "cell_type": "code",
   "execution_count": 4,
   "metadata": {
    "ExecuteTime": {
     "end_time": "2018-10-07T23:03:50.993637Z",
     "start_time": "2018-10-07T23:03:50.797364Z"
    }
   },
   "outputs": [],
   "source": [
    "salary_df = pd.read_csv(PATH_S)"
   ]
  },
  {
   "cell_type": "code",
   "execution_count": 13,
   "metadata": {
    "ExecuteTime": {
     "end_time": "2018-10-07T23:10:24.068764Z",
     "start_time": "2018-10-07T23:10:23.948826Z"
    }
   },
   "outputs": [
    {
     "data": {
      "text/plain": [
       "True"
      ]
     },
     "execution_count": 13,
     "metadata": {},
     "output_type": "execute_result"
    }
   ],
   "source": [
    "salary_df.groupby(['Year','name']).nunique().index.is_unique"
   ]
  },
  {
   "cell_type": "code",
   "execution_count": null,
   "metadata": {},
   "outputs": [],
   "source": []
  },
  {
   "cell_type": "markdown",
   "metadata": {},
   "source": [
    "#### Build feature table"
   ]
  },
  {
   "cell_type": "code",
   "execution_count": 15,
   "metadata": {
    "ExecuteTime": {
     "end_time": "2018-10-08T19:04:43.440745Z",
     "start_time": "2018-10-08T19:04:42.161802Z"
    }
   },
   "outputs": [
    {
     "name": "stderr",
     "output_type": "stream",
     "text": [
      "/anaconda3/lib/python3.6/site-packages/sklearn/cross_validation.py:41: DeprecationWarning: This module was deprecated in version 0.18 in favor of the model_selection module into which all the refactored classes and functions are moved. Also note that the interface of the new CV iterators are different from that of this module. This module will be removed in 0.20.\n",
      "  \"This module will be removed in 0.20.\", DeprecationWarning)\n"
     ]
    }
   ],
   "source": [
    "# Necessary imports\n",
    "import pandas as pd\n",
    "import numpy as np\n",
    "import seaborn as sns\n",
    "from  matplotlib import pyplot as plt\n",
    "from sklearn.linear_model import LinearRegression\n",
    "from sklearn.model_selection import train_test_split\n",
    "from sklearn.linear_model import RidgeCV\n",
    "from sklearn.pipeline import make_pipeline\n",
    "from sklearn.preprocessing import PolynomialFeatures\n",
    "from sklearn.cross_validation import KFold\n",
    "from sklearn.preprocessing import StandardScaler\n",
    "\n",
    "%config InlineBackend.figure_format = 'svg'\n",
    "%matplotlib inline"
   ]
  },
  {
   "cell_type": "code",
   "execution_count": 41,
   "metadata": {
    "ExecuteTime": {
     "end_time": "2018-10-08T19:11:01.069003Z",
     "start_time": "2018-10-08T19:11:01.002059Z"
    }
   },
   "outputs": [],
   "source": [
    "y = salary_df.merge(df_stats, on='name')\n",
    "y = y.groupby('name')['Salary'].max().reset_index()\n",
    "y = y.loc[:,'Salary']\n",
    "y = np.log(y)"
   ]
  },
  {
   "cell_type": "code",
   "execution_count": 42,
   "metadata": {
    "ExecuteTime": {
     "end_time": "2018-10-08T19:11:01.835959Z",
     "start_time": "2018-10-08T19:11:01.769248Z"
    }
   },
   "outputs": [
    {
     "data": {
      "text/plain": [
       "(467,)"
      ]
     },
     "execution_count": 42,
     "metadata": {},
     "output_type": "execute_result"
    }
   ],
   "source": [
    "X = df_stats.merge(salary_df, on='name')\n",
    "X = X.groupby('name')['BA'].max().reset_index()\n",
    "X = X.loc[:,'BA']\n",
    "X.shape"
   ]
  },
  {
   "cell_type": "code",
   "execution_count": 46,
   "metadata": {
    "ExecuteTime": {
     "end_time": "2018-10-08T19:11:32.639978Z",
     "start_time": "2018-10-08T19:11:32.593571Z"
    }
   },
   "outputs": [],
   "source": [
    "X_train, X_test, y_train, y_test = train_test_split(X, y, test_size=0.4,random_state=42)"
   ]
  },
  {
   "cell_type": "code",
   "execution_count": 47,
   "metadata": {
    "ExecuteTime": {
     "end_time": "2018-10-08T19:11:33.944671Z",
     "start_time": "2018-10-08T19:11:33.897238Z"
    }
   },
   "outputs": [],
   "source": [
    "# scikit learn requires the inputs to be in this shape\n",
    "X_train = X_train.values.reshape((len(X_train),1));\n",
    "y_train = y_train.values.reshape((len(y_train),1));\n",
    "X_test = X_test.values.reshape((len(X_test),1));\n",
    "y_test = y_test.values.reshape((len(y_test),1));"
   ]
  },
  {
   "cell_type": "code",
   "execution_count": 34,
   "metadata": {
    "ExecuteTime": {
     "end_time": "2018-10-08T19:09:54.564660Z",
     "start_time": "2018-10-08T19:09:54.517469Z"
    }
   },
   "outputs": [
    {
     "data": {
      "text/plain": [
       "Series([], Name: Salary, dtype: float64)"
      ]
     },
     "execution_count": 34,
     "metadata": {},
     "output_type": "execute_result"
    }
   ],
   "source": [
    "y[y.isnull()]"
   ]
  },
  {
   "cell_type": "code",
   "execution_count": 44,
   "metadata": {
    "ExecuteTime": {
     "end_time": "2018-10-08T19:11:14.819384Z",
     "start_time": "2018-10-08T19:11:14.771093Z"
    }
   },
   "outputs": [],
   "source": [
    "X[X.isnull()] = 0"
   ]
  },
  {
   "cell_type": "code",
   "execution_count": 62,
   "metadata": {
    "ExecuteTime": {
     "end_time": "2018-10-08T19:17:04.523851Z",
     "start_time": "2018-10-08T19:17:04.477790Z"
    }
   },
   "outputs": [],
   "source": [
    "model = LinearRegression()\n",
    "fit = model.fit(X_train,y_train)"
   ]
  },
  {
   "cell_type": "code",
   "execution_count": 65,
   "metadata": {
    "ExecuteTime": {
     "end_time": "2018-10-08T19:17:27.168382Z",
     "start_time": "2018-10-08T19:17:27.115617Z"
    }
   },
   "outputs": [
    {
     "data": {
      "text/plain": [
       "0.05507785181808888"
      ]
     },
     "execution_count": 65,
     "metadata": {},
     "output_type": "execute_result"
    }
   ],
   "source": [
    "fit.score(X_train, y_train)"
   ]
  },
  {
   "cell_type": "code",
   "execution_count": 67,
   "metadata": {
    "ExecuteTime": {
     "end_time": "2018-10-08T19:20:32.035270Z",
     "start_time": "2018-10-08T19:20:31.743724Z"
    }
   },
   "outputs": [
    {
     "data": {
      "image/svg+xml": [
       "<?xml version=\"1.0\" encoding=\"utf-8\" standalone=\"no\"?>\n",
       "<!DOCTYPE svg PUBLIC \"-//W3C//DTD SVG 1.1//EN\"\n",
       "  \"http://www.w3.org/Graphics/SVG/1.1/DTD/svg11.dtd\">\n",
       "<!-- Created with matplotlib (http://matplotlib.org/) -->\n",
       "<svg height=\"277.5925pt\" version=\"1.1\" viewBox=\"0 0 386.957813 277.5925\" width=\"386.957813pt\" xmlns=\"http://www.w3.org/2000/svg\" xmlns:xlink=\"http://www.w3.org/1999/xlink\">\n",
       " <defs>\n",
       "  <style type=\"text/css\">\n",
       "*{stroke-linecap:butt;stroke-linejoin:round;}\n",
       "  </style>\n",
       " </defs>\n",
       " <g id=\"figure_1\">\n",
       "  <g id=\"patch_1\">\n",
       "   <path d=\"M 0 277.5925 \n",
       "L 386.957813 277.5925 \n",
       "L 386.957813 0 \n",
       "L 0 0 \n",
       "z\n",
       "\" style=\"fill:none;\"/>\n",
       "  </g>\n",
       "  <g id=\"axes_1\">\n",
       "   <g id=\"patch_2\">\n",
       "    <path d=\"M 40.603125 239.758125 \n",
       "L 375.403125 239.758125 \n",
       "L 375.403125 22.318125 \n",
       "L 40.603125 22.318125 \n",
       "z\n",
       "\" style=\"fill:#ffffff;\"/>\n",
       "   </g>\n",
       "   <g id=\"PathCollection_1\">\n",
       "    <defs>\n",
       "     <path d=\"M 0 3 \n",
       "C 0.795609 3 1.55874 2.683901 2.12132 2.12132 \n",
       "C 2.683901 1.55874 3 0.795609 3 0 \n",
       "C 3 -0.795609 2.683901 -1.55874 2.12132 -2.12132 \n",
       "C 1.55874 -2.683901 0.795609 -3 0 -3 \n",
       "C -0.795609 -3 -1.55874 -2.683901 -2.12132 -2.12132 \n",
       "C -2.683901 -1.55874 -3 -0.795609 -3 0 \n",
       "C -3 0.795609 -2.683901 1.55874 -2.12132 2.12132 \n",
       "C -1.55874 2.683901 -0.795609 3 0 3 \n",
       "z\n",
       "\" id=\"m3701776520\" style=\"stroke:#1f77b4;stroke-opacity:0.5;\"/>\n",
       "    </defs>\n",
       "    <g clip-path=\"url(#pff65415211)\">\n",
       "     <use style=\"fill:#1f77b4;fill-opacity:0.5;stroke:#1f77b4;stroke-opacity:0.5;\" x=\"196.455959\" xlink:href=\"#m3701776520\" y=\"59.698666\"/>\n",
       "     <use style=\"fill:#1f77b4;fill-opacity:0.5;stroke:#1f77b4;stroke-opacity:0.5;\" x=\"211.556099\" xlink:href=\"#m3701776520\" y=\"161.789406\"/>\n",
       "     <use style=\"fill:#1f77b4;fill-opacity:0.5;stroke:#1f77b4;stroke-opacity:0.5;\" x=\"281.727337\" xlink:href=\"#m3701776520\" y=\"86.594418\"/>\n",
       "     <use style=\"fill:#1f77b4;fill-opacity:0.5;stroke:#1f77b4;stroke-opacity:0.5;\" x=\"314.592348\" xlink:href=\"#m3701776520\" y=\"80.117958\"/>\n",
       "     <use style=\"fill:#1f77b4;fill-opacity:0.5;stroke:#1f77b4;stroke-opacity:0.5;\" x=\"285.280311\" xlink:href=\"#m3701776520\" y=\"58.014482\"/>\n",
       "     <use style=\"fill:#1f77b4;fill-opacity:0.5;stroke:#1f77b4;stroke-opacity:0.5;\" x=\"302.156938\" xlink:href=\"#m3701776520\" y=\"71.38953\"/>\n",
       "     <use style=\"fill:#1f77b4;fill-opacity:0.5;stroke:#1f77b4;stroke-opacity:0.5;\" x=\"317.257078\" xlink:href=\"#m3701776520\" y=\"100.46457\"/>\n",
       "     <use style=\"fill:#1f77b4;fill-opacity:0.5;stroke:#1f77b4;stroke-opacity:0.5;\" x=\"279.95085\" xlink:href=\"#m3701776520\" y=\"147.691582\"/>\n",
       "     <use style=\"fill:#1f77b4;fill-opacity:0.5;stroke:#1f77b4;stroke-opacity:0.5;\" x=\"267.515441\" xlink:href=\"#m3701776520\" y=\"149.142583\"/>\n",
       "     <use style=\"fill:#1f77b4;fill-opacity:0.5;stroke:#1f77b4;stroke-opacity:0.5;\" x=\"271.068415\" xlink:href=\"#m3701776520\" y=\"159.637456\"/>\n",
       "     <use style=\"fill:#1f77b4;fill-opacity:0.5;stroke:#1f77b4;stroke-opacity:0.5;\" x=\"277.28612\" xlink:href=\"#m3701776520\" y=\"180.034014\"/>\n",
       "     <use style=\"fill:#1f77b4;fill-opacity:0.5;stroke:#1f77b4;stroke-opacity:0.5;\" x=\"306.598156\" xlink:href=\"#m3701776520\" y=\"136.004555\"/>\n",
       "     <use style=\"fill:#1f77b4;fill-opacity:0.5;stroke:#1f77b4;stroke-opacity:0.5;\" x=\"319.033565\" xlink:href=\"#m3701776520\" y=\"159.637456\"/>\n",
       "     <use style=\"fill:#1f77b4;fill-opacity:0.5;stroke:#1f77b4;stroke-opacity:0.5;\" x=\"279.95085\" xlink:href=\"#m3701776520\" y=\"192.086706\"/>\n",
       "     <use style=\"fill:#1f77b4;fill-opacity:0.5;stroke:#1f77b4;stroke-opacity:0.5;\" x=\"224.879752\" xlink:href=\"#m3701776520\" y=\"156.854257\"/>\n",
       "     <use style=\"fill:#1f77b4;fill-opacity:0.5;stroke:#1f77b4;stroke-opacity:0.5;\" x=\"282.615581\" xlink:href=\"#m3701776520\" y=\"72.135165\"/>\n",
       "     <use style=\"fill:#1f77b4;fill-opacity:0.5;stroke:#1f77b4;stroke-opacity:0.5;\" x=\"221.326778\" xlink:href=\"#m3701776520\" y=\"106.40187\"/>\n",
       "     <use style=\"fill:#1f77b4;fill-opacity:0.5;stroke:#1f77b4;stroke-opacity:0.5;\" x=\"284.392068\" xlink:href=\"#m3701776520\" y=\"67.25528\"/>\n",
       "     <use style=\"fill:#1f77b4;fill-opacity:0.5;stroke:#1f77b4;stroke-opacity:0.5;\" x=\"251.527058\" xlink:href=\"#m3701776520\" y=\"95.835216\"/>\n",
       "     <use style=\"fill:#1f77b4;fill-opacity:0.5;stroke:#1f77b4;stroke-opacity:0.5;\" x=\"276.397876\" xlink:href=\"#m3701776520\" y=\"178.096067\"/>\n",
       "     <use style=\"fill:#1f77b4;fill-opacity:0.5;stroke:#1f77b4;stroke-opacity:0.5;\" x=\"234.650431\" xlink:href=\"#m3701776520\" y=\"153.950682\"/>\n",
       "     <use style=\"fill:#1f77b4;fill-opacity:0.5;stroke:#1f77b4;stroke-opacity:0.5;\" x=\"259.521249\" xlink:href=\"#m3701776520\" y=\"131.140807\"/>\n",
       "     <use style=\"fill:#1f77b4;fill-opacity:0.5;stroke:#1f77b4;stroke-opacity:0.5;\" x=\"256.856519\" xlink:href=\"#m3701776520\" y=\"174.214229\"/>\n",
       "     <use style=\"fill:#1f77b4;fill-opacity:0.5;stroke:#1f77b4;stroke-opacity:0.5;\" x=\"256.856519\" xlink:href=\"#m3701776520\" y=\"193.286504\"/>\n",
       "     <use style=\"fill:#1f77b4;fill-opacity:0.5;stroke:#1f77b4;stroke-opacity:0.5;\" x=\"208.891369\" xlink:href=\"#m3701776520\" y=\"173.557554\"/>\n",
       "     <use style=\"fill:#1f77b4;fill-opacity:0.5;stroke:#1f77b4;stroke-opacity:0.5;\" x=\"279.062607\" xlink:href=\"#m3701776520\" y=\"185.244581\"/>\n",
       "     <use style=\"fill:#1f77b4;fill-opacity:0.5;stroke:#1f77b4;stroke-opacity:0.5;\" x=\"279.95085\" xlink:href=\"#m3701776520\" y=\"91.49151\"/>\n",
       "     <use style=\"fill:#1f77b4;fill-opacity:0.5;stroke:#1f77b4;stroke-opacity:0.5;\" x=\"286.168555\" xlink:href=\"#m3701776520\" y=\"138.01757\"/>\n",
       "     <use style=\"fill:#1f77b4;fill-opacity:0.5;stroke:#1f77b4;stroke-opacity:0.5;\" x=\"246.197596\" xlink:href=\"#m3701776520\" y=\"211.767228\"/>\n",
       "     <use style=\"fill:#1f77b4;fill-opacity:0.5;stroke:#1f77b4;stroke-opacity:0.5;\" x=\"331.468975\" xlink:href=\"#m3701776520\" y=\"101.094711\"/>\n",
       "     <use style=\"fill:#1f77b4;fill-opacity:0.5;stroke:#1f77b4;stroke-opacity:0.5;\" x=\"254.191788\" xlink:href=\"#m3701776520\" y=\"192.086706\"/>\n",
       "     <use style=\"fill:#1f77b4;fill-opacity:0.5;stroke:#1f77b4;stroke-opacity:0.5;\" x=\"230.209213\" xlink:href=\"#m3701776520\" y=\"150.664393\"/>\n",
       "     <use style=\"fill:#1f77b4;fill-opacity:0.5;stroke:#1f77b4;stroke-opacity:0.5;\" x=\"297.715721\" xlink:href=\"#m3701776520\" y=\"79.105699\"/>\n",
       "     <use style=\"fill:#1f77b4;fill-opacity:0.5;stroke:#1f77b4;stroke-opacity:0.5;\" x=\"259.521249\" xlink:href=\"#m3701776520\" y=\"87.200085\"/>\n",
       "     <use style=\"fill:#1f77b4;fill-opacity:0.5;stroke:#1f77b4;stroke-opacity:0.5;\" x=\"263.074223\" xlink:href=\"#m3701776520\" y=\"200.09403\"/>\n",
       "     <use style=\"fill:#1f77b4;fill-opacity:0.5;stroke:#1f77b4;stroke-opacity:0.5;\" x=\"247.08584\" xlink:href=\"#m3701776520\" y=\"193.904166\"/>\n",
       "     <use style=\"fill:#1f77b4;fill-opacity:0.5;stroke:#1f77b4;stroke-opacity:0.5;\" x=\"286.168555\" xlink:href=\"#m3701776520\" y=\"71.884635\"/>\n",
       "     <use style=\"fill:#1f77b4;fill-opacity:0.5;stroke:#1f77b4;stroke-opacity:0.5;\" x=\"306.598156\" xlink:href=\"#m3701776520\" y=\"72.387725\"/>\n",
       "     <use style=\"fill:#1f77b4;fill-opacity:0.5;stroke:#1f77b4;stroke-opacity:0.5;\" x=\"285.280311\" xlink:href=\"#m3701776520\" y=\"62.756005\"/>\n",
       "     <use style=\"fill:#1f77b4;fill-opacity:0.5;stroke:#1f77b4;stroke-opacity:0.5;\" x=\"166.255679\" xlink:href=\"#m3701776520\" y=\"131.476197\"/>\n",
       "     <use style=\"fill:#1f77b4;fill-opacity:0.5;stroke:#1f77b4;stroke-opacity:0.5;\" x=\"263.074223\" xlink:href=\"#m3701776520\" y=\"74.789915\"/>\n",
       "     <use style=\"fill:#1f77b4;fill-opacity:0.5;stroke:#1f77b4;stroke-opacity:0.5;\" x=\"227.544483\" xlink:href=\"#m3701776520\" y=\"199.942249\"/>\n",
       "     <use style=\"fill:#1f77b4;fill-opacity:0.5;stroke:#1f77b4;stroke-opacity:0.5;\" x=\"282.615581\" xlink:href=\"#m3701776520\" y=\"171.06095\"/>\n",
       "     <use style=\"fill:#1f77b4;fill-opacity:0.5;stroke:#1f77b4;stroke-opacity:0.5;\" x=\"290.609773\" xlink:href=\"#m3701776520\" y=\"78.844683\"/>\n",
       "     <use style=\"fill:#1f77b4;fill-opacity:0.5;stroke:#1f77b4;stroke-opacity:0.5;\" x=\"297.715721\" xlink:href=\"#m3701776520\" y=\"129.994556\"/>\n",
       "     <use style=\"fill:#1f77b4;fill-opacity:0.5;stroke:#1f77b4;stroke-opacity:0.5;\" x=\"200.897177\" xlink:href=\"#m3701776520\" y=\"214.300723\"/>\n",
       "     <use style=\"fill:#1f77b4;fill-opacity:0.5;stroke:#1f77b4;stroke-opacity:0.5;\" x=\"254.191788\" xlink:href=\"#m3701776520\" y=\"107.424619\"/>\n",
       "     <use style=\"fill:#1f77b4;fill-opacity:0.5;stroke:#1f77b4;stroke-opacity:0.5;\" x=\"308.374643\" xlink:href=\"#m3701776520\" y=\"167.121734\"/>\n",
       "     <use style=\"fill:#1f77b4;fill-opacity:0.5;stroke:#1f77b4;stroke-opacity:0.5;\" x=\"299.492208\" xlink:href=\"#m3701776520\" y=\"40.674022\"/>\n",
       "     <use style=\"fill:#1f77b4;fill-opacity:0.5;stroke:#1f77b4;stroke-opacity:0.5;\" x=\"229.32097\" xlink:href=\"#m3701776520\" y=\"199.342406\"/>\n",
       "     <use style=\"fill:#1f77b4;fill-opacity:0.5;stroke:#1f77b4;stroke-opacity:0.5;\" x=\"213.332586\" xlink:href=\"#m3701776520\" y=\"192.680836\"/>\n",
       "     <use style=\"fill:#1f77b4;fill-opacity:0.5;stroke:#1f77b4;stroke-opacity:0.5;\" x=\"311.039374\" xlink:href=\"#m3701776520\" y=\"137.604439\"/>\n",
       "     <use style=\"fill:#1f77b4;fill-opacity:0.5;stroke:#1f77b4;stroke-opacity:0.5;\" x=\"297.715721\" xlink:href=\"#m3701776520\" y=\"200.864215\"/>\n",
       "     <use style=\"fill:#1f77b4;fill-opacity:0.5;stroke:#1f77b4;stroke-opacity:0.5;\" x=\"277.28612\" xlink:href=\"#m3701776520\" y=\"192.680836\"/>\n",
       "     <use style=\"fill:#1f77b4;fill-opacity:0.5;stroke:#1f77b4;stroke-opacity:0.5;\" x=\"296.827477\" xlink:href=\"#m3701776520\" y=\"78.844683\"/>\n",
       "     <use style=\"fill:#1f77b4;fill-opacity:0.5;stroke:#1f77b4;stroke-opacity:0.5;\" x=\"270.180172\" xlink:href=\"#m3701776520\" y=\"150.664393\"/>\n",
       "     <use style=\"fill:#1f77b4;fill-opacity:0.5;stroke:#1f77b4;stroke-opacity:0.5;\" x=\"275.509633\" xlink:href=\"#m3701776520\" y=\"136.004555\"/>\n",
       "     <use style=\"fill:#1f77b4;fill-opacity:0.5;stroke:#1f77b4;stroke-opacity:0.5;\" x=\"232.873944\" xlink:href=\"#m3701776520\" y=\"198.176255\"/>\n",
       "     <use style=\"fill:#1f77b4;fill-opacity:0.5;stroke:#1f77b4;stroke-opacity:0.5;\" x=\"325.25127\" xlink:href=\"#m3701776520\" y=\"87.956677\"/>\n",
       "     <use style=\"fill:#1f77b4;fill-opacity:0.5;stroke:#1f77b4;stroke-opacity:0.5;\" x=\"193.791229\" xlink:href=\"#m3701776520\" y=\"182.704384\"/>\n",
       "     <use style=\"fill:#1f77b4;fill-opacity:0.5;stroke:#1f77b4;stroke-opacity:0.5;\" x=\"234.650431\" xlink:href=\"#m3701776520\" y=\"200.864215\"/>\n",
       "     <use style=\"fill:#1f77b4;fill-opacity:0.5;stroke:#1f77b4;stroke-opacity:0.5;\" x=\"239.979892\" xlink:href=\"#m3701776520\" y=\"183.409293\"/>\n",
       "     <use style=\"fill:#1f77b4;fill-opacity:0.5;stroke:#1f77b4;stroke-opacity:0.5;\" x=\"184.02055\" xlink:href=\"#m3701776520\" y=\"229.444151\"/>\n",
       "     <use style=\"fill:#1f77b4;fill-opacity:0.5;stroke:#1f77b4;stroke-opacity:0.5;\" x=\"176.914602\" xlink:href=\"#m3701776520\" y=\"175.570569\"/>\n",
       "     <use style=\"fill:#1f77b4;fill-opacity:0.5;stroke:#1f77b4;stroke-opacity:0.5;\" x=\"311.927617\" xlink:href=\"#m3701776520\" y=\"100.778049\"/>\n",
       "     <use style=\"fill:#1f77b4;fill-opacity:0.5;stroke:#1f77b4;stroke-opacity:0.5;\" x=\"318.145322\" xlink:href=\"#m3701776520\" y=\"36.604811\"/>\n",
       "     <use style=\"fill:#1f77b4;fill-opacity:0.5;stroke:#1f77b4;stroke-opacity:0.5;\" x=\"348.345602\" xlink:href=\"#m3701776520\" y=\"88.236423\"/>\n",
       "     <use style=\"fill:#1f77b4;fill-opacity:0.5;stroke:#1f77b4;stroke-opacity:0.5;\" x=\"200.897177\" xlink:href=\"#m3701776520\" y=\"212.893376\"/>\n",
       "     <use style=\"fill:#1f77b4;fill-opacity:0.5;stroke:#1f77b4;stroke-opacity:0.5;\" x=\"295.05099\" xlink:href=\"#m3701776520\" y=\"160.910731\"/>\n",
       "     <use style=\"fill:#1f77b4;fill-opacity:0.5;stroke:#1f77b4;stroke-opacity:0.5;\" x=\"307.4864\" xlink:href=\"#m3701776520\" y=\"144.977618\"/>\n",
       "     <use style=\"fill:#1f77b4;fill-opacity:0.5;stroke:#1f77b4;stroke-opacity:0.5;\" x=\"255.080032\" xlink:href=\"#m3701776520\" y=\"32.632099\"/>\n",
       "     <use style=\"fill:#1f77b4;fill-opacity:0.5;stroke:#1f77b4;stroke-opacity:0.5;\" x=\"153.82027\" xlink:href=\"#m3701776520\" y=\"96.929746\"/>\n",
       "     <use style=\"fill:#1f77b4;fill-opacity:0.5;stroke:#1f77b4;stroke-opacity:0.5;\" x=\"275.509633\" xlink:href=\"#m3701776520\" y=\"210.894699\"/>\n",
       "     <use style=\"fill:#1f77b4;fill-opacity:0.5;stroke:#1f77b4;stroke-opacity:0.5;\" x=\"323.474783\" xlink:href=\"#m3701776520\" y=\"85.804732\"/>\n",
       "     <use style=\"fill:#1f77b4;fill-opacity:0.5;stroke:#1f77b4;stroke-opacity:0.5;\" x=\"285.280311\" xlink:href=\"#m3701776520\" y=\"78.844683\"/>\n",
       "     <use style=\"fill:#1f77b4;fill-opacity:0.5;stroke:#1f77b4;stroke-opacity:0.5;\" x=\"278.174363\" xlink:href=\"#m3701776520\" y=\"107.424619\"/>\n",
       "     <use style=\"fill:#1f77b4;fill-opacity:0.5;stroke:#1f77b4;stroke-opacity:0.5;\" x=\"287.056799\" xlink:href=\"#m3701776520\" y=\"107.424619\"/>\n",
       "     <use style=\"fill:#1f77b4;fill-opacity:0.5;stroke:#1f77b4;stroke-opacity:0.5;\" x=\"325.25127\" xlink:href=\"#m3701776520\" y=\"134.575714\"/>\n",
       "     <use style=\"fill:#1f77b4;fill-opacity:0.5;stroke:#1f77b4;stroke-opacity:0.5;\" x=\"293.274503\" xlink:href=\"#m3701776520\" y=\"130.64439\"/>\n",
       "     <use style=\"fill:#1f77b4;fill-opacity:0.5;stroke:#1f77b4;stroke-opacity:0.5;\" x=\"290.609773\" xlink:href=\"#m3701776520\" y=\"190.369342\"/>\n",
       "     <use style=\"fill:#1f77b4;fill-opacity:0.5;stroke:#1f77b4;stroke-opacity:0.5;\" x=\"259.521249\" xlink:href=\"#m3701776520\" y=\"188.217392\"/>\n",
       "     <use style=\"fill:#1f77b4;fill-opacity:0.5;stroke:#1f77b4;stroke-opacity:0.5;\" x=\"314.592348\" xlink:href=\"#m3701776520\" y=\"192.680836\"/>\n",
       "     <use style=\"fill:#1f77b4;fill-opacity:0.5;stroke:#1f77b4;stroke-opacity:0.5;\" x=\"255.968275\" xlink:href=\"#m3701776520\" y=\"82.130973\"/>\n",
       "     <use style=\"fill:#1f77b4;fill-opacity:0.5;stroke:#1f77b4;stroke-opacity:0.5;\" x=\"223.991508\" xlink:href=\"#m3701776520\" y=\"215.524053\"/>\n",
       "     <use style=\"fill:#1f77b4;fill-opacity:0.5;stroke:#1f77b4;stroke-opacity:0.5;\" x=\"241.756379\" xlink:href=\"#m3701776520\" y=\"171.06095\"/>\n",
       "     <use style=\"fill:#1f77b4;fill-opacity:0.5;stroke:#1f77b4;stroke-opacity:0.5;\" x=\"280.839094\" xlink:href=\"#m3701776520\" y=\"181.676019\"/>\n",
       "     <use style=\"fill:#1f77b4;fill-opacity:0.5;stroke:#1f77b4;stroke-opacity:0.5;\" x=\"323.474783\" xlink:href=\"#m3701776520\" y=\"153.950682\"/>\n",
       "     <use style=\"fill:#1f77b4;fill-opacity:0.5;stroke:#1f77b4;stroke-opacity:0.5;\" x=\"279.95085\" xlink:href=\"#m3701776520\" y=\"97.49176\"/>\n",
       "     <use style=\"fill:#1f77b4;fill-opacity:0.5;stroke:#1f77b4;stroke-opacity:0.5;\" x=\"294.162747\" xlink:href=\"#m3701776520\" y=\"166.597505\"/>\n",
       "     <use style=\"fill:#1f77b4;fill-opacity:0.5;stroke:#1f77b4;stroke-opacity:0.5;\" x=\"263.962467\" xlink:href=\"#m3701776520\" y=\"131.476197\"/>\n",
       "     <use style=\"fill:#1f77b4;fill-opacity:0.5;stroke:#1f77b4;stroke-opacity:0.5;\" x=\"176.914602\" xlink:href=\"#m3701776520\" y=\"153.950682\"/>\n",
       "     <use style=\"fill:#1f77b4;fill-opacity:0.5;stroke:#1f77b4;stroke-opacity:0.5;\" x=\"297.715721\" xlink:href=\"#m3701776520\" y=\"136.004555\"/>\n",
       "     <use style=\"fill:#1f77b4;fill-opacity:0.5;stroke:#1f77b4;stroke-opacity:0.5;\" x=\"280.839094\" xlink:href=\"#m3701776520\" y=\"121.786452\"/>\n",
       "     <use style=\"fill:#1f77b4;fill-opacity:0.5;stroke:#1f77b4;stroke-opacity:0.5;\" x=\"276.397876\" xlink:href=\"#m3701776520\" y=\"67.25528\"/>\n",
       "     <use style=\"fill:#1f77b4;fill-opacity:0.5;stroke:#1f77b4;stroke-opacity:0.5;\" x=\"254.191788\" xlink:href=\"#m3701776520\" y=\"198.176255\"/>\n",
       "     <use style=\"fill:#1f77b4;fill-opacity:0.5;stroke:#1f77b4;stroke-opacity:0.5;\" x=\"268.403685\" xlink:href=\"#m3701776520\" y=\"50.623268\"/>\n",
       "     <use style=\"fill:#1f77b4;fill-opacity:0.5;stroke:#1f77b4;stroke-opacity:0.5;\" x=\"57.001726\" xlink:href=\"#m3701776520\" y=\"140.16952\"/>\n",
       "     <use style=\"fill:#1f77b4;fill-opacity:0.5;stroke:#1f77b4;stroke-opacity:0.5;\" x=\"311.039374\" xlink:href=\"#m3701776520\" y=\"86.594418\"/>\n",
       "     <use style=\"fill:#1f77b4;fill-opacity:0.5;stroke:#1f77b4;stroke-opacity:0.5;\" x=\"272.844902\" xlink:href=\"#m3701776520\" y=\"137.196709\"/>\n",
       "     <use style=\"fill:#1f77b4;fill-opacity:0.5;stroke:#1f77b4;stroke-opacity:0.5;\" x=\"168.032166\" xlink:href=\"#m3701776520\" y=\"212.893376\"/>\n",
       "     <use style=\"fill:#1f77b4;fill-opacity:0.5;stroke:#1f77b4;stroke-opacity:0.5;\" x=\"262.18598\" xlink:href=\"#m3701776520\" y=\"112.493731\"/>\n",
       "     <use style=\"fill:#1f77b4;fill-opacity:0.5;stroke:#1f77b4;stroke-opacity:0.5;\" x=\"313.704104\" xlink:href=\"#m3701776520\" y=\"54.251986\"/>\n",
       "     <use style=\"fill:#1f77b4;fill-opacity:0.5;stroke:#1f77b4;stroke-opacity:0.5;\" x=\"192.014742\" xlink:href=\"#m3701776520\" y=\"126.071695\"/>\n",
       "     <use style=\"fill:#1f77b4;fill-opacity:0.5;stroke:#1f77b4;stroke-opacity:0.5;\" x=\"291.498016\" xlink:href=\"#m3701776520\" y=\"50.565922\"/>\n",
       "     <use style=\"fill:#1f77b4;fill-opacity:0.5;stroke:#1f77b4;stroke-opacity:0.5;\" x=\"291.498016\" xlink:href=\"#m3701776520\" y=\"69.716054\"/>\n",
       "     <use style=\"fill:#1f77b4;fill-opacity:0.5;stroke:#1f77b4;stroke-opacity:0.5;\" x=\"231.9857\" xlink:href=\"#m3701776520\" y=\"189.274812\"/>\n",
       "     <use style=\"fill:#1f77b4;fill-opacity:0.5;stroke:#1f77b4;stroke-opacity:0.5;\" x=\"282.615581\" xlink:href=\"#m3701776520\" y=\"176.271518\"/>\n",
       "     <use style=\"fill:#1f77b4;fill-opacity:0.5;stroke:#1f77b4;stroke-opacity:0.5;\" x=\"317.257078\" xlink:href=\"#m3701776520\" y=\"119.282244\"/>\n",
       "     <use style=\"fill:#1f77b4;fill-opacity:0.5;stroke:#1f77b4;stroke-opacity:0.5;\" x=\"292.38626\" xlink:href=\"#m3701776520\" y=\"209.837279\"/>\n",
       "     <use style=\"fill:#1f77b4;fill-opacity:0.5;stroke:#1f77b4;stroke-opacity:0.5;\" x=\"259.521249\" xlink:href=\"#m3701776520\" y=\"198.608468\"/>\n",
       "     <use style=\"fill:#1f77b4;fill-opacity:0.5;stroke:#1f77b4;stroke-opacity:0.5;\" x=\"274.621389\" xlink:href=\"#m3701776520\" y=\"114.384668\"/>\n",
       "     <use style=\"fill:#1f77b4;fill-opacity:0.5;stroke:#1f77b4;stroke-opacity:0.5;\" x=\"296.827477\" xlink:href=\"#m3701776520\" y=\"77.027224\"/>\n",
       "     <use style=\"fill:#1f77b4;fill-opacity:0.5;stroke:#1f77b4;stroke-opacity:0.5;\" x=\"279.062607\" xlink:href=\"#m3701776520\" y=\"108.214304\"/>\n",
       "     <use style=\"fill:#1f77b4;fill-opacity:0.5;stroke:#1f77b4;stroke-opacity:0.5;\" x=\"299.492208\" xlink:href=\"#m3701776520\" y=\"197.329391\"/>\n",
       "     <use style=\"fill:#1f77b4;fill-opacity:0.5;stroke:#1f77b4;stroke-opacity:0.5;\" x=\"255.968275\" xlink:href=\"#m3701776520\" y=\"204.150505\"/>\n",
       "     <use style=\"fill:#1f77b4;fill-opacity:0.5;stroke:#1f77b4;stroke-opacity:0.5;\" x=\"270.180172\" xlink:href=\"#m3701776520\" y=\"190.369342\"/>\n",
       "     <use style=\"fill:#1f77b4;fill-opacity:0.5;stroke:#1f77b4;stroke-opacity:0.5;\" x=\"240.868135\" xlink:href=\"#m3701776520\" y=\"136.004555\"/>\n",
       "     <use style=\"fill:#1f77b4;fill-opacity:0.5;stroke:#1f77b4;stroke-opacity:0.5;\" x=\"246.197596\" xlink:href=\"#m3701776520\" y=\"189.274812\"/>\n",
       "     <use style=\"fill:#1f77b4;fill-opacity:0.5;stroke:#1f77b4;stroke-opacity:0.5;\" x=\"268.403685\" xlink:href=\"#m3701776520\" y=\"79.644358\"/>\n",
       "     <use style=\"fill:#1f77b4;fill-opacity:0.5;stroke:#1f77b4;stroke-opacity:0.5;\" x=\"323.474783\" xlink:href=\"#m3701776520\" y=\"176.988581\"/>\n",
       "     <use style=\"fill:#1f77b4;fill-opacity:0.5;stroke:#1f77b4;stroke-opacity:0.5;\" x=\"359.004524\" xlink:href=\"#m3701776520\" y=\"91.804986\"/>\n",
       "     <use style=\"fill:#1f77b4;fill-opacity:0.5;stroke:#1f77b4;stroke-opacity:0.5;\" x=\"250.638814\" xlink:href=\"#m3701776520\" y=\"176.271518\"/>\n",
       "     <use style=\"fill:#1f77b4;fill-opacity:0.5;stroke:#1f77b4;stroke-opacity:0.5;\" x=\"242.644622\" xlink:href=\"#m3701776520\" y=\"68.34981\"/>\n",
       "     <use style=\"fill:#1f77b4;fill-opacity:0.5;stroke:#1f77b4;stroke-opacity:0.5;\" x=\"248.862327\" xlink:href=\"#m3701776520\" y=\"130.64439\"/>\n",
       "     <use style=\"fill:#1f77b4;fill-opacity:0.5;stroke:#1f77b4;stroke-opacity:0.5;\" x=\"251.527058\" xlink:href=\"#m3701776520\" y=\"142.481014\"/>\n",
       "     <use style=\"fill:#1f77b4;fill-opacity:0.5;stroke:#1f77b4;stroke-opacity:0.5;\" x=\"279.062607\" xlink:href=\"#m3701776520\" y=\"150.046731\"/>\n",
       "     <use style=\"fill:#1f77b4;fill-opacity:0.5;stroke:#1f77b4;stroke-opacity:0.5;\" x=\"248.862327\" xlink:href=\"#m3701776520\" y=\"193.904166\"/>\n",
       "     <use style=\"fill:#1f77b4;fill-opacity:0.5;stroke:#1f77b4;stroke-opacity:0.5;\" x=\"203.561907\" xlink:href=\"#m3701776520\" y=\"153.950682\"/>\n",
       "     <use style=\"fill:#1f77b4;fill-opacity:0.5;stroke:#1f77b4;stroke-opacity:0.5;\" x=\"240.868135\" xlink:href=\"#m3701776520\" y=\"58.498072\"/>\n",
       "     <use style=\"fill:#1f77b4;fill-opacity:0.5;stroke:#1f77b4;stroke-opacity:0.5;\" x=\"308.374643\" xlink:href=\"#m3701776520\" y=\"60.511086\"/>\n",
       "     <use style=\"fill:#1f77b4;fill-opacity:0.5;stroke:#1f77b4;stroke-opacity:0.5;\" x=\"249.750571\" xlink:href=\"#m3701776520\" y=\"136.994825\"/>\n",
       "     <use style=\"fill:#1f77b4;fill-opacity:0.5;stroke:#1f77b4;stroke-opacity:0.5;\" x=\"300.380451\" xlink:href=\"#m3701776520\" y=\"138.01757\"/>\n",
       "     <use style=\"fill:#1f77b4;fill-opacity:0.5;stroke:#1f77b4;stroke-opacity:0.5;\" x=\"323.474783\" xlink:href=\"#m3701776520\" y=\"150.664393\"/>\n",
       "     <use style=\"fill:#1f77b4;fill-opacity:0.5;stroke:#1f77b4;stroke-opacity:0.5;\" x=\"211.556099\" xlink:href=\"#m3701776520\" y=\"93.255987\"/>\n",
       "     <use style=\"fill:#1f77b4;fill-opacity:0.5;stroke:#1f77b4;stroke-opacity:0.5;\" x=\"303.045182\" xlink:href=\"#m3701776520\" y=\"143.20924\"/>\n",
       "     <use style=\"fill:#1f77b4;fill-opacity:0.5;stroke:#1f77b4;stroke-opacity:0.5;\" x=\"257.744762\" xlink:href=\"#m3701776520\" y=\"199.342406\"/>\n",
       "     <use style=\"fill:#1f77b4;fill-opacity:0.5;stroke:#1f77b4;stroke-opacity:0.5;\" x=\"266.627198\" xlink:href=\"#m3701776520\" y=\"93.255987\"/>\n",
       "     <use style=\"fill:#1f77b4;fill-opacity:0.5;stroke:#1f77b4;stroke-opacity:0.5;\" x=\"230.209213\" xlink:href=\"#m3701776520\" y=\"69.48415\"/>\n",
       "     <use style=\"fill:#1f77b4;fill-opacity:0.5;stroke:#1f77b4;stroke-opacity:0.5;\" x=\"148.490809\" xlink:href=\"#m3701776520\" y=\"200.864215\"/>\n",
       "     <use style=\"fill:#1f77b4;fill-opacity:0.5;stroke:#1f77b4;stroke-opacity:0.5;\" x=\"297.715721\" xlink:href=\"#m3701776520\" y=\"87.261304\"/>\n",
       "     <use style=\"fill:#1f77b4;fill-opacity:0.5;stroke:#1f77b4;stroke-opacity:0.5;\" x=\"273.733146\" xlink:href=\"#m3701776520\" y=\"188.217392\"/>\n",
       "     <use style=\"fill:#1f77b4;fill-opacity:0.5;stroke:#1f77b4;stroke-opacity:0.5;\" x=\"215.997317\" xlink:href=\"#m3701776520\" y=\"215.524053\"/>\n",
       "     <use style=\"fill:#1f77b4;fill-opacity:0.5;stroke:#1f77b4;stroke-opacity:0.5;\" x=\"297.715721\" xlink:href=\"#m3701776520\" y=\"62.293909\"/>\n",
       "     <use style=\"fill:#1f77b4;fill-opacity:0.5;stroke:#1f77b4;stroke-opacity:0.5;\" x=\"278.174363\" xlink:href=\"#m3701776520\" y=\"68.34981\"/>\n",
       "     <use style=\"fill:#1f77b4;fill-opacity:0.5;stroke:#1f77b4;stroke-opacity:0.5;\" x=\"197.344203\" xlink:href=\"#m3701776520\" y=\"88.518693\"/>\n",
       "     <use style=\"fill:#1f77b4;fill-opacity:0.5;stroke:#1f77b4;stroke-opacity:0.5;\" x=\"261.297736\" xlink:href=\"#m3701776520\" y=\"187.194648\"/>\n",
       "     <use style=\"fill:#1f77b4;fill-opacity:0.5;stroke:#1f77b4;stroke-opacity:0.5;\" x=\"251.527058\" xlink:href=\"#m3701776520\" y=\"185.244581\"/>\n",
       "     <use style=\"fill:#1f77b4;fill-opacity:0.5;stroke:#1f77b4;stroke-opacity:0.5;\" x=\"247.08584\" xlink:href=\"#m3701776520\" y=\"146.305091\"/>\n",
       "     <use style=\"fill:#1f77b4;fill-opacity:0.5;stroke:#1f77b4;stroke-opacity:0.5;\" x=\"279.062607\" xlink:href=\"#m3701776520\" y=\"175.570569\"/>\n",
       "     <use style=\"fill:#1f77b4;fill-opacity:0.5;stroke:#1f77b4;stroke-opacity:0.5;\" x=\"237.315161\" xlink:href=\"#m3701776520\" y=\"204.150505\"/>\n",
       "     <use style=\"fill:#1f77b4;fill-opacity:0.5;stroke:#1f77b4;stroke-opacity:0.5;\" x=\"249.750571\" xlink:href=\"#m3701776520\" y=\"200.864215\"/>\n",
       "     <use style=\"fill:#1f77b4;fill-opacity:0.5;stroke:#1f77b4;stroke-opacity:0.5;\" x=\"341.239653\" xlink:href=\"#m3701776520\" y=\"100.46457\"/>\n",
       "     <use style=\"fill:#1f77b4;fill-opacity:0.5;stroke:#1f77b4;stroke-opacity:0.5;\" x=\"299.492208\" xlink:href=\"#m3701776520\" y=\"100.46457\"/>\n",
       "     <use style=\"fill:#1f77b4;fill-opacity:0.5;stroke:#1f77b4;stroke-opacity:0.5;\" x=\"279.062607\" xlink:href=\"#m3701776520\" y=\"127.522697\"/>\n",
       "     <use style=\"fill:#1f77b4;fill-opacity:0.5;stroke:#1f77b4;stroke-opacity:0.5;\" x=\"269.291928\" xlink:href=\"#m3701776520\" y=\"92.281192\"/>\n",
       "     <use style=\"fill:#1f77b4;fill-opacity:0.5;stroke:#1f77b4;stroke-opacity:0.5;\" x=\"215.997317\" xlink:href=\"#m3701776520\" y=\"159.637456\"/>\n",
       "     <use style=\"fill:#1f77b4;fill-opacity:0.5;stroke:#1f77b4;stroke-opacity:0.5;\" x=\"250.638814\" xlink:href=\"#m3701776520\" y=\"184.31344\"/>\n",
       "     <use style=\"fill:#1f77b4;fill-opacity:0.5;stroke:#1f77b4;stroke-opacity:0.5;\" x=\"287.945042\" xlink:href=\"#m3701776520\" y=\"87.610498\"/>\n",
       "     <use style=\"fill:#1f77b4;fill-opacity:0.5;stroke:#1f77b4;stroke-opacity:0.5;\" x=\"262.18598\" xlink:href=\"#m3701776520\" y=\"180.034014\"/>\n",
       "     <use style=\"fill:#1f77b4;fill-opacity:0.5;stroke:#1f77b4;stroke-opacity:0.5;\" x=\"301.268695\" xlink:href=\"#m3701776520\" y=\"98.064086\"/>\n",
       "     <use style=\"fill:#1f77b4;fill-opacity:0.5;stroke:#1f77b4;stroke-opacity:0.5;\" x=\"272.844902\" xlink:href=\"#m3701776520\" y=\"206.676003\"/>\n",
       "     <use style=\"fill:#1f77b4;fill-opacity:0.5;stroke:#1f77b4;stroke-opacity:0.5;\" x=\"255.968275\" xlink:href=\"#m3701776520\" y=\"75.078641\"/>\n",
       "     <use style=\"fill:#1f77b4;fill-opacity:0.5;stroke:#1f77b4;stroke-opacity:0.5;\" x=\"250.638814\" xlink:href=\"#m3701776520\" y=\"198.608468\"/>\n",
       "     <use style=\"fill:#1f77b4;fill-opacity:0.5;stroke:#1f77b4;stroke-opacity:0.5;\" x=\"275.509633\" xlink:href=\"#m3701776520\" y=\"81.445431\"/>\n",
       "     <use style=\"fill:#1f77b4;fill-opacity:0.5;stroke:#1f77b4;stroke-opacity:0.5;\" x=\"323.474783\" xlink:href=\"#m3701776520\" y=\"120.861127\"/>\n",
       "     <use style=\"fill:#1f77b4;fill-opacity:0.5;stroke:#1f77b4;stroke-opacity:0.5;\" x=\"313.704104\" xlink:href=\"#m3701776520\" y=\"83.305726\"/>\n",
       "     <use style=\"fill:#1f77b4;fill-opacity:0.5;stroke:#1f77b4;stroke-opacity:0.5;\" x=\"209.779612\" xlink:href=\"#m3701776520\" y=\"179.244328\"/>\n",
       "     <use style=\"fill:#1f77b4;fill-opacity:0.5;stroke:#1f77b4;stroke-opacity:0.5;\" x=\"276.397876\" xlink:href=\"#m3701776520\" y=\"44.709947\"/>\n",
       "     <use style=\"fill:#1f77b4;fill-opacity:0.5;stroke:#1f77b4;stroke-opacity:0.5;\" x=\"269.291928\" xlink:href=\"#m3701776520\" y=\"109.85631\"/>\n",
       "     <use style=\"fill:#1f77b4;fill-opacity:0.5;stroke:#1f77b4;stroke-opacity:0.5;\" x=\"292.38626\" xlink:href=\"#m3701776520\" y=\"91.804986\"/>\n",
       "     <use style=\"fill:#1f77b4;fill-opacity:0.5;stroke:#1f77b4;stroke-opacity:0.5;\" x=\"145.826078\" xlink:href=\"#m3701776520\" y=\"210.894699\"/>\n",
       "     <use style=\"fill:#1f77b4;fill-opacity:0.5;stroke:#1f77b4;stroke-opacity:0.5;\" x=\"302.156938\" xlink:href=\"#m3701776520\" y=\"60.511086\"/>\n",
       "     <use style=\"fill:#1f77b4;fill-opacity:0.5;stroke:#1f77b4;stroke-opacity:0.5;\" x=\"296.827477\" xlink:href=\"#m3701776520\" y=\"200.864215\"/>\n",
       "     <use style=\"fill:#1f77b4;fill-opacity:0.5;stroke:#1f77b4;stroke-opacity:0.5;\" x=\"298.603964\" xlink:href=\"#m3701776520\" y=\"100.46457\"/>\n",
       "     <use style=\"fill:#1f77b4;fill-opacity:0.5;stroke:#1f77b4;stroke-opacity:0.5;\" x=\"252.415301\" xlink:href=\"#m3701776520\" y=\"61.389762\"/>\n",
       "     <use style=\"fill:#1f77b4;fill-opacity:0.5;stroke:#1f77b4;stroke-opacity:0.5;\" x=\"287.056799\" xlink:href=\"#m3701776520\" y=\"73.157909\"/>\n",
       "     <use style=\"fill:#1f77b4;fill-opacity:0.5;stroke:#1f77b4;stroke-opacity:0.5;\" x=\"241.756379\" xlink:href=\"#m3701776520\" y=\"212.893376\"/>\n",
       "     <use style=\"fill:#1f77b4;fill-opacity:0.5;stroke:#1f77b4;stroke-opacity:0.5;\" x=\"301.268695\" xlink:href=\"#m3701776520\" y=\"146.990633\"/>\n",
       "     <use style=\"fill:#1f77b4;fill-opacity:0.5;stroke:#1f77b4;stroke-opacity:0.5;\" x=\"221.326778\" xlink:href=\"#m3701776520\" y=\"111.589584\"/>\n",
       "     <use style=\"fill:#1f77b4;fill-opacity:0.5;stroke:#1f77b4;stroke-opacity:0.5;\" x=\"291.498016\" xlink:href=\"#m3701776520\" y=\"50.264748\"/>\n",
       "     <use style=\"fill:#1f77b4;fill-opacity:0.5;stroke:#1f77b4;stroke-opacity:0.5;\" x=\"314.592348\" xlink:href=\"#m3701776520\" y=\"95.835216\"/>\n",
       "     <use style=\"fill:#1f77b4;fill-opacity:0.5;stroke:#1f77b4;stroke-opacity:0.5;\" x=\"329.692488\" xlink:href=\"#m3701776520\" y=\"213.123568\"/>\n",
       "     <use style=\"fill:#1f77b4;fill-opacity:0.5;stroke:#1f77b4;stroke-opacity:0.5;\" x=\"231.9857\" xlink:href=\"#m3701776520\" y=\"196.777325\"/>\n",
       "     <use style=\"fill:#1f77b4;fill-opacity:0.5;stroke:#1f77b4;stroke-opacity:0.5;\" x=\"245.309353\" xlink:href=\"#m3701776520\" y=\"135.044759\"/>\n",
       "     <use style=\"fill:#1f77b4;fill-opacity:0.5;stroke:#1f77b4;stroke-opacity:0.5;\" x=\"239.979892\" xlink:href=\"#m3701776520\" y=\"183.409293\"/>\n",
       "     <use style=\"fill:#1f77b4;fill-opacity:0.5;stroke:#1f77b4;stroke-opacity:0.5;\" x=\"299.492208\" xlink:href=\"#m3701776520\" y=\"89.969697\"/>\n",
       "     <use style=\"fill:#1f77b4;fill-opacity:0.5;stroke:#1f77b4;stroke-opacity:0.5;\" x=\"57.001726\" xlink:href=\"#m3701776520\" y=\"200.864215\"/>\n",
       "    </g>\n",
       "   </g>\n",
       "   <g id=\"matplotlib.axis_1\">\n",
       "    <g id=\"xtick_1\">\n",
       "     <g id=\"line2d_1\">\n",
       "      <defs>\n",
       "       <path d=\"M 0 0 \n",
       "L 0 3.5 \n",
       "\" id=\"m283bb0fff1\" style=\"stroke:#000000;stroke-width:0.8;\"/>\n",
       "      </defs>\n",
       "      <g>\n",
       "       <use style=\"stroke:#000000;stroke-width:0.8;\" x=\"72.077873\" xlink:href=\"#m283bb0fff1\" y=\"239.758125\"/>\n",
       "      </g>\n",
       "     </g>\n",
       "     <g id=\"text_1\">\n",
       "      <!-- 12.0 -->\n",
       "      <defs>\n",
       "       <path d=\"M 12.40625 8.296875 \n",
       "L 28.515625 8.296875 \n",
       "L 28.515625 63.921875 \n",
       "L 10.984375 60.40625 \n",
       "L 10.984375 69.390625 \n",
       "L 28.421875 72.90625 \n",
       "L 38.28125 72.90625 \n",
       "L 38.28125 8.296875 \n",
       "L 54.390625 8.296875 \n",
       "L 54.390625 0 \n",
       "L 12.40625 0 \n",
       "z\n",
       "\" id=\"DejaVuSans-31\"/>\n",
       "       <path d=\"M 19.1875 8.296875 \n",
       "L 53.609375 8.296875 \n",
       "L 53.609375 0 \n",
       "L 7.328125 0 \n",
       "L 7.328125 8.296875 \n",
       "Q 12.9375 14.109375 22.625 23.890625 \n",
       "Q 32.328125 33.6875 34.8125 36.53125 \n",
       "Q 39.546875 41.84375 41.421875 45.53125 \n",
       "Q 43.3125 49.21875 43.3125 52.78125 \n",
       "Q 43.3125 58.59375 39.234375 62.25 \n",
       "Q 35.15625 65.921875 28.609375 65.921875 \n",
       "Q 23.96875 65.921875 18.8125 64.3125 \n",
       "Q 13.671875 62.703125 7.8125 59.421875 \n",
       "L 7.8125 69.390625 \n",
       "Q 13.765625 71.78125 18.9375 73 \n",
       "Q 24.125 74.21875 28.421875 74.21875 \n",
       "Q 39.75 74.21875 46.484375 68.546875 \n",
       "Q 53.21875 62.890625 53.21875 53.421875 \n",
       "Q 53.21875 48.921875 51.53125 44.890625 \n",
       "Q 49.859375 40.875 45.40625 35.40625 \n",
       "Q 44.1875 33.984375 37.640625 27.21875 \n",
       "Q 31.109375 20.453125 19.1875 8.296875 \n",
       "z\n",
       "\" id=\"DejaVuSans-32\"/>\n",
       "       <path d=\"M 10.6875 12.40625 \n",
       "L 21 12.40625 \n",
       "L 21 0 \n",
       "L 10.6875 0 \n",
       "z\n",
       "\" id=\"DejaVuSans-2e\"/>\n",
       "       <path d=\"M 31.78125 66.40625 \n",
       "Q 24.171875 66.40625 20.328125 58.90625 \n",
       "Q 16.5 51.421875 16.5 36.375 \n",
       "Q 16.5 21.390625 20.328125 13.890625 \n",
       "Q 24.171875 6.390625 31.78125 6.390625 \n",
       "Q 39.453125 6.390625 43.28125 13.890625 \n",
       "Q 47.125 21.390625 47.125 36.375 \n",
       "Q 47.125 51.421875 43.28125 58.90625 \n",
       "Q 39.453125 66.40625 31.78125 66.40625 \n",
       "z\n",
       "M 31.78125 74.21875 \n",
       "Q 44.046875 74.21875 50.515625 64.515625 \n",
       "Q 56.984375 54.828125 56.984375 36.375 \n",
       "Q 56.984375 17.96875 50.515625 8.265625 \n",
       "Q 44.046875 -1.421875 31.78125 -1.421875 \n",
       "Q 19.53125 -1.421875 13.0625 8.265625 \n",
       "Q 6.59375 17.96875 6.59375 36.375 \n",
       "Q 6.59375 54.828125 13.0625 64.515625 \n",
       "Q 19.53125 74.21875 31.78125 74.21875 \n",
       "z\n",
       "\" id=\"DejaVuSans-30\"/>\n",
       "      </defs>\n",
       "      <g transform=\"translate(60.945061 254.356563)scale(0.1 -0.1)\">\n",
       "       <use xlink:href=\"#DejaVuSans-31\"/>\n",
       "       <use x=\"63.623047\" xlink:href=\"#DejaVuSans-32\"/>\n",
       "       <use x=\"127.246094\" xlink:href=\"#DejaVuSans-2e\"/>\n",
       "       <use x=\"159.033203\" xlink:href=\"#DejaVuSans-30\"/>\n",
       "      </g>\n",
       "     </g>\n",
       "    </g>\n",
       "    <g id=\"xtick_2\">\n",
       "     <g id=\"line2d_2\">\n",
       "      <g>\n",
       "       <use style=\"stroke:#000000;stroke-width:0.8;\" x=\"137.945269\" xlink:href=\"#m283bb0fff1\" y=\"239.758125\"/>\n",
       "      </g>\n",
       "     </g>\n",
       "     <g id=\"text_2\">\n",
       "      <!-- 12.5 -->\n",
       "      <defs>\n",
       "       <path d=\"M 10.796875 72.90625 \n",
       "L 49.515625 72.90625 \n",
       "L 49.515625 64.59375 \n",
       "L 19.828125 64.59375 \n",
       "L 19.828125 46.734375 \n",
       "Q 21.96875 47.46875 24.109375 47.828125 \n",
       "Q 26.265625 48.1875 28.421875 48.1875 \n",
       "Q 40.625 48.1875 47.75 41.5 \n",
       "Q 54.890625 34.8125 54.890625 23.390625 \n",
       "Q 54.890625 11.625 47.5625 5.09375 \n",
       "Q 40.234375 -1.421875 26.90625 -1.421875 \n",
       "Q 22.3125 -1.421875 17.546875 -0.640625 \n",
       "Q 12.796875 0.140625 7.71875 1.703125 \n",
       "L 7.71875 11.625 \n",
       "Q 12.109375 9.234375 16.796875 8.0625 \n",
       "Q 21.484375 6.890625 26.703125 6.890625 \n",
       "Q 35.15625 6.890625 40.078125 11.328125 \n",
       "Q 45.015625 15.765625 45.015625 23.390625 \n",
       "Q 45.015625 31 40.078125 35.4375 \n",
       "Q 35.15625 39.890625 26.703125 39.890625 \n",
       "Q 22.75 39.890625 18.8125 39.015625 \n",
       "Q 14.890625 38.140625 10.796875 36.28125 \n",
       "z\n",
       "\" id=\"DejaVuSans-35\"/>\n",
       "      </defs>\n",
       "      <g transform=\"translate(126.812456 254.356563)scale(0.1 -0.1)\">\n",
       "       <use xlink:href=\"#DejaVuSans-31\"/>\n",
       "       <use x=\"63.623047\" xlink:href=\"#DejaVuSans-32\"/>\n",
       "       <use x=\"127.246094\" xlink:href=\"#DejaVuSans-2e\"/>\n",
       "       <use x=\"159.033203\" xlink:href=\"#DejaVuSans-35\"/>\n",
       "      </g>\n",
       "     </g>\n",
       "    </g>\n",
       "    <g id=\"xtick_3\">\n",
       "     <g id=\"line2d_3\">\n",
       "      <g>\n",
       "       <use style=\"stroke:#000000;stroke-width:0.8;\" x=\"203.812664\" xlink:href=\"#m283bb0fff1\" y=\"239.758125\"/>\n",
       "      </g>\n",
       "     </g>\n",
       "     <g id=\"text_3\">\n",
       "      <!-- 13.0 -->\n",
       "      <defs>\n",
       "       <path d=\"M 40.578125 39.3125 \n",
       "Q 47.65625 37.796875 51.625 33 \n",
       "Q 55.609375 28.21875 55.609375 21.1875 \n",
       "Q 55.609375 10.40625 48.1875 4.484375 \n",
       "Q 40.765625 -1.421875 27.09375 -1.421875 \n",
       "Q 22.515625 -1.421875 17.65625 -0.515625 \n",
       "Q 12.796875 0.390625 7.625 2.203125 \n",
       "L 7.625 11.71875 \n",
       "Q 11.71875 9.328125 16.59375 8.109375 \n",
       "Q 21.484375 6.890625 26.8125 6.890625 \n",
       "Q 36.078125 6.890625 40.9375 10.546875 \n",
       "Q 45.796875 14.203125 45.796875 21.1875 \n",
       "Q 45.796875 27.640625 41.28125 31.265625 \n",
       "Q 36.765625 34.90625 28.71875 34.90625 \n",
       "L 20.21875 34.90625 \n",
       "L 20.21875 43.015625 \n",
       "L 29.109375 43.015625 \n",
       "Q 36.375 43.015625 40.234375 45.921875 \n",
       "Q 44.09375 48.828125 44.09375 54.296875 \n",
       "Q 44.09375 59.90625 40.109375 62.90625 \n",
       "Q 36.140625 65.921875 28.71875 65.921875 \n",
       "Q 24.65625 65.921875 20.015625 65.03125 \n",
       "Q 15.375 64.15625 9.8125 62.3125 \n",
       "L 9.8125 71.09375 \n",
       "Q 15.4375 72.65625 20.34375 73.4375 \n",
       "Q 25.25 74.21875 29.59375 74.21875 \n",
       "Q 40.828125 74.21875 47.359375 69.109375 \n",
       "Q 53.90625 64.015625 53.90625 55.328125 \n",
       "Q 53.90625 49.265625 50.4375 45.09375 \n",
       "Q 46.96875 40.921875 40.578125 39.3125 \n",
       "z\n",
       "\" id=\"DejaVuSans-33\"/>\n",
       "      </defs>\n",
       "      <g transform=\"translate(192.679852 254.356563)scale(0.1 -0.1)\">\n",
       "       <use xlink:href=\"#DejaVuSans-31\"/>\n",
       "       <use x=\"63.623047\" xlink:href=\"#DejaVuSans-33\"/>\n",
       "       <use x=\"127.246094\" xlink:href=\"#DejaVuSans-2e\"/>\n",
       "       <use x=\"159.033203\" xlink:href=\"#DejaVuSans-30\"/>\n",
       "      </g>\n",
       "     </g>\n",
       "    </g>\n",
       "    <g id=\"xtick_4\">\n",
       "     <g id=\"line2d_4\">\n",
       "      <g>\n",
       "       <use style=\"stroke:#000000;stroke-width:0.8;\" x=\"269.68006\" xlink:href=\"#m283bb0fff1\" y=\"239.758125\"/>\n",
       "      </g>\n",
       "     </g>\n",
       "     <g id=\"text_4\">\n",
       "      <!-- 13.5 -->\n",
       "      <g transform=\"translate(258.547247 254.356563)scale(0.1 -0.1)\">\n",
       "       <use xlink:href=\"#DejaVuSans-31\"/>\n",
       "       <use x=\"63.623047\" xlink:href=\"#DejaVuSans-33\"/>\n",
       "       <use x=\"127.246094\" xlink:href=\"#DejaVuSans-2e\"/>\n",
       "       <use x=\"159.033203\" xlink:href=\"#DejaVuSans-35\"/>\n",
       "      </g>\n",
       "     </g>\n",
       "    </g>\n",
       "    <g id=\"xtick_5\">\n",
       "     <g id=\"line2d_5\">\n",
       "      <g>\n",
       "       <use style=\"stroke:#000000;stroke-width:0.8;\" x=\"335.547456\" xlink:href=\"#m283bb0fff1\" y=\"239.758125\"/>\n",
       "      </g>\n",
       "     </g>\n",
       "     <g id=\"text_5\">\n",
       "      <!-- 14.0 -->\n",
       "      <defs>\n",
       "       <path d=\"M 37.796875 64.3125 \n",
       "L 12.890625 25.390625 \n",
       "L 37.796875 25.390625 \n",
       "z\n",
       "M 35.203125 72.90625 \n",
       "L 47.609375 72.90625 \n",
       "L 47.609375 25.390625 \n",
       "L 58.015625 25.390625 \n",
       "L 58.015625 17.1875 \n",
       "L 47.609375 17.1875 \n",
       "L 47.609375 0 \n",
       "L 37.796875 0 \n",
       "L 37.796875 17.1875 \n",
       "L 4.890625 17.1875 \n",
       "L 4.890625 26.703125 \n",
       "z\n",
       "\" id=\"DejaVuSans-34\"/>\n",
       "      </defs>\n",
       "      <g transform=\"translate(324.414643 254.356563)scale(0.1 -0.1)\">\n",
       "       <use xlink:href=\"#DejaVuSans-31\"/>\n",
       "       <use x=\"63.623047\" xlink:href=\"#DejaVuSans-34\"/>\n",
       "       <use x=\"127.246094\" xlink:href=\"#DejaVuSans-2e\"/>\n",
       "       <use x=\"159.033203\" xlink:href=\"#DejaVuSans-30\"/>\n",
       "      </g>\n",
       "     </g>\n",
       "    </g>\n",
       "    <g id=\"text_6\">\n",
       "     <!-- y_test_predict -->\n",
       "     <defs>\n",
       "      <path d=\"M 32.171875 -5.078125 \n",
       "Q 28.375 -14.84375 24.75 -17.8125 \n",
       "Q 21.140625 -20.796875 15.09375 -20.796875 \n",
       "L 7.90625 -20.796875 \n",
       "L 7.90625 -13.28125 \n",
       "L 13.1875 -13.28125 \n",
       "Q 16.890625 -13.28125 18.9375 -11.515625 \n",
       "Q 21 -9.765625 23.484375 -3.21875 \n",
       "L 25.09375 0.875 \n",
       "L 2.984375 54.6875 \n",
       "L 12.5 54.6875 \n",
       "L 29.59375 11.921875 \n",
       "L 46.6875 54.6875 \n",
       "L 56.203125 54.6875 \n",
       "z\n",
       "\" id=\"DejaVuSans-79\"/>\n",
       "      <path d=\"M 50.984375 -16.609375 \n",
       "L 50.984375 -23.578125 \n",
       "L -0.984375 -23.578125 \n",
       "L -0.984375 -16.609375 \n",
       "z\n",
       "\" id=\"DejaVuSans-5f\"/>\n",
       "      <path d=\"M 18.3125 70.21875 \n",
       "L 18.3125 54.6875 \n",
       "L 36.8125 54.6875 \n",
       "L 36.8125 47.703125 \n",
       "L 18.3125 47.703125 \n",
       "L 18.3125 18.015625 \n",
       "Q 18.3125 11.328125 20.140625 9.421875 \n",
       "Q 21.96875 7.515625 27.59375 7.515625 \n",
       "L 36.8125 7.515625 \n",
       "L 36.8125 0 \n",
       "L 27.59375 0 \n",
       "Q 17.1875 0 13.234375 3.875 \n",
       "Q 9.28125 7.765625 9.28125 18.015625 \n",
       "L 9.28125 47.703125 \n",
       "L 2.6875 47.703125 \n",
       "L 2.6875 54.6875 \n",
       "L 9.28125 54.6875 \n",
       "L 9.28125 70.21875 \n",
       "z\n",
       "\" id=\"DejaVuSans-74\"/>\n",
       "      <path d=\"M 56.203125 29.59375 \n",
       "L 56.203125 25.203125 \n",
       "L 14.890625 25.203125 \n",
       "Q 15.484375 15.921875 20.484375 11.0625 \n",
       "Q 25.484375 6.203125 34.421875 6.203125 \n",
       "Q 39.59375 6.203125 44.453125 7.46875 \n",
       "Q 49.3125 8.734375 54.109375 11.28125 \n",
       "L 54.109375 2.78125 \n",
       "Q 49.265625 0.734375 44.1875 -0.34375 \n",
       "Q 39.109375 -1.421875 33.890625 -1.421875 \n",
       "Q 20.796875 -1.421875 13.15625 6.1875 \n",
       "Q 5.515625 13.8125 5.515625 26.8125 \n",
       "Q 5.515625 40.234375 12.765625 48.109375 \n",
       "Q 20.015625 56 32.328125 56 \n",
       "Q 43.359375 56 49.78125 48.890625 \n",
       "Q 56.203125 41.796875 56.203125 29.59375 \n",
       "z\n",
       "M 47.21875 32.234375 \n",
       "Q 47.125 39.59375 43.09375 43.984375 \n",
       "Q 39.0625 48.390625 32.421875 48.390625 \n",
       "Q 24.90625 48.390625 20.390625 44.140625 \n",
       "Q 15.875 39.890625 15.1875 32.171875 \n",
       "z\n",
       "\" id=\"DejaVuSans-65\"/>\n",
       "      <path d=\"M 44.28125 53.078125 \n",
       "L 44.28125 44.578125 \n",
       "Q 40.484375 46.53125 36.375 47.5 \n",
       "Q 32.28125 48.484375 27.875 48.484375 \n",
       "Q 21.1875 48.484375 17.84375 46.4375 \n",
       "Q 14.5 44.390625 14.5 40.28125 \n",
       "Q 14.5 37.15625 16.890625 35.375 \n",
       "Q 19.28125 33.59375 26.515625 31.984375 \n",
       "L 29.59375 31.296875 \n",
       "Q 39.15625 29.25 43.1875 25.515625 \n",
       "Q 47.21875 21.78125 47.21875 15.09375 \n",
       "Q 47.21875 7.46875 41.1875 3.015625 \n",
       "Q 35.15625 -1.421875 24.609375 -1.421875 \n",
       "Q 20.21875 -1.421875 15.453125 -0.5625 \n",
       "Q 10.6875 0.296875 5.421875 2 \n",
       "L 5.421875 11.28125 \n",
       "Q 10.40625 8.6875 15.234375 7.390625 \n",
       "Q 20.0625 6.109375 24.8125 6.109375 \n",
       "Q 31.15625 6.109375 34.5625 8.28125 \n",
       "Q 37.984375 10.453125 37.984375 14.40625 \n",
       "Q 37.984375 18.0625 35.515625 20.015625 \n",
       "Q 33.0625 21.96875 24.703125 23.78125 \n",
       "L 21.578125 24.515625 \n",
       "Q 13.234375 26.265625 9.515625 29.90625 \n",
       "Q 5.8125 33.546875 5.8125 39.890625 \n",
       "Q 5.8125 47.609375 11.28125 51.796875 \n",
       "Q 16.75 56 26.8125 56 \n",
       "Q 31.78125 56 36.171875 55.265625 \n",
       "Q 40.578125 54.546875 44.28125 53.078125 \n",
       "z\n",
       "\" id=\"DejaVuSans-73\"/>\n",
       "      <path d=\"M 18.109375 8.203125 \n",
       "L 18.109375 -20.796875 \n",
       "L 9.078125 -20.796875 \n",
       "L 9.078125 54.6875 \n",
       "L 18.109375 54.6875 \n",
       "L 18.109375 46.390625 \n",
       "Q 20.953125 51.265625 25.265625 53.625 \n",
       "Q 29.59375 56 35.59375 56 \n",
       "Q 45.5625 56 51.78125 48.09375 \n",
       "Q 58.015625 40.1875 58.015625 27.296875 \n",
       "Q 58.015625 14.40625 51.78125 6.484375 \n",
       "Q 45.5625 -1.421875 35.59375 -1.421875 \n",
       "Q 29.59375 -1.421875 25.265625 0.953125 \n",
       "Q 20.953125 3.328125 18.109375 8.203125 \n",
       "z\n",
       "M 48.6875 27.296875 \n",
       "Q 48.6875 37.203125 44.609375 42.84375 \n",
       "Q 40.53125 48.484375 33.40625 48.484375 \n",
       "Q 26.265625 48.484375 22.1875 42.84375 \n",
       "Q 18.109375 37.203125 18.109375 27.296875 \n",
       "Q 18.109375 17.390625 22.1875 11.75 \n",
       "Q 26.265625 6.109375 33.40625 6.109375 \n",
       "Q 40.53125 6.109375 44.609375 11.75 \n",
       "Q 48.6875 17.390625 48.6875 27.296875 \n",
       "z\n",
       "\" id=\"DejaVuSans-70\"/>\n",
       "      <path d=\"M 41.109375 46.296875 \n",
       "Q 39.59375 47.171875 37.8125 47.578125 \n",
       "Q 36.03125 48 33.890625 48 \n",
       "Q 26.265625 48 22.1875 43.046875 \n",
       "Q 18.109375 38.09375 18.109375 28.8125 \n",
       "L 18.109375 0 \n",
       "L 9.078125 0 \n",
       "L 9.078125 54.6875 \n",
       "L 18.109375 54.6875 \n",
       "L 18.109375 46.1875 \n",
       "Q 20.953125 51.171875 25.484375 53.578125 \n",
       "Q 30.03125 56 36.53125 56 \n",
       "Q 37.453125 56 38.578125 55.875 \n",
       "Q 39.703125 55.765625 41.0625 55.515625 \n",
       "z\n",
       "\" id=\"DejaVuSans-72\"/>\n",
       "      <path d=\"M 45.40625 46.390625 \n",
       "L 45.40625 75.984375 \n",
       "L 54.390625 75.984375 \n",
       "L 54.390625 0 \n",
       "L 45.40625 0 \n",
       "L 45.40625 8.203125 \n",
       "Q 42.578125 3.328125 38.25 0.953125 \n",
       "Q 33.9375 -1.421875 27.875 -1.421875 \n",
       "Q 17.96875 -1.421875 11.734375 6.484375 \n",
       "Q 5.515625 14.40625 5.515625 27.296875 \n",
       "Q 5.515625 40.1875 11.734375 48.09375 \n",
       "Q 17.96875 56 27.875 56 \n",
       "Q 33.9375 56 38.25 53.625 \n",
       "Q 42.578125 51.265625 45.40625 46.390625 \n",
       "z\n",
       "M 14.796875 27.296875 \n",
       "Q 14.796875 17.390625 18.875 11.75 \n",
       "Q 22.953125 6.109375 30.078125 6.109375 \n",
       "Q 37.203125 6.109375 41.296875 11.75 \n",
       "Q 45.40625 17.390625 45.40625 27.296875 \n",
       "Q 45.40625 37.203125 41.296875 42.84375 \n",
       "Q 37.203125 48.484375 30.078125 48.484375 \n",
       "Q 22.953125 48.484375 18.875 42.84375 \n",
       "Q 14.796875 37.203125 14.796875 27.296875 \n",
       "z\n",
       "\" id=\"DejaVuSans-64\"/>\n",
       "      <path d=\"M 9.421875 54.6875 \n",
       "L 18.40625 54.6875 \n",
       "L 18.40625 0 \n",
       "L 9.421875 0 \n",
       "z\n",
       "M 9.421875 75.984375 \n",
       "L 18.40625 75.984375 \n",
       "L 18.40625 64.59375 \n",
       "L 9.421875 64.59375 \n",
       "z\n",
       "\" id=\"DejaVuSans-69\"/>\n",
       "      <path d=\"M 48.78125 52.59375 \n",
       "L 48.78125 44.1875 \n",
       "Q 44.96875 46.296875 41.140625 47.34375 \n",
       "Q 37.3125 48.390625 33.40625 48.390625 \n",
       "Q 24.65625 48.390625 19.8125 42.84375 \n",
       "Q 14.984375 37.3125 14.984375 27.296875 \n",
       "Q 14.984375 17.28125 19.8125 11.734375 \n",
       "Q 24.65625 6.203125 33.40625 6.203125 \n",
       "Q 37.3125 6.203125 41.140625 7.25 \n",
       "Q 44.96875 8.296875 48.78125 10.40625 \n",
       "L 48.78125 2.09375 \n",
       "Q 45.015625 0.34375 40.984375 -0.53125 \n",
       "Q 36.96875 -1.421875 32.421875 -1.421875 \n",
       "Q 20.0625 -1.421875 12.78125 6.34375 \n",
       "Q 5.515625 14.109375 5.515625 27.296875 \n",
       "Q 5.515625 40.671875 12.859375 48.328125 \n",
       "Q 20.21875 56 33.015625 56 \n",
       "Q 37.15625 56 41.109375 55.140625 \n",
       "Q 45.0625 54.296875 48.78125 52.59375 \n",
       "z\n",
       "\" id=\"DejaVuSans-63\"/>\n",
       "     </defs>\n",
       "     <g transform=\"translate(172.864844 268.034688)scale(0.1 -0.1)\">\n",
       "      <use xlink:href=\"#DejaVuSans-79\"/>\n",
       "      <use x=\"59.179688\" xlink:href=\"#DejaVuSans-5f\"/>\n",
       "      <use x=\"109.179688\" xlink:href=\"#DejaVuSans-74\"/>\n",
       "      <use x=\"148.388672\" xlink:href=\"#DejaVuSans-65\"/>\n",
       "      <use x=\"209.912109\" xlink:href=\"#DejaVuSans-73\"/>\n",
       "      <use x=\"262.011719\" xlink:href=\"#DejaVuSans-74\"/>\n",
       "      <use x=\"301.220703\" xlink:href=\"#DejaVuSans-5f\"/>\n",
       "      <use x=\"351.220703\" xlink:href=\"#DejaVuSans-70\"/>\n",
       "      <use x=\"414.697266\" xlink:href=\"#DejaVuSans-72\"/>\n",
       "      <use x=\"455.779297\" xlink:href=\"#DejaVuSans-65\"/>\n",
       "      <use x=\"517.302734\" xlink:href=\"#DejaVuSans-64\"/>\n",
       "      <use x=\"580.779297\" xlink:href=\"#DejaVuSans-69\"/>\n",
       "      <use x=\"608.5625\" xlink:href=\"#DejaVuSans-63\"/>\n",
       "      <use x=\"663.542969\" xlink:href=\"#DejaVuSans-74\"/>\n",
       "     </g>\n",
       "    </g>\n",
       "   </g>\n",
       "   <g id=\"matplotlib.axis_2\">\n",
       "    <g id=\"ytick_1\">\n",
       "     <g id=\"line2d_6\">\n",
       "      <defs>\n",
       "       <path d=\"M 0 0 \n",
       "L -3.5 0 \n",
       "\" id=\"med3dfa9444\" style=\"stroke:#000000;stroke-width:0.8;\"/>\n",
       "      </defs>\n",
       "      <g>\n",
       "       <use style=\"stroke:#000000;stroke-width:0.8;\" x=\"40.603125\" xlink:href=\"#med3dfa9444\" y=\"216.862824\"/>\n",
       "      </g>\n",
       "     </g>\n",
       "     <g id=\"text_7\">\n",
       "      <!-- 11 -->\n",
       "      <g transform=\"translate(20.878125 220.662042)scale(0.1 -0.1)\">\n",
       "       <use xlink:href=\"#DejaVuSans-31\"/>\n",
       "       <use x=\"63.623047\" xlink:href=\"#DejaVuSans-31\"/>\n",
       "      </g>\n",
       "     </g>\n",
       "    </g>\n",
       "    <g id=\"ytick_2\">\n",
       "     <g id=\"line2d_7\">\n",
       "      <g>\n",
       "       <use style=\"stroke:#000000;stroke-width:0.8;\" x=\"40.603125\" xlink:href=\"#med3dfa9444\" y=\"185.67192\"/>\n",
       "      </g>\n",
       "     </g>\n",
       "     <g id=\"text_8\">\n",
       "      <!-- 12 -->\n",
       "      <g transform=\"translate(20.878125 189.471139)scale(0.1 -0.1)\">\n",
       "       <use xlink:href=\"#DejaVuSans-31\"/>\n",
       "       <use x=\"63.623047\" xlink:href=\"#DejaVuSans-32\"/>\n",
       "      </g>\n",
       "     </g>\n",
       "    </g>\n",
       "    <g id=\"ytick_3\">\n",
       "     <g id=\"line2d_8\">\n",
       "      <g>\n",
       "       <use style=\"stroke:#000000;stroke-width:0.8;\" x=\"40.603125\" xlink:href=\"#med3dfa9444\" y=\"154.481017\"/>\n",
       "      </g>\n",
       "     </g>\n",
       "     <g id=\"text_9\">\n",
       "      <!-- 13 -->\n",
       "      <g transform=\"translate(20.878125 158.280236)scale(0.1 -0.1)\">\n",
       "       <use xlink:href=\"#DejaVuSans-31\"/>\n",
       "       <use x=\"63.623047\" xlink:href=\"#DejaVuSans-33\"/>\n",
       "      </g>\n",
       "     </g>\n",
       "    </g>\n",
       "    <g id=\"ytick_4\">\n",
       "     <g id=\"line2d_9\">\n",
       "      <g>\n",
       "       <use style=\"stroke:#000000;stroke-width:0.8;\" x=\"40.603125\" xlink:href=\"#med3dfa9444\" y=\"123.290113\"/>\n",
       "      </g>\n",
       "     </g>\n",
       "     <g id=\"text_10\">\n",
       "      <!-- 14 -->\n",
       "      <g transform=\"translate(20.878125 127.089332)scale(0.1 -0.1)\">\n",
       "       <use xlink:href=\"#DejaVuSans-31\"/>\n",
       "       <use x=\"63.623047\" xlink:href=\"#DejaVuSans-34\"/>\n",
       "      </g>\n",
       "     </g>\n",
       "    </g>\n",
       "    <g id=\"ytick_5\">\n",
       "     <g id=\"line2d_10\">\n",
       "      <g>\n",
       "       <use style=\"stroke:#000000;stroke-width:0.8;\" x=\"40.603125\" xlink:href=\"#med3dfa9444\" y=\"92.09921\"/>\n",
       "      </g>\n",
       "     </g>\n",
       "     <g id=\"text_11\">\n",
       "      <!-- 15 -->\n",
       "      <g transform=\"translate(20.878125 95.898429)scale(0.1 -0.1)\">\n",
       "       <use xlink:href=\"#DejaVuSans-31\"/>\n",
       "       <use x=\"63.623047\" xlink:href=\"#DejaVuSans-35\"/>\n",
       "      </g>\n",
       "     </g>\n",
       "    </g>\n",
       "    <g id=\"ytick_6\">\n",
       "     <g id=\"line2d_11\">\n",
       "      <g>\n",
       "       <use style=\"stroke:#000000;stroke-width:0.8;\" x=\"40.603125\" xlink:href=\"#med3dfa9444\" y=\"60.908307\"/>\n",
       "      </g>\n",
       "     </g>\n",
       "     <g id=\"text_12\">\n",
       "      <!-- 16 -->\n",
       "      <defs>\n",
       "       <path d=\"M 33.015625 40.375 \n",
       "Q 26.375 40.375 22.484375 35.828125 \n",
       "Q 18.609375 31.296875 18.609375 23.390625 \n",
       "Q 18.609375 15.53125 22.484375 10.953125 \n",
       "Q 26.375 6.390625 33.015625 6.390625 \n",
       "Q 39.65625 6.390625 43.53125 10.953125 \n",
       "Q 47.40625 15.53125 47.40625 23.390625 \n",
       "Q 47.40625 31.296875 43.53125 35.828125 \n",
       "Q 39.65625 40.375 33.015625 40.375 \n",
       "z\n",
       "M 52.59375 71.296875 \n",
       "L 52.59375 62.3125 \n",
       "Q 48.875 64.0625 45.09375 64.984375 \n",
       "Q 41.3125 65.921875 37.59375 65.921875 \n",
       "Q 27.828125 65.921875 22.671875 59.328125 \n",
       "Q 17.53125 52.734375 16.796875 39.40625 \n",
       "Q 19.671875 43.65625 24.015625 45.921875 \n",
       "Q 28.375 48.1875 33.59375 48.1875 \n",
       "Q 44.578125 48.1875 50.953125 41.515625 \n",
       "Q 57.328125 34.859375 57.328125 23.390625 \n",
       "Q 57.328125 12.15625 50.6875 5.359375 \n",
       "Q 44.046875 -1.421875 33.015625 -1.421875 \n",
       "Q 20.359375 -1.421875 13.671875 8.265625 \n",
       "Q 6.984375 17.96875 6.984375 36.375 \n",
       "Q 6.984375 53.65625 15.1875 63.9375 \n",
       "Q 23.390625 74.21875 37.203125 74.21875 \n",
       "Q 40.921875 74.21875 44.703125 73.484375 \n",
       "Q 48.484375 72.75 52.59375 71.296875 \n",
       "z\n",
       "\" id=\"DejaVuSans-36\"/>\n",
       "      </defs>\n",
       "      <g transform=\"translate(20.878125 64.707526)scale(0.1 -0.1)\">\n",
       "       <use xlink:href=\"#DejaVuSans-31\"/>\n",
       "       <use x=\"63.623047\" xlink:href=\"#DejaVuSans-36\"/>\n",
       "      </g>\n",
       "     </g>\n",
       "    </g>\n",
       "    <g id=\"ytick_7\">\n",
       "     <g id=\"line2d_12\">\n",
       "      <g>\n",
       "       <use style=\"stroke:#000000;stroke-width:0.8;\" x=\"40.603125\" xlink:href=\"#med3dfa9444\" y=\"29.717403\"/>\n",
       "      </g>\n",
       "     </g>\n",
       "     <g id=\"text_13\">\n",
       "      <!-- 17 -->\n",
       "      <defs>\n",
       "       <path d=\"M 8.203125 72.90625 \n",
       "L 55.078125 72.90625 \n",
       "L 55.078125 68.703125 \n",
       "L 28.609375 0 \n",
       "L 18.3125 0 \n",
       "L 43.21875 64.59375 \n",
       "L 8.203125 64.59375 \n",
       "z\n",
       "\" id=\"DejaVuSans-37\"/>\n",
       "      </defs>\n",
       "      <g transform=\"translate(20.878125 33.516622)scale(0.1 -0.1)\">\n",
       "       <use xlink:href=\"#DejaVuSans-31\"/>\n",
       "       <use x=\"63.623047\" xlink:href=\"#DejaVuSans-37\"/>\n",
       "      </g>\n",
       "     </g>\n",
       "    </g>\n",
       "    <g id=\"text_14\">\n",
       "     <!-- y_test -->\n",
       "     <g transform=\"translate(14.520313 146.099063)rotate(-90)scale(0.1 -0.1)\">\n",
       "      <use xlink:href=\"#DejaVuSans-79\"/>\n",
       "      <use x=\"59.179688\" xlink:href=\"#DejaVuSans-5f\"/>\n",
       "      <use x=\"109.179688\" xlink:href=\"#DejaVuSans-74\"/>\n",
       "      <use x=\"148.388672\" xlink:href=\"#DejaVuSans-65\"/>\n",
       "      <use x=\"209.912109\" xlink:href=\"#DejaVuSans-73\"/>\n",
       "      <use x=\"262.011719\" xlink:href=\"#DejaVuSans-74\"/>\n",
       "     </g>\n",
       "    </g>\n",
       "   </g>\n",
       "   <g id=\"patch_3\">\n",
       "    <path d=\"M 40.603125 239.758125 \n",
       "L 40.603125 22.318125 \n",
       "\" style=\"fill:none;stroke:#000000;stroke-linecap:square;stroke-linejoin:miter;stroke-width:0.8;\"/>\n",
       "   </g>\n",
       "   <g id=\"patch_4\">\n",
       "    <path d=\"M 375.403125 239.758125 \n",
       "L 375.403125 22.318125 \n",
       "\" style=\"fill:none;stroke:#000000;stroke-linecap:square;stroke-linejoin:miter;stroke-width:0.8;\"/>\n",
       "   </g>\n",
       "   <g id=\"patch_5\">\n",
       "    <path d=\"M 40.603125 239.758125 \n",
       "L 375.403125 239.758125 \n",
       "\" style=\"fill:none;stroke:#000000;stroke-linecap:square;stroke-linejoin:miter;stroke-width:0.8;\"/>\n",
       "   </g>\n",
       "   <g id=\"patch_6\">\n",
       "    <path d=\"M 40.603125 22.318125 \n",
       "L 375.403125 22.318125 \n",
       "\" style=\"fill:none;stroke:#000000;stroke-linecap:square;stroke-linejoin:miter;stroke-width:0.8;\"/>\n",
       "   </g>\n",
       "   <g id=\"text_15\">\n",
       "    <!-- Predicting maximum player salary (log) with batting avg. -->\n",
       "    <defs>\n",
       "     <path d=\"M 19.671875 64.796875 \n",
       "L 19.671875 37.40625 \n",
       "L 32.078125 37.40625 \n",
       "Q 38.96875 37.40625 42.71875 40.96875 \n",
       "Q 46.484375 44.53125 46.484375 51.125 \n",
       "Q 46.484375 57.671875 42.71875 61.234375 \n",
       "Q 38.96875 64.796875 32.078125 64.796875 \n",
       "z\n",
       "M 9.8125 72.90625 \n",
       "L 32.078125 72.90625 \n",
       "Q 44.34375 72.90625 50.609375 67.359375 \n",
       "Q 56.890625 61.8125 56.890625 51.125 \n",
       "Q 56.890625 40.328125 50.609375 34.8125 \n",
       "Q 44.34375 29.296875 32.078125 29.296875 \n",
       "L 19.671875 29.296875 \n",
       "L 19.671875 0 \n",
       "L 9.8125 0 \n",
       "z\n",
       "\" id=\"DejaVuSans-50\"/>\n",
       "     <path d=\"M 54.890625 33.015625 \n",
       "L 54.890625 0 \n",
       "L 45.90625 0 \n",
       "L 45.90625 32.71875 \n",
       "Q 45.90625 40.484375 42.875 44.328125 \n",
       "Q 39.84375 48.1875 33.796875 48.1875 \n",
       "Q 26.515625 48.1875 22.3125 43.546875 \n",
       "Q 18.109375 38.921875 18.109375 30.90625 \n",
       "L 18.109375 0 \n",
       "L 9.078125 0 \n",
       "L 9.078125 54.6875 \n",
       "L 18.109375 54.6875 \n",
       "L 18.109375 46.1875 \n",
       "Q 21.34375 51.125 25.703125 53.5625 \n",
       "Q 30.078125 56 35.796875 56 \n",
       "Q 45.21875 56 50.046875 50.171875 \n",
       "Q 54.890625 44.34375 54.890625 33.015625 \n",
       "z\n",
       "\" id=\"DejaVuSans-6e\"/>\n",
       "     <path d=\"M 45.40625 27.984375 \n",
       "Q 45.40625 37.75 41.375 43.109375 \n",
       "Q 37.359375 48.484375 30.078125 48.484375 \n",
       "Q 22.859375 48.484375 18.828125 43.109375 \n",
       "Q 14.796875 37.75 14.796875 27.984375 \n",
       "Q 14.796875 18.265625 18.828125 12.890625 \n",
       "Q 22.859375 7.515625 30.078125 7.515625 \n",
       "Q 37.359375 7.515625 41.375 12.890625 \n",
       "Q 45.40625 18.265625 45.40625 27.984375 \n",
       "z\n",
       "M 54.390625 6.78125 \n",
       "Q 54.390625 -7.171875 48.1875 -13.984375 \n",
       "Q 42 -20.796875 29.203125 -20.796875 \n",
       "Q 24.46875 -20.796875 20.265625 -20.09375 \n",
       "Q 16.0625 -19.390625 12.109375 -17.921875 \n",
       "L 12.109375 -9.1875 \n",
       "Q 16.0625 -11.328125 19.921875 -12.34375 \n",
       "Q 23.78125 -13.375 27.78125 -13.375 \n",
       "Q 36.625 -13.375 41.015625 -8.765625 \n",
       "Q 45.40625 -4.15625 45.40625 5.171875 \n",
       "L 45.40625 9.625 \n",
       "Q 42.625 4.78125 38.28125 2.390625 \n",
       "Q 33.9375 0 27.875 0 \n",
       "Q 17.828125 0 11.671875 7.65625 \n",
       "Q 5.515625 15.328125 5.515625 27.984375 \n",
       "Q 5.515625 40.671875 11.671875 48.328125 \n",
       "Q 17.828125 56 27.875 56 \n",
       "Q 33.9375 56 38.28125 53.609375 \n",
       "Q 42.625 51.21875 45.40625 46.390625 \n",
       "L 45.40625 54.6875 \n",
       "L 54.390625 54.6875 \n",
       "z\n",
       "\" id=\"DejaVuSans-67\"/>\n",
       "     <path id=\"DejaVuSans-20\"/>\n",
       "     <path d=\"M 52 44.1875 \n",
       "Q 55.375 50.25 60.0625 53.125 \n",
       "Q 64.75 56 71.09375 56 \n",
       "Q 79.640625 56 84.28125 50.015625 \n",
       "Q 88.921875 44.046875 88.921875 33.015625 \n",
       "L 88.921875 0 \n",
       "L 79.890625 0 \n",
       "L 79.890625 32.71875 \n",
       "Q 79.890625 40.578125 77.09375 44.375 \n",
       "Q 74.3125 48.1875 68.609375 48.1875 \n",
       "Q 61.625 48.1875 57.5625 43.546875 \n",
       "Q 53.515625 38.921875 53.515625 30.90625 \n",
       "L 53.515625 0 \n",
       "L 44.484375 0 \n",
       "L 44.484375 32.71875 \n",
       "Q 44.484375 40.625 41.703125 44.40625 \n",
       "Q 38.921875 48.1875 33.109375 48.1875 \n",
       "Q 26.21875 48.1875 22.15625 43.53125 \n",
       "Q 18.109375 38.875 18.109375 30.90625 \n",
       "L 18.109375 0 \n",
       "L 9.078125 0 \n",
       "L 9.078125 54.6875 \n",
       "L 18.109375 54.6875 \n",
       "L 18.109375 46.1875 \n",
       "Q 21.1875 51.21875 25.484375 53.609375 \n",
       "Q 29.78125 56 35.6875 56 \n",
       "Q 41.65625 56 45.828125 52.96875 \n",
       "Q 50 49.953125 52 44.1875 \n",
       "z\n",
       "\" id=\"DejaVuSans-6d\"/>\n",
       "     <path d=\"M 34.28125 27.484375 \n",
       "Q 23.390625 27.484375 19.1875 25 \n",
       "Q 14.984375 22.515625 14.984375 16.5 \n",
       "Q 14.984375 11.71875 18.140625 8.90625 \n",
       "Q 21.296875 6.109375 26.703125 6.109375 \n",
       "Q 34.1875 6.109375 38.703125 11.40625 \n",
       "Q 43.21875 16.703125 43.21875 25.484375 \n",
       "L 43.21875 27.484375 \n",
       "z\n",
       "M 52.203125 31.203125 \n",
       "L 52.203125 0 \n",
       "L 43.21875 0 \n",
       "L 43.21875 8.296875 \n",
       "Q 40.140625 3.328125 35.546875 0.953125 \n",
       "Q 30.953125 -1.421875 24.3125 -1.421875 \n",
       "Q 15.921875 -1.421875 10.953125 3.296875 \n",
       "Q 6 8.015625 6 15.921875 \n",
       "Q 6 25.140625 12.171875 29.828125 \n",
       "Q 18.359375 34.515625 30.609375 34.515625 \n",
       "L 43.21875 34.515625 \n",
       "L 43.21875 35.40625 \n",
       "Q 43.21875 41.609375 39.140625 45 \n",
       "Q 35.0625 48.390625 27.6875 48.390625 \n",
       "Q 23 48.390625 18.546875 47.265625 \n",
       "Q 14.109375 46.140625 10.015625 43.890625 \n",
       "L 10.015625 52.203125 \n",
       "Q 14.9375 54.109375 19.578125 55.046875 \n",
       "Q 24.21875 56 28.609375 56 \n",
       "Q 40.484375 56 46.34375 49.84375 \n",
       "Q 52.203125 43.703125 52.203125 31.203125 \n",
       "z\n",
       "\" id=\"DejaVuSans-61\"/>\n",
       "     <path d=\"M 54.890625 54.6875 \n",
       "L 35.109375 28.078125 \n",
       "L 55.90625 0 \n",
       "L 45.3125 0 \n",
       "L 29.390625 21.484375 \n",
       "L 13.484375 0 \n",
       "L 2.875 0 \n",
       "L 24.125 28.609375 \n",
       "L 4.6875 54.6875 \n",
       "L 15.28125 54.6875 \n",
       "L 29.78125 35.203125 \n",
       "L 44.28125 54.6875 \n",
       "z\n",
       "\" id=\"DejaVuSans-78\"/>\n",
       "     <path d=\"M 8.5 21.578125 \n",
       "L 8.5 54.6875 \n",
       "L 17.484375 54.6875 \n",
       "L 17.484375 21.921875 \n",
       "Q 17.484375 14.15625 20.5 10.265625 \n",
       "Q 23.53125 6.390625 29.59375 6.390625 \n",
       "Q 36.859375 6.390625 41.078125 11.03125 \n",
       "Q 45.3125 15.671875 45.3125 23.6875 \n",
       "L 45.3125 54.6875 \n",
       "L 54.296875 54.6875 \n",
       "L 54.296875 0 \n",
       "L 45.3125 0 \n",
       "L 45.3125 8.40625 \n",
       "Q 42.046875 3.421875 37.71875 1 \n",
       "Q 33.40625 -1.421875 27.6875 -1.421875 \n",
       "Q 18.265625 -1.421875 13.375 4.4375 \n",
       "Q 8.5 10.296875 8.5 21.578125 \n",
       "z\n",
       "M 31.109375 56 \n",
       "z\n",
       "\" id=\"DejaVuSans-75\"/>\n",
       "     <path d=\"M 9.421875 75.984375 \n",
       "L 18.40625 75.984375 \n",
       "L 18.40625 0 \n",
       "L 9.421875 0 \n",
       "z\n",
       "\" id=\"DejaVuSans-6c\"/>\n",
       "     <path d=\"M 31 75.875 \n",
       "Q 24.46875 64.65625 21.28125 53.65625 \n",
       "Q 18.109375 42.671875 18.109375 31.390625 \n",
       "Q 18.109375 20.125 21.3125 9.0625 \n",
       "Q 24.515625 -2 31 -13.1875 \n",
       "L 23.1875 -13.1875 \n",
       "Q 15.875 -1.703125 12.234375 9.375 \n",
       "Q 8.59375 20.453125 8.59375 31.390625 \n",
       "Q 8.59375 42.28125 12.203125 53.3125 \n",
       "Q 15.828125 64.359375 23.1875 75.875 \n",
       "z\n",
       "\" id=\"DejaVuSans-28\"/>\n",
       "     <path d=\"M 30.609375 48.390625 \n",
       "Q 23.390625 48.390625 19.1875 42.75 \n",
       "Q 14.984375 37.109375 14.984375 27.296875 \n",
       "Q 14.984375 17.484375 19.15625 11.84375 \n",
       "Q 23.34375 6.203125 30.609375 6.203125 \n",
       "Q 37.796875 6.203125 41.984375 11.859375 \n",
       "Q 46.1875 17.53125 46.1875 27.296875 \n",
       "Q 46.1875 37.015625 41.984375 42.703125 \n",
       "Q 37.796875 48.390625 30.609375 48.390625 \n",
       "z\n",
       "M 30.609375 56 \n",
       "Q 42.328125 56 49.015625 48.375 \n",
       "Q 55.71875 40.765625 55.71875 27.296875 \n",
       "Q 55.71875 13.875 49.015625 6.21875 \n",
       "Q 42.328125 -1.421875 30.609375 -1.421875 \n",
       "Q 18.84375 -1.421875 12.171875 6.21875 \n",
       "Q 5.515625 13.875 5.515625 27.296875 \n",
       "Q 5.515625 40.765625 12.171875 48.375 \n",
       "Q 18.84375 56 30.609375 56 \n",
       "z\n",
       "\" id=\"DejaVuSans-6f\"/>\n",
       "     <path d=\"M 8.015625 75.875 \n",
       "L 15.828125 75.875 \n",
       "Q 23.140625 64.359375 26.78125 53.3125 \n",
       "Q 30.421875 42.28125 30.421875 31.390625 \n",
       "Q 30.421875 20.453125 26.78125 9.375 \n",
       "Q 23.140625 -1.703125 15.828125 -13.1875 \n",
       "L 8.015625 -13.1875 \n",
       "Q 14.5 -2 17.703125 9.0625 \n",
       "Q 20.90625 20.125 20.90625 31.390625 \n",
       "Q 20.90625 42.671875 17.703125 53.65625 \n",
       "Q 14.5 64.65625 8.015625 75.875 \n",
       "z\n",
       "\" id=\"DejaVuSans-29\"/>\n",
       "     <path d=\"M 4.203125 54.6875 \n",
       "L 13.1875 54.6875 \n",
       "L 24.421875 12.015625 \n",
       "L 35.59375 54.6875 \n",
       "L 46.1875 54.6875 \n",
       "L 57.421875 12.015625 \n",
       "L 68.609375 54.6875 \n",
       "L 77.59375 54.6875 \n",
       "L 63.28125 0 \n",
       "L 52.6875 0 \n",
       "L 40.921875 44.828125 \n",
       "L 29.109375 0 \n",
       "L 18.5 0 \n",
       "z\n",
       "\" id=\"DejaVuSans-77\"/>\n",
       "     <path d=\"M 54.890625 33.015625 \n",
       "L 54.890625 0 \n",
       "L 45.90625 0 \n",
       "L 45.90625 32.71875 \n",
       "Q 45.90625 40.484375 42.875 44.328125 \n",
       "Q 39.84375 48.1875 33.796875 48.1875 \n",
       "Q 26.515625 48.1875 22.3125 43.546875 \n",
       "Q 18.109375 38.921875 18.109375 30.90625 \n",
       "L 18.109375 0 \n",
       "L 9.078125 0 \n",
       "L 9.078125 75.984375 \n",
       "L 18.109375 75.984375 \n",
       "L 18.109375 46.1875 \n",
       "Q 21.34375 51.125 25.703125 53.5625 \n",
       "Q 30.078125 56 35.796875 56 \n",
       "Q 45.21875 56 50.046875 50.171875 \n",
       "Q 54.890625 44.34375 54.890625 33.015625 \n",
       "z\n",
       "\" id=\"DejaVuSans-68\"/>\n",
       "     <path d=\"M 48.6875 27.296875 \n",
       "Q 48.6875 37.203125 44.609375 42.84375 \n",
       "Q 40.53125 48.484375 33.40625 48.484375 \n",
       "Q 26.265625 48.484375 22.1875 42.84375 \n",
       "Q 18.109375 37.203125 18.109375 27.296875 \n",
       "Q 18.109375 17.390625 22.1875 11.75 \n",
       "Q 26.265625 6.109375 33.40625 6.109375 \n",
       "Q 40.53125 6.109375 44.609375 11.75 \n",
       "Q 48.6875 17.390625 48.6875 27.296875 \n",
       "z\n",
       "M 18.109375 46.390625 \n",
       "Q 20.953125 51.265625 25.265625 53.625 \n",
       "Q 29.59375 56 35.59375 56 \n",
       "Q 45.5625 56 51.78125 48.09375 \n",
       "Q 58.015625 40.1875 58.015625 27.296875 \n",
       "Q 58.015625 14.40625 51.78125 6.484375 \n",
       "Q 45.5625 -1.421875 35.59375 -1.421875 \n",
       "Q 29.59375 -1.421875 25.265625 0.953125 \n",
       "Q 20.953125 3.328125 18.109375 8.203125 \n",
       "L 18.109375 0 \n",
       "L 9.078125 0 \n",
       "L 9.078125 75.984375 \n",
       "L 18.109375 75.984375 \n",
       "z\n",
       "\" id=\"DejaVuSans-62\"/>\n",
       "     <path d=\"M 2.984375 54.6875 \n",
       "L 12.5 54.6875 \n",
       "L 29.59375 8.796875 \n",
       "L 46.6875 54.6875 \n",
       "L 56.203125 54.6875 \n",
       "L 35.6875 0 \n",
       "L 23.484375 0 \n",
       "z\n",
       "\" id=\"DejaVuSans-76\"/>\n",
       "    </defs>\n",
       "    <g transform=\"translate(36.248437 16.318125)scale(0.12 -0.12)\">\n",
       "     <use xlink:href=\"#DejaVuSans-50\"/>\n",
       "     <use x=\"60.287109\" xlink:href=\"#DejaVuSans-72\"/>\n",
       "     <use x=\"101.369141\" xlink:href=\"#DejaVuSans-65\"/>\n",
       "     <use x=\"162.892578\" xlink:href=\"#DejaVuSans-64\"/>\n",
       "     <use x=\"226.369141\" xlink:href=\"#DejaVuSans-69\"/>\n",
       "     <use x=\"254.152344\" xlink:href=\"#DejaVuSans-63\"/>\n",
       "     <use x=\"309.132812\" xlink:href=\"#DejaVuSans-74\"/>\n",
       "     <use x=\"348.341797\" xlink:href=\"#DejaVuSans-69\"/>\n",
       "     <use x=\"376.125\" xlink:href=\"#DejaVuSans-6e\"/>\n",
       "     <use x=\"439.503906\" xlink:href=\"#DejaVuSans-67\"/>\n",
       "     <use x=\"502.980469\" xlink:href=\"#DejaVuSans-20\"/>\n",
       "     <use x=\"534.767578\" xlink:href=\"#DejaVuSans-6d\"/>\n",
       "     <use x=\"632.179688\" xlink:href=\"#DejaVuSans-61\"/>\n",
       "     <use x=\"693.458984\" xlink:href=\"#DejaVuSans-78\"/>\n",
       "     <use x=\"752.638672\" xlink:href=\"#DejaVuSans-69\"/>\n",
       "     <use x=\"780.421875\" xlink:href=\"#DejaVuSans-6d\"/>\n",
       "     <use x=\"877.833984\" xlink:href=\"#DejaVuSans-75\"/>\n",
       "     <use x=\"941.212891\" xlink:href=\"#DejaVuSans-6d\"/>\n",
       "     <use x=\"1038.625\" xlink:href=\"#DejaVuSans-20\"/>\n",
       "     <use x=\"1070.412109\" xlink:href=\"#DejaVuSans-70\"/>\n",
       "     <use x=\"1133.888672\" xlink:href=\"#DejaVuSans-6c\"/>\n",
       "     <use x=\"1161.671875\" xlink:href=\"#DejaVuSans-61\"/>\n",
       "     <use x=\"1222.951172\" xlink:href=\"#DejaVuSans-79\"/>\n",
       "     <use x=\"1282.130859\" xlink:href=\"#DejaVuSans-65\"/>\n",
       "     <use x=\"1343.654297\" xlink:href=\"#DejaVuSans-72\"/>\n",
       "     <use x=\"1384.767578\" xlink:href=\"#DejaVuSans-20\"/>\n",
       "     <use x=\"1416.554688\" xlink:href=\"#DejaVuSans-73\"/>\n",
       "     <use x=\"1468.654297\" xlink:href=\"#DejaVuSans-61\"/>\n",
       "     <use x=\"1529.933594\" xlink:href=\"#DejaVuSans-6c\"/>\n",
       "     <use x=\"1557.716797\" xlink:href=\"#DejaVuSans-61\"/>\n",
       "     <use x=\"1618.996094\" xlink:href=\"#DejaVuSans-72\"/>\n",
       "     <use x=\"1660.109375\" xlink:href=\"#DejaVuSans-79\"/>\n",
       "     <use x=\"1719.289062\" xlink:href=\"#DejaVuSans-20\"/>\n",
       "     <use x=\"1751.076172\" xlink:href=\"#DejaVuSans-28\"/>\n",
       "     <use x=\"1790.089844\" xlink:href=\"#DejaVuSans-6c\"/>\n",
       "     <use x=\"1817.873047\" xlink:href=\"#DejaVuSans-6f\"/>\n",
       "     <use x=\"1879.054688\" xlink:href=\"#DejaVuSans-67\"/>\n",
       "     <use x=\"1942.53125\" xlink:href=\"#DejaVuSans-29\"/>\n",
       "     <use x=\"1981.544922\" xlink:href=\"#DejaVuSans-20\"/>\n",
       "     <use x=\"2013.332031\" xlink:href=\"#DejaVuSans-77\"/>\n",
       "     <use x=\"2095.119141\" xlink:href=\"#DejaVuSans-69\"/>\n",
       "     <use x=\"2122.902344\" xlink:href=\"#DejaVuSans-74\"/>\n",
       "     <use x=\"2162.111328\" xlink:href=\"#DejaVuSans-68\"/>\n",
       "     <use x=\"2225.490234\" xlink:href=\"#DejaVuSans-20\"/>\n",
       "     <use x=\"2257.277344\" xlink:href=\"#DejaVuSans-62\"/>\n",
       "     <use x=\"2320.753906\" xlink:href=\"#DejaVuSans-61\"/>\n",
       "     <use x=\"2382.033203\" xlink:href=\"#DejaVuSans-74\"/>\n",
       "     <use x=\"2421.242188\" xlink:href=\"#DejaVuSans-74\"/>\n",
       "     <use x=\"2460.451172\" xlink:href=\"#DejaVuSans-69\"/>\n",
       "     <use x=\"2488.234375\" xlink:href=\"#DejaVuSans-6e\"/>\n",
       "     <use x=\"2551.613281\" xlink:href=\"#DejaVuSans-67\"/>\n",
       "     <use x=\"2615.089844\" xlink:href=\"#DejaVuSans-20\"/>\n",
       "     <use x=\"2646.876953\" xlink:href=\"#DejaVuSans-61\"/>\n",
       "     <use x=\"2708.15625\" xlink:href=\"#DejaVuSans-76\"/>\n",
       "     <use x=\"2767.335938\" xlink:href=\"#DejaVuSans-67\"/>\n",
       "     <use x=\"2830.8125\" xlink:href=\"#DejaVuSans-2e\"/>\n",
       "    </g>\n",
       "   </g>\n",
       "  </g>\n",
       " </g>\n",
       " <defs>\n",
       "  <clipPath id=\"pff65415211\">\n",
       "   <rect height=\"217.44\" width=\"334.8\" x=\"40.603125\" y=\"22.318125\"/>\n",
       "  </clipPath>\n",
       " </defs>\n",
       "</svg>\n"
      ],
      "text/plain": [
       "<Figure size 432x288 with 1 Axes>"
      ]
     },
     "metadata": {},
     "output_type": "display_data"
    }
   ],
   "source": [
    "# plt.scatter(X_train, y_train)\n",
    "plt.scatter(model.predict(X_test),y_test, alpha=0.5)\n",
    "plt.xlabel('y_test_predict')\n",
    "plt.ylabel('y_test')\n",
    "plt.title('Predicting maximum player salary (log) with batting avg.')\n",
    "plt.savefig('MVP.png');"
   ]
  },
  {
   "cell_type": "code",
   "execution_count": null,
   "metadata": {},
   "outputs": [],
   "source": [
    "rookie_player_pages = pd.read_csv('data/rookie_player_pages.csv', index_col=0)"
   ]
  },
  {
   "cell_type": "code",
   "execution_count": null,
   "metadata": {},
   "outputs": [],
   "source": [
    "rookie_player_pages[rookie_player_pages.html.isnull() == False].shape"
   ]
  },
  {
   "cell_type": "code",
   "execution_count": null,
   "metadata": {},
   "outputs": [],
   "source": [
    "scrapped_rookie_players = rookie_player_pages[rookie_player_pages.html.isnull() == False]\n",
    "scrapped_rookie_players.reset_index(inplace=True)"
   ]
  },
  {
   "cell_type": "code",
   "execution_count": null,
   "metadata": {},
   "outputs": [],
   "source": [
    "df.loc[df.Salary == '', 'Salary'] = np.nan\n",
    "df.Salary = df.Salary.astype(float)\n",
    "df"
   ]
  },
  {
   "cell_type": "code",
   "execution_count": null,
   "metadata": {},
   "outputs": [],
   "source": [
    "df = bb.load_salary_data(scrapped_rookie_players)"
   ]
  },
  {
   "cell_type": "code",
   "execution_count": null,
   "metadata": {},
   "outputs": [],
   "source": [
    "df.head()"
   ]
  },
  {
   "cell_type": "code",
   "execution_count": null,
   "metadata": {},
   "outputs": [],
   "source": [
    "# import time\n",
    "start = time.time()\n",
    "df = bb.load_salary_data(scrapped_rookie_players)\n",
    "end = time.time()\n",
    "print(end-start)"
   ]
  },
  {
   "cell_type": "code",
   "execution_count": null,
   "metadata": {},
   "outputs": [],
   "source": [
    "min_year = df.groupby(['name','UID'])['Year'].min()\n",
    "max_year = df.groupby(['name','UID'])['Year'].max()\n",
    "join_year = pd.concat([min_year, max_year],axis=1)\n",
    "join_year.columns = ['min_year','max_year']\n",
    "join_year['year_diff'] = join_year.max_year.astype(int) - join_year.min_year.astype(int)\n",
    "join_year[join_year.year_diff >= 6]"
   ]
  },
  {
   "cell_type": "code",
   "execution_count": null,
   "metadata": {},
   "outputs": [],
   "source": [
    "df.name.value_counts().head()"
   ]
  },
  {
   "cell_type": "code",
   "execution_count": null,
   "metadata": {},
   "outputs": [],
   "source": [
    "df[df.name=='Mike Figga']"
   ]
  },
  {
   "cell_type": "code",
   "execution_count": null,
   "metadata": {},
   "outputs": [],
   "source": [
    "rookie_player_pages[rookie_player_pages.name == 'Matt Luke'].link[87]"
   ]
  },
  {
   "cell_type": "code",
   "execution_count": null,
   "metadata": {},
   "outputs": [],
   "source": []
  },
  {
   "cell_type": "code",
   "execution_count": null,
   "metadata": {},
   "outputs": [],
   "source": []
  },
  {
   "cell_type": "code",
   "execution_count": null,
   "metadata": {},
   "outputs": [],
   "source": [
    "team = batting_df[batting_df.Year == '1998'].Tm\n",
    "team.str.contains('-min')"
   ]
  },
  {
   "cell_type": "code",
   "execution_count": null,
   "metadata": {},
   "outputs": [],
   "source": []
  },
  {
   "cell_type": "code",
   "execution_count": null,
   "metadata": {},
   "outputs": [],
   "source": [
    "df[~df.Tm.str.contains('-min')]\n",
    "~df.Tm.str.contains('-min',regex=False)"
   ]
  },
  {
   "cell_type": "code",
   "execution_count": null,
   "metadata": {},
   "outputs": [],
   "source": [
    "df"
   ]
  },
  {
   "cell_type": "code",
   "execution_count": null,
   "metadata": {},
   "outputs": [],
   "source": [
    "# rookie_player_pages.reset_index(inplace=True)\n",
    "url = rookie_player_pages.html[0]\n",
    "soup_players = BeautifulSoup(url, 'lxml')\n",
    "year = str(rookie_player_pages.year[0])\n",
    "name = str(rookie_player_pages.name[0])\n",
    "\n",
    "# position = soup_players.find('p')\n",
    "# position\n",
    "# url\n",
    "# position = position.contents[2].strip()\n",
    "get_player_data(soup_players, year, name)"
   ]
  },
  {
   "cell_type": "code",
   "execution_count": null,
   "metadata": {},
   "outputs": [],
   "source": [
    "rookie_df = build_rookie_table(rookie_pages, rookie_player_pages)\n",
    "# rookie_df.reset_index()\n",
    "# rookie_pages.loc[1998,:]"
   ]
  },
  {
   "cell_type": "code",
   "execution_count": null,
   "metadata": {},
   "outputs": [],
   "source": [
    "rookie_df.sample(10)"
   ]
  }
 ],
 "metadata": {
  "kernelspec": {
   "display_name": "Python 3",
   "language": "python",
   "name": "python3"
  },
  "language_info": {
   "codemirror_mode": {
    "name": "ipython",
    "version": 3
   },
   "file_extension": ".py",
   "mimetype": "text/x-python",
   "name": "python",
   "nbconvert_exporter": "python",
   "pygments_lexer": "ipython3",
   "version": "3.6.5"
  }
 },
 "nbformat": 4,
 "nbformat_minor": 2
}
